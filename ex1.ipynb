{
 "cells": [
  {
   "cell_type": "markdown",
   "metadata": {},
   "source": [
    "## Исследование надёжности заёмщиков\n",
    "\n",
    "Заказчик — кредитный отдел банка. Нужно разобраться, влияет ли семейное положение и количество детей клиента на факт погашения кредита в срок. Входные данные от банка — статистика о платёжеспособности клиентов.\n",
    "\n",
    "Результаты исследования будут учтены при построении модели **кредитного скоринга** — специальной системы, которая оценивает способность потенциального заёмщика вернуть кредит банку."
   ]
  },
  {
   "cell_type": "markdown",
   "metadata": {},
   "source": [
    "### Шаг 1. Откройте файл с данными и изучите общую информацию. "
   ]
  },
  {
   "cell_type": "code",
   "execution_count": 3,
   "metadata": {
    "scrolled": true
   },
   "outputs": [
    {
     "name": "stdout",
     "output_type": "stream",
     "text": [
      "<class 'pandas.core.frame.DataFrame'>\n",
      "RangeIndex: 21525 entries, 0 to 21524\n",
      "Data columns (total 12 columns):\n",
      "children            21525 non-null int64\n",
      "days_employed       19351 non-null float64\n",
      "dob_years           21525 non-null int64\n",
      "education           21525 non-null object\n",
      "education_id        21525 non-null int64\n",
      "family_status       21525 non-null object\n",
      "family_status_id    21525 non-null int64\n",
      "gender              21525 non-null object\n",
      "income_type         21525 non-null object\n",
      "debt                21525 non-null int64\n",
      "total_income        19351 non-null float64\n",
      "purpose             21525 non-null object\n",
      "dtypes: float64(2), int64(5), object(5)\n",
      "memory usage: 2.0+ MB\n",
      "None\n"
     ]
    },
    {
     "data": {
      "text/html": [
       "<div>\n",
       "<style scoped>\n",
       "    .dataframe tbody tr th:only-of-type {\n",
       "        vertical-align: middle;\n",
       "    }\n",
       "\n",
       "    .dataframe tbody tr th {\n",
       "        vertical-align: top;\n",
       "    }\n",
       "\n",
       "    .dataframe thead th {\n",
       "        text-align: right;\n",
       "    }\n",
       "</style>\n",
       "<table border=\"1\" class=\"dataframe\">\n",
       "  <thead>\n",
       "    <tr style=\"text-align: right;\">\n",
       "      <th></th>\n",
       "      <th>children</th>\n",
       "      <th>days_employed</th>\n",
       "      <th>dob_years</th>\n",
       "      <th>education</th>\n",
       "      <th>education_id</th>\n",
       "      <th>family_status</th>\n",
       "      <th>family_status_id</th>\n",
       "      <th>gender</th>\n",
       "      <th>income_type</th>\n",
       "      <th>debt</th>\n",
       "      <th>total_income</th>\n",
       "      <th>purpose</th>\n",
       "    </tr>\n",
       "  </thead>\n",
       "  <tbody>\n",
       "    <tr>\n",
       "      <td>0</td>\n",
       "      <td>1</td>\n",
       "      <td>-8437.673028</td>\n",
       "      <td>42</td>\n",
       "      <td>высшее</td>\n",
       "      <td>0</td>\n",
       "      <td>женат / замужем</td>\n",
       "      <td>0</td>\n",
       "      <td>F</td>\n",
       "      <td>сотрудник</td>\n",
       "      <td>0</td>\n",
       "      <td>253875.639453</td>\n",
       "      <td>покупка жилья</td>\n",
       "    </tr>\n",
       "    <tr>\n",
       "      <td>1</td>\n",
       "      <td>1</td>\n",
       "      <td>-4024.803754</td>\n",
       "      <td>36</td>\n",
       "      <td>среднее</td>\n",
       "      <td>1</td>\n",
       "      <td>женат / замужем</td>\n",
       "      <td>0</td>\n",
       "      <td>F</td>\n",
       "      <td>сотрудник</td>\n",
       "      <td>0</td>\n",
       "      <td>112080.014102</td>\n",
       "      <td>приобретение автомобиля</td>\n",
       "    </tr>\n",
       "    <tr>\n",
       "      <td>2</td>\n",
       "      <td>0</td>\n",
       "      <td>-5623.422610</td>\n",
       "      <td>33</td>\n",
       "      <td>Среднее</td>\n",
       "      <td>1</td>\n",
       "      <td>женат / замужем</td>\n",
       "      <td>0</td>\n",
       "      <td>M</td>\n",
       "      <td>сотрудник</td>\n",
       "      <td>0</td>\n",
       "      <td>145885.952297</td>\n",
       "      <td>покупка жилья</td>\n",
       "    </tr>\n",
       "    <tr>\n",
       "      <td>3</td>\n",
       "      <td>3</td>\n",
       "      <td>-4124.747207</td>\n",
       "      <td>32</td>\n",
       "      <td>среднее</td>\n",
       "      <td>1</td>\n",
       "      <td>женат / замужем</td>\n",
       "      <td>0</td>\n",
       "      <td>M</td>\n",
       "      <td>сотрудник</td>\n",
       "      <td>0</td>\n",
       "      <td>267628.550329</td>\n",
       "      <td>дополнительное образование</td>\n",
       "    </tr>\n",
       "    <tr>\n",
       "      <td>4</td>\n",
       "      <td>0</td>\n",
       "      <td>340266.072047</td>\n",
       "      <td>53</td>\n",
       "      <td>среднее</td>\n",
       "      <td>1</td>\n",
       "      <td>гражданский брак</td>\n",
       "      <td>1</td>\n",
       "      <td>F</td>\n",
       "      <td>пенсионер</td>\n",
       "      <td>0</td>\n",
       "      <td>158616.077870</td>\n",
       "      <td>сыграть свадьбу</td>\n",
       "    </tr>\n",
       "    <tr>\n",
       "      <td>5</td>\n",
       "      <td>0</td>\n",
       "      <td>-926.185831</td>\n",
       "      <td>27</td>\n",
       "      <td>высшее</td>\n",
       "      <td>0</td>\n",
       "      <td>гражданский брак</td>\n",
       "      <td>1</td>\n",
       "      <td>M</td>\n",
       "      <td>компаньон</td>\n",
       "      <td>0</td>\n",
       "      <td>255763.565419</td>\n",
       "      <td>покупка жилья</td>\n",
       "    </tr>\n",
       "    <tr>\n",
       "      <td>6</td>\n",
       "      <td>0</td>\n",
       "      <td>-2879.202052</td>\n",
       "      <td>43</td>\n",
       "      <td>высшее</td>\n",
       "      <td>0</td>\n",
       "      <td>женат / замужем</td>\n",
       "      <td>0</td>\n",
       "      <td>F</td>\n",
       "      <td>компаньон</td>\n",
       "      <td>0</td>\n",
       "      <td>240525.971920</td>\n",
       "      <td>операции с жильем</td>\n",
       "    </tr>\n",
       "    <tr>\n",
       "      <td>7</td>\n",
       "      <td>0</td>\n",
       "      <td>-152.779569</td>\n",
       "      <td>50</td>\n",
       "      <td>СРЕДНЕЕ</td>\n",
       "      <td>1</td>\n",
       "      <td>женат / замужем</td>\n",
       "      <td>0</td>\n",
       "      <td>M</td>\n",
       "      <td>сотрудник</td>\n",
       "      <td>0</td>\n",
       "      <td>135823.934197</td>\n",
       "      <td>образование</td>\n",
       "    </tr>\n",
       "    <tr>\n",
       "      <td>8</td>\n",
       "      <td>2</td>\n",
       "      <td>-6929.865299</td>\n",
       "      <td>35</td>\n",
       "      <td>ВЫСШЕЕ</td>\n",
       "      <td>0</td>\n",
       "      <td>гражданский брак</td>\n",
       "      <td>1</td>\n",
       "      <td>F</td>\n",
       "      <td>сотрудник</td>\n",
       "      <td>0</td>\n",
       "      <td>95856.832424</td>\n",
       "      <td>на проведение свадьбы</td>\n",
       "    </tr>\n",
       "    <tr>\n",
       "      <td>9</td>\n",
       "      <td>0</td>\n",
       "      <td>-2188.756445</td>\n",
       "      <td>41</td>\n",
       "      <td>среднее</td>\n",
       "      <td>1</td>\n",
       "      <td>женат / замужем</td>\n",
       "      <td>0</td>\n",
       "      <td>M</td>\n",
       "      <td>сотрудник</td>\n",
       "      <td>0</td>\n",
       "      <td>144425.938277</td>\n",
       "      <td>покупка жилья для семьи</td>\n",
       "    </tr>\n",
       "    <tr>\n",
       "      <td>10</td>\n",
       "      <td>2</td>\n",
       "      <td>-4171.483647</td>\n",
       "      <td>36</td>\n",
       "      <td>высшее</td>\n",
       "      <td>0</td>\n",
       "      <td>женат / замужем</td>\n",
       "      <td>0</td>\n",
       "      <td>M</td>\n",
       "      <td>компаньон</td>\n",
       "      <td>0</td>\n",
       "      <td>113943.491460</td>\n",
       "      <td>покупка недвижимости</td>\n",
       "    </tr>\n",
       "    <tr>\n",
       "      <td>11</td>\n",
       "      <td>0</td>\n",
       "      <td>-792.701887</td>\n",
       "      <td>40</td>\n",
       "      <td>среднее</td>\n",
       "      <td>1</td>\n",
       "      <td>женат / замужем</td>\n",
       "      <td>0</td>\n",
       "      <td>F</td>\n",
       "      <td>сотрудник</td>\n",
       "      <td>0</td>\n",
       "      <td>77069.234271</td>\n",
       "      <td>покупка коммерческой недвижимости</td>\n",
       "    </tr>\n",
       "    <tr>\n",
       "      <td>12</td>\n",
       "      <td>0</td>\n",
       "      <td>NaN</td>\n",
       "      <td>65</td>\n",
       "      <td>среднее</td>\n",
       "      <td>1</td>\n",
       "      <td>гражданский брак</td>\n",
       "      <td>1</td>\n",
       "      <td>M</td>\n",
       "      <td>пенсионер</td>\n",
       "      <td>0</td>\n",
       "      <td>NaN</td>\n",
       "      <td>сыграть свадьбу</td>\n",
       "    </tr>\n",
       "    <tr>\n",
       "      <td>13</td>\n",
       "      <td>0</td>\n",
       "      <td>-1846.641941</td>\n",
       "      <td>54</td>\n",
       "      <td>неоконченное высшее</td>\n",
       "      <td>2</td>\n",
       "      <td>женат / замужем</td>\n",
       "      <td>0</td>\n",
       "      <td>F</td>\n",
       "      <td>сотрудник</td>\n",
       "      <td>0</td>\n",
       "      <td>130458.228857</td>\n",
       "      <td>приобретение автомобиля</td>\n",
       "    </tr>\n",
       "    <tr>\n",
       "      <td>14</td>\n",
       "      <td>0</td>\n",
       "      <td>-1844.956182</td>\n",
       "      <td>56</td>\n",
       "      <td>высшее</td>\n",
       "      <td>0</td>\n",
       "      <td>гражданский брак</td>\n",
       "      <td>1</td>\n",
       "      <td>F</td>\n",
       "      <td>компаньон</td>\n",
       "      <td>1</td>\n",
       "      <td>165127.911772</td>\n",
       "      <td>покупка жилой недвижимости</td>\n",
       "    </tr>\n",
       "  </tbody>\n",
       "</table>\n",
       "</div>"
      ],
      "text/plain": [
       "    children  days_employed  dob_years            education  education_id  \\\n",
       "0          1   -8437.673028         42               высшее             0   \n",
       "1          1   -4024.803754         36              среднее             1   \n",
       "2          0   -5623.422610         33              Среднее             1   \n",
       "3          3   -4124.747207         32              среднее             1   \n",
       "4          0  340266.072047         53              среднее             1   \n",
       "5          0    -926.185831         27               высшее             0   \n",
       "6          0   -2879.202052         43               высшее             0   \n",
       "7          0    -152.779569         50              СРЕДНЕЕ             1   \n",
       "8          2   -6929.865299         35               ВЫСШЕЕ             0   \n",
       "9          0   -2188.756445         41              среднее             1   \n",
       "10         2   -4171.483647         36               высшее             0   \n",
       "11         0    -792.701887         40              среднее             1   \n",
       "12         0            NaN         65              среднее             1   \n",
       "13         0   -1846.641941         54  неоконченное высшее             2   \n",
       "14         0   -1844.956182         56               высшее             0   \n",
       "\n",
       "       family_status  family_status_id gender income_type  debt  \\\n",
       "0    женат / замужем                 0      F   сотрудник     0   \n",
       "1    женат / замужем                 0      F   сотрудник     0   \n",
       "2    женат / замужем                 0      M   сотрудник     0   \n",
       "3    женат / замужем                 0      M   сотрудник     0   \n",
       "4   гражданский брак                 1      F   пенсионер     0   \n",
       "5   гражданский брак                 1      M   компаньон     0   \n",
       "6    женат / замужем                 0      F   компаньон     0   \n",
       "7    женат / замужем                 0      M   сотрудник     0   \n",
       "8   гражданский брак                 1      F   сотрудник     0   \n",
       "9    женат / замужем                 0      M   сотрудник     0   \n",
       "10   женат / замужем                 0      M   компаньон     0   \n",
       "11   женат / замужем                 0      F   сотрудник     0   \n",
       "12  гражданский брак                 1      M   пенсионер     0   \n",
       "13   женат / замужем                 0      F   сотрудник     0   \n",
       "14  гражданский брак                 1      F   компаньон     1   \n",
       "\n",
       "     total_income                            purpose  \n",
       "0   253875.639453                      покупка жилья  \n",
       "1   112080.014102            приобретение автомобиля  \n",
       "2   145885.952297                      покупка жилья  \n",
       "3   267628.550329         дополнительное образование  \n",
       "4   158616.077870                    сыграть свадьбу  \n",
       "5   255763.565419                      покупка жилья  \n",
       "6   240525.971920                  операции с жильем  \n",
       "7   135823.934197                        образование  \n",
       "8    95856.832424              на проведение свадьбы  \n",
       "9   144425.938277            покупка жилья для семьи  \n",
       "10  113943.491460               покупка недвижимости  \n",
       "11   77069.234271  покупка коммерческой недвижимости  \n",
       "12            NaN                    сыграть свадьбу  \n",
       "13  130458.228857            приобретение автомобиля  \n",
       "14  165127.911772         покупка жилой недвижимости  "
      ]
     },
     "execution_count": 3,
     "metadata": {},
     "output_type": "execute_result"
    }
   ],
   "source": [
    "import pandas as pd\n",
    "sсore_data = pd.read_csv('/datasets/data.csv')\n",
    "print(sсore_data.info())\n",
    "\n",
    "sсore_data.head(15)"
   ]
  },
  {
   "cell_type": "markdown",
   "metadata": {},
   "source": [
    "Для анализа данных (обработки) представлен файл, содержащий таблицу из 21525 строк, 12 колонок. \n",
    "Типы данных в колонках:5 колонок с текстовыми данными, 5 колонок с целочисленными выражениями, 2 колонки с вещественными (дробными числами).\n",
    "С первого взгляда налюдается дублирование данных в колонке education. \n"
   ]
  },
  {
   "cell_type": "markdown",
   "metadata": {},
   "source": [
    "### Шаг 2. Предобработка данных"
   ]
  },
  {
   "cell_type": "markdown",
   "metadata": {},
   "source": [
    "### Обработка пропусков"
   ]
  },
  {
   "cell_type": "code",
   "execution_count": 4,
   "metadata": {},
   "outputs": [
    {
     "data": {
      "text/plain": [
       " 0     14149\n",
       " 1      4818\n",
       " 2      2055\n",
       " 3       330\n",
       " 20       76\n",
       "-1        47\n",
       " 4        41\n",
       " 5         9\n",
       "Name: children, dtype: int64"
      ]
     },
     "execution_count": 4,
     "metadata": {},
     "output_type": "execute_result"
    }
   ],
   "source": [
    "sсore_data['children'].value_counts() #для каждого столбца проверям наличие пропущенных значений\n",
    "#вызывает сомнения корректность данных по категории 20 детей, отрицательное значение. \n",
    "# 47 строк с отрицтельным значением и 76 со значением, вызывающим сомнения. Будем считать эти данные флуктуацией.\n",
    "# в условиях проекта 123 строки составляют менее 1% от всего объема данных и могут быть удалены.\n",
    "# в реальной жизни необходимо оценивать требования по задаче, сроки и ресурсы на возможную коммуникацию с заказчиком по исправлени данных.\n",
    "# в любом случае, необходимо проифнормировать об ошибке в данных или сделать пометку в пояснительной записке к отчету.\n",
    "\n"
   ]
  },
  {
   "cell_type": "code",
   "execution_count": 5,
   "metadata": {},
   "outputs": [
    {
     "data": {
      "text/plain": [
       "children            0\n",
       "days_employed       0\n",
       "dob_years           0\n",
       "education           0\n",
       "education_id        0\n",
       "family_status       0\n",
       "family_status_id    0\n",
       "gender              0\n",
       "income_type         0\n",
       "debt                0\n",
       "total_income        0\n",
       "purpose             0\n",
       "dtype: int64"
      ]
     },
     "execution_count": 5,
     "metadata": {},
     "output_type": "execute_result"
    }
   ],
   "source": [
    "sсore_data[sсore_data['children'].isnull()].count() #для каждого столбца проверяем наличие пропущенных строк"
   ]
  },
  {
   "cell_type": "code",
   "execution_count": 6,
   "metadata": {},
   "outputs": [
    {
     "data": {
      "text/plain": [
       "0    14149\n",
       "1     4818\n",
       "2     2055\n",
       "3      330\n",
       "4       41\n",
       "5        9\n",
       "Name: children, dtype: int64"
      ]
     },
     "execution_count": 6,
     "metadata": {},
     "output_type": "execute_result"
    }
   ],
   "source": [
    "sсore_data = sсore_data[(sсore_data['children'] != 20) & (sсore_data['children'] != -1)]\n",
    "sсore_data['children'].value_counts()"
   ]
  },
  {
   "cell_type": "code",
   "execution_count": 7,
   "metadata": {},
   "outputs": [
    {
     "data": {
      "text/plain": [
       "-986.927316       1\n",
       "-849.764227       1\n",
       "-5135.928528      1\n",
       "-1453.358707      1\n",
       "-4977.646061      1\n",
       "                 ..\n",
       "-2348.524271      1\n",
       "-2338.480708      1\n",
       " 356642.853685    1\n",
       "-1218.820922      1\n",
       "-582.538413       1\n",
       "Name: days_employed, Length: 19240, dtype: int64"
      ]
     },
     "execution_count": 7,
     "metadata": {},
     "output_type": "execute_result"
    }
   ],
   "source": [
    "sсore_data['days_employed'].value_counts()#видим отрицательные значения в колонке с общим трудовым стажем в днях\n",
    "# в рамках текущего проекта колонка не является первичной для изучения и анализа, поэтому, допускаю оставить без изменений.\n",
    "# в реальной жизни неоходимо либо обратиться в к заказчику, либо сделать допущение, что это техническая ошибка \n",
    "#и заменить все отрицательные данные на положительные (более 15 тыс. строк)\n"
   ]
  },
  {
   "cell_type": "code",
   "execution_count": 8,
   "metadata": {},
   "outputs": [
    {
     "name": "stdout",
     "output_type": "stream",
     "text": [
      "15809\n"
     ]
    }
   ],
   "source": [
    "print(sсore_data['days_employed'][sсore_data['days_employed'] < 0].count())"
   ]
  },
  {
   "cell_type": "code",
   "execution_count": 9,
   "metadata": {},
   "outputs": [
    {
     "data": {
      "text/plain": [
       "children            2162\n",
       "days_employed          0\n",
       "dob_years           2162\n",
       "education           2162\n",
       "education_id        2162\n",
       "family_status       2162\n",
       "family_status_id    2162\n",
       "gender              2162\n",
       "income_type         2162\n",
       "debt                2162\n",
       "total_income           0\n",
       "purpose             2162\n",
       "dtype: int64"
      ]
     },
     "execution_count": 9,
     "metadata": {},
     "output_type": "execute_result"
    }
   ],
   "source": [
    "sсore_data[sсore_data['days_employed'].isnull()].count() #в столбце общий трудовой стаж в днях видим 2152 строки с пропущенным значением. \n",
    "# возможные причины - данные отсутствуют, ошибка выгрузки.\n",
    "#заполним их"
   ]
  },
  {
   "cell_type": "code",
   "execution_count": 10,
   "metadata": {},
   "outputs": [],
   "source": [
    "sсore_data['update_days_employed'] = sсore_data['days_employed'] \n",
    "#вводим новый столбец для заполнения медианным показателем стажа \n",
    "#(в нем в цикле будем заполнять пропуски медианными значениями)\n",
    "for income_type in sсore_data['income_type'].unique(): \n",
    "    #находим уникальные значение в категории тип занятости \n",
    "    #(медианный стаж ищем для каждого типа занятости)\n",
    "    med_days_employed = sсore_data[sсore_data['income_type'] == income_type]['days_employed'].median()\n",
    "    sсore_data.loc[(sсore_data['update_days_employed'].isna()) & (sсore_data['income_type'] == income_type), 'update_days_employed'] = med_days_employed\n",
    "    \n",
    "    "
   ]
  },
  {
   "cell_type": "code",
   "execution_count": 11,
   "metadata": {},
   "outputs": [
    {
     "data": {
      "text/plain": [
       "children                0\n",
       "days_employed           0\n",
       "dob_years               0\n",
       "education               0\n",
       "education_id            0\n",
       "family_status           0\n",
       "family_status_id        0\n",
       "gender                  0\n",
       "income_type             0\n",
       "debt                    0\n",
       "total_income            0\n",
       "purpose                 0\n",
       "update_days_employed    0\n",
       "dtype: int64"
      ]
     },
     "execution_count": 11,
     "metadata": {},
     "output_type": "execute_result"
    }
   ],
   "source": [
    "sсore_data[sсore_data['update_days_employed'].isnull()].count()"
   ]
  },
  {
   "cell_type": "code",
   "execution_count": 12,
   "metadata": {},
   "outputs": [
    {
     "data": {
      "text/plain": [
       "75      1\n",
       "74      6\n",
       "73      8\n",
       "19     14\n",
       "72     33\n",
       "20     51\n",
       "71     58\n",
       "70     65\n",
       "69     83\n",
       "68     99\n",
       "0     100\n",
       "21    110\n",
       "67    167\n",
       "22    183\n",
       "66    183\n",
       "65    194\n",
       "23    252\n",
       "24    263\n",
       "64    263\n",
       "63    268\n",
       "62    351\n",
       "61    353\n",
       "25    356\n",
       "60    376\n",
       "26    406\n",
       "59    441\n",
       "55    441\n",
       "51    446\n",
       "53    457\n",
       "57    457\n",
       "58    461\n",
       "46    469\n",
       "54    476\n",
       "47    480\n",
       "56    482\n",
       "52    483\n",
       "27    490\n",
       "45    494\n",
       "28    501\n",
       "49    505\n",
       "32    506\n",
       "50    509\n",
       "43    510\n",
       "37    531\n",
       "48    536\n",
       "30    536\n",
       "44    543\n",
       "29    543\n",
       "36    553\n",
       "31    556\n",
       "39    572\n",
       "33    577\n",
       "42    592\n",
       "38    595\n",
       "34    597\n",
       "41    603\n",
       "40    603\n",
       "35    614\n",
       "Name: dob_years, dtype: int64"
      ]
     },
     "execution_count": 12,
     "metadata": {},
     "output_type": "execute_result"
    }
   ],
   "source": [
    "sсore_data['dob_years'].value_counts().sort_values(ascending = True) #вызывает сомнения возможность выдачи кредитов группе \n",
    "#с возрастом 0\n",
    "# 100 строк составляют менее 0.5% от всего объема данных и могут быть удалены."
   ]
  },
  {
   "cell_type": "code",
   "execution_count": 13,
   "metadata": {},
   "outputs": [
    {
     "data": {
      "text/plain": [
       "35    614\n",
       "40    603\n",
       "41    603\n",
       "34    597\n",
       "38    595\n",
       "42    592\n",
       "33    577\n",
       "39    572\n",
       "31    556\n",
       "36    553\n",
       "29    543\n",
       "44    543\n",
       "30    536\n",
       "48    536\n",
       "37    531\n",
       "43    510\n",
       "50    509\n",
       "32    506\n",
       "49    505\n",
       "28    501\n",
       "45    494\n",
       "27    490\n",
       "52    483\n",
       "56    482\n",
       "47    480\n",
       "54    476\n",
       "46    469\n",
       "58    461\n",
       "53    457\n",
       "57    457\n",
       "51    446\n",
       "55    441\n",
       "59    441\n",
       "26    406\n",
       "60    376\n",
       "25    356\n",
       "61    353\n",
       "62    351\n",
       "63    268\n",
       "64    263\n",
       "24    263\n",
       "23    252\n",
       "65    194\n",
       "66    183\n",
       "22    183\n",
       "67    167\n",
       "21    110\n",
       "68     99\n",
       "69     83\n",
       "70     65\n",
       "71     58\n",
       "20     51\n",
       "72     33\n",
       "19     14\n",
       "73      8\n",
       "74      6\n",
       "75      1\n",
       "Name: dob_years, dtype: int64"
      ]
     },
     "execution_count": 13,
     "metadata": {},
     "output_type": "execute_result"
    }
   ],
   "source": [
    "sсore_data = sсore_data[sсore_data['dob_years'] != 0]\n",
    "sсore_data['dob_years'].value_counts()"
   ]
  },
  {
   "cell_type": "code",
   "execution_count": 14,
   "metadata": {},
   "outputs": [
    {
     "data": {
      "text/plain": [
       "children                0\n",
       "days_employed           0\n",
       "dob_years               0\n",
       "education               0\n",
       "education_id            0\n",
       "family_status           0\n",
       "family_status_id        0\n",
       "gender                  0\n",
       "income_type             0\n",
       "debt                    0\n",
       "total_income            0\n",
       "purpose                 0\n",
       "update_days_employed    0\n",
       "dtype: int64"
      ]
     },
     "execution_count": 14,
     "metadata": {},
     "output_type": "execute_result"
    }
   ],
   "source": [
    "sсore_data[sсore_data['dob_years'].isnull()].count() #при верхнеуровневой оценке данных явные ошибки/неточности отсуствуют"
   ]
  },
  {
   "cell_type": "code",
   "execution_count": 15,
   "metadata": {},
   "outputs": [
    {
     "data": {
      "text/plain": [
       "среднее                13609\n",
       "высшее                  4666\n",
       "СРЕДНЕЕ                  764\n",
       "Среднее                  700\n",
       "неоконченное высшее      663\n",
       "ВЫСШЕЕ                   270\n",
       "Высшее                   266\n",
       "начальное                250\n",
       "Неоконченное высшее       47\n",
       "НЕОКОНЧЕННОЕ ВЫСШЕЕ       29\n",
       "НАЧАЛЬНОЕ                 17\n",
       "Начальное                 15\n",
       "ученая степень             4\n",
       "УЧЕНАЯ СТЕПЕНЬ             1\n",
       "Ученая степень             1\n",
       "Name: education, dtype: int64"
      ]
     },
     "execution_count": 15,
     "metadata": {},
     "output_type": "execute_result"
    }
   ],
   "source": [
    "sсore_data['education'].value_counts() #видим дублирование категорий, при такой выборке смущает низкий процент \n"
   ]
  },
  {
   "cell_type": "code",
   "execution_count": 16,
   "metadata": {},
   "outputs": [
    {
     "data": {
      "text/plain": [
       "children                0\n",
       "days_employed           0\n",
       "dob_years               0\n",
       "education               0\n",
       "education_id            0\n",
       "family_status           0\n",
       "family_status_id        0\n",
       "gender                  0\n",
       "income_type             0\n",
       "debt                    0\n",
       "total_income            0\n",
       "purpose                 0\n",
       "update_days_employed    0\n",
       "dtype: int64"
      ]
     },
     "execution_count": 16,
     "metadata": {},
     "output_type": "execute_result"
    }
   ],
   "source": [
    "sсore_data[sсore_data['education'].isnull()].count() #при верхнеуровневой оценке данных явные ошибки/неточности отсуствуют"
   ]
  },
  {
   "cell_type": "code",
   "execution_count": 17,
   "metadata": {},
   "outputs": [
    {
     "data": {
      "text/plain": [
       "1    15073\n",
       "0     5202\n",
       "2      739\n",
       "3      282\n",
       "4        6\n",
       "Name: education_id, dtype: int64"
      ]
     },
     "execution_count": 17,
     "metadata": {},
     "output_type": "execute_result"
    }
   ],
   "source": [
    "sсore_data['education_id'].value_counts() #при верхнеуровневой оценке данных явные ошибки/неточности отсуствуют"
   ]
  },
  {
   "cell_type": "code",
   "execution_count": 18,
   "metadata": {},
   "outputs": [
    {
     "data": {
      "text/plain": [
       "children                0\n",
       "days_employed           0\n",
       "dob_years               0\n",
       "education               0\n",
       "education_id            0\n",
       "family_status           0\n",
       "family_status_id        0\n",
       "gender                  0\n",
       "income_type             0\n",
       "debt                    0\n",
       "total_income            0\n",
       "purpose                 0\n",
       "update_days_employed    0\n",
       "dtype: int64"
      ]
     },
     "execution_count": 18,
     "metadata": {},
     "output_type": "execute_result"
    }
   ],
   "source": [
    "sсore_data[sсore_data['education_id'].isnull()].count() #при верхнеуровневой оценке данных явные ошибки/неточности отсуствуют"
   ]
  },
  {
   "cell_type": "code",
   "execution_count": 19,
   "metadata": {},
   "outputs": [
    {
     "data": {
      "text/plain": [
       "женат / замужем          12254\n",
       "гражданский брак          4139\n",
       "Не женат / не замужем     2783\n",
       "в разводе                 1179\n",
       "вдовец / вдова             947\n",
       "Name: family_status, dtype: int64"
      ]
     },
     "execution_count": 19,
     "metadata": {},
     "output_type": "execute_result"
    }
   ],
   "source": [
    "sсore_data['family_status'].value_counts() #при верхнеуровневой оценке данных явные ошибки/неточности отсуствуют \n",
    "#(возможно, при оценке данных объединить две группы \"гражданский брак\" и \"не женат/не замужем\")"
   ]
  },
  {
   "cell_type": "code",
   "execution_count": 20,
   "metadata": {},
   "outputs": [
    {
     "data": {
      "text/plain": [
       "children                0\n",
       "days_employed           0\n",
       "dob_years               0\n",
       "education               0\n",
       "education_id            0\n",
       "family_status           0\n",
       "family_status_id        0\n",
       "gender                  0\n",
       "income_type             0\n",
       "debt                    0\n",
       "total_income            0\n",
       "purpose                 0\n",
       "update_days_employed    0\n",
       "dtype: int64"
      ]
     },
     "execution_count": 20,
     "metadata": {},
     "output_type": "execute_result"
    }
   ],
   "source": [
    "sсore_data[sсore_data['family_status'].isnull()].count() #при верхнеуровневой оценке данных явные ошибки/неточности отсуствуют"
   ]
  },
  {
   "cell_type": "code",
   "execution_count": 21,
   "metadata": {},
   "outputs": [
    {
     "data": {
      "text/plain": [
       "0    12254\n",
       "1     4139\n",
       "4     2783\n",
       "3     1179\n",
       "2      947\n",
       "Name: family_status_id, dtype: int64"
      ]
     },
     "execution_count": 21,
     "metadata": {},
     "output_type": "execute_result"
    }
   ],
   "source": [
    "sсore_data['family_status_id'].value_counts() #при верхнеуровневой оценке данных явные ошибки/неточности отсуствуют"
   ]
  },
  {
   "cell_type": "code",
   "execution_count": 22,
   "metadata": {},
   "outputs": [
    {
     "data": {
      "text/plain": [
       "children                0\n",
       "days_employed           0\n",
       "dob_years               0\n",
       "education               0\n",
       "education_id            0\n",
       "family_status           0\n",
       "family_status_id        0\n",
       "gender                  0\n",
       "income_type             0\n",
       "debt                    0\n",
       "total_income            0\n",
       "purpose                 0\n",
       "update_days_employed    0\n",
       "dtype: int64"
      ]
     },
     "execution_count": 22,
     "metadata": {},
     "output_type": "execute_result"
    }
   ],
   "source": [
    "sсore_data[sсore_data['family_status_id'].isnull()].count() #при верхнеуровневой оценке данных явные ошибки/неточности отсуствуют"
   ]
  },
  {
   "cell_type": "code",
   "execution_count": 23,
   "metadata": {},
   "outputs": [
    {
     "data": {
      "text/plain": [
       "F      14083\n",
       "M       7218\n",
       "XNA        1\n",
       "Name: gender, dtype: int64"
      ]
     },
     "execution_count": 23,
     "metadata": {},
     "output_type": "execute_result"
    }
   ],
   "source": [
    "sсore_data['gender'].value_counts() #в данных выявлена одна строка с ошибочным значением категории \"пол\". \n",
    "#исключим его в силу малого влияния на общее исследование и второстепенность показателя."
   ]
  },
  {
   "cell_type": "code",
   "execution_count": 24,
   "metadata": {},
   "outputs": [
    {
     "data": {
      "text/plain": [
       "F    14083\n",
       "M     7218\n",
       "Name: gender, dtype: int64"
      ]
     },
     "execution_count": 24,
     "metadata": {},
     "output_type": "execute_result"
    }
   ],
   "source": [
    "sсore_data = sсore_data[sсore_data['gender'] != 'XNA']\n",
    "sсore_data['gender'].value_counts()"
   ]
  },
  {
   "cell_type": "code",
   "execution_count": 25,
   "metadata": {},
   "outputs": [
    {
     "data": {
      "text/plain": [
       "children                0\n",
       "days_employed           0\n",
       "dob_years               0\n",
       "education               0\n",
       "education_id            0\n",
       "family_status           0\n",
       "family_status_id        0\n",
       "gender                  0\n",
       "income_type             0\n",
       "debt                    0\n",
       "total_income            0\n",
       "purpose                 0\n",
       "update_days_employed    0\n",
       "dtype: int64"
      ]
     },
     "execution_count": 25,
     "metadata": {},
     "output_type": "execute_result"
    }
   ],
   "source": [
    "sсore_data[sсore_data['gender'].isnull()].count()"
   ]
  },
  {
   "cell_type": "code",
   "execution_count": 26,
   "metadata": {},
   "outputs": [
    {
     "data": {
      "text/plain": [
       "сотрудник          10996\n",
       "компаньон           5033\n",
       "пенсионер           3819\n",
       "госслужащий         1447\n",
       "предприниматель        2\n",
       "безработный            2\n",
       "в декрете              1\n",
       "студент                1\n",
       "Name: income_type, dtype: int64"
      ]
     },
     "execution_count": 26,
     "metadata": {},
     "output_type": "execute_result"
    }
   ],
   "source": [
    "sсore_data['income_type'].value_counts() #выявлено оценочное несоответствие групп по возрасту и типу дохода, так, всего 1 студент\n",
    "#и 3856 пенсионеров, при значительном превосходстве возрастных категорий, куда могут попадать эти группы по доходу. \n",
    "#Пример: количество потенциальных студентов (19-21 год) - 176 человек, пенсионеров (старше 60) - 2517. \n",
    "#Безусловно, работающие пенсионеры и студенты распространенное явление, поэтому, в реальной жизни у заказчика необходимо уточнять\n",
    "#способ сбора данных (анкеты,документы, подтвержденные справками с места работы и т.д.)\n",
    "# эти данные не являются анализируемыми в данном проекте, поэтому, дополнительные исследования по ним не нужны (в ракмах проекта) "
   ]
  },
  {
   "cell_type": "code",
   "execution_count": 27,
   "metadata": {},
   "outputs": [
    {
     "data": {
      "text/plain": [
       "children                0\n",
       "days_employed           0\n",
       "dob_years               0\n",
       "education               0\n",
       "education_id            0\n",
       "family_status           0\n",
       "family_status_id        0\n",
       "gender                  0\n",
       "income_type             0\n",
       "debt                    0\n",
       "total_income            0\n",
       "purpose                 0\n",
       "update_days_employed    0\n",
       "dtype: int64"
      ]
     },
     "execution_count": 27,
     "metadata": {},
     "output_type": "execute_result"
    }
   ],
   "source": [
    "sсore_data[sсore_data['income_type'].isnull()].count() #при верхнеуровневой оценке данных явные ошибки/неточности отсуствуют"
   ]
  },
  {
   "cell_type": "code",
   "execution_count": 28,
   "metadata": {},
   "outputs": [
    {
     "data": {
      "text/plain": [
       "0    19577\n",
       "1     1724\n",
       "Name: debt, dtype: int64"
      ]
     },
     "execution_count": 28,
     "metadata": {},
     "output_type": "execute_result"
    }
   ],
   "source": [
    "sсore_data['debt'].value_counts() #1724 строка имеет пометку о долге по кредиту"
   ]
  },
  {
   "cell_type": "code",
   "execution_count": 29,
   "metadata": {},
   "outputs": [
    {
     "data": {
      "text/plain": [
       "children                0\n",
       "days_employed           0\n",
       "dob_years               0\n",
       "education               0\n",
       "education_id            0\n",
       "family_status           0\n",
       "family_status_id        0\n",
       "gender                  0\n",
       "income_type             0\n",
       "debt                    0\n",
       "total_income            0\n",
       "purpose                 0\n",
       "update_days_employed    0\n",
       "dtype: int64"
      ]
     },
     "execution_count": 29,
     "metadata": {},
     "output_type": "execute_result"
    }
   ],
   "source": [
    "sсore_data[sсore_data['debt'].isnull()].count() #при верхнеуровневой оценке данных явные ошибки/неточности отсуствуют"
   ]
  },
  {
   "cell_type": "code",
   "execution_count": 30,
   "metadata": {},
   "outputs": [
    {
     "data": {
      "text/plain": [
       "112874.418757    1\n",
       "162416.137763    1\n",
       "122140.327609    1\n",
       "175780.973093    1\n",
       "128056.263801    1\n",
       "                ..\n",
       "82857.979147     1\n",
       "80429.374722     1\n",
       "401469.373495    1\n",
       "142752.248355    1\n",
       "150014.128510    1\n",
       "Name: total_income, Length: 19149, dtype: int64"
      ]
     },
     "execution_count": 30,
     "metadata": {},
     "output_type": "execute_result"
    }
   ],
   "source": [
    "sсore_data['total_income'].value_counts().sort_values(ascending = True)"
   ]
  },
  {
   "cell_type": "code",
   "execution_count": 31,
   "metadata": {},
   "outputs": [
    {
     "data": {
      "text/plain": [
       "children                2152\n",
       "days_employed              0\n",
       "dob_years               2152\n",
       "education               2152\n",
       "education_id            2152\n",
       "family_status           2152\n",
       "family_status_id        2152\n",
       "gender                  2152\n",
       "income_type             2152\n",
       "debt                    2152\n",
       "total_income               0\n",
       "purpose                 2152\n",
       "update_days_employed    2152\n",
       "dtype: int64"
      ]
     },
     "execution_count": 31,
     "metadata": {},
     "output_type": "execute_result"
    }
   ],
   "source": [
    "sсore_data[sсore_data['total_income'].isnull()].count() #вот и наши пропуски\n",
    "#заполним их"
   ]
  },
  {
   "cell_type": "code",
   "execution_count": 32,
   "metadata": {},
   "outputs": [],
   "source": [
    "sсore_data['update_total_income'] = sсore_data['total_income'] \n",
    "#вводим новый столбец для заполнения медианным доходом \n",
    "#(в нем в цикле будем заполнять пропуски медианными значениями)\n",
    "for income_type in sсore_data['income_type'].unique(): \n",
    "    #находим уникальные значение в категории тип занятости \n",
    "    #(медианный доход ищем для каждого типа занятости)\n",
    "    med_income = sсore_data[sсore_data['income_type'] == income_type]['total_income'].median()\n",
    "    sсore_data.loc[(sсore_data['update_total_income'].isna()) & (sсore_data['income_type'] == income_type), 'update_total_income'] = med_income\n",
    "    \n",
    "    "
   ]
  },
  {
   "cell_type": "code",
   "execution_count": 33,
   "metadata": {},
   "outputs": [
    {
     "data": {
      "text/plain": [
       "children                0\n",
       "days_employed           0\n",
       "dob_years               0\n",
       "education               0\n",
       "education_id            0\n",
       "family_status           0\n",
       "family_status_id        0\n",
       "gender                  0\n",
       "income_type             0\n",
       "debt                    0\n",
       "total_income            0\n",
       "purpose                 0\n",
       "update_days_employed    0\n",
       "update_total_income     0\n",
       "dtype: int64"
      ]
     },
     "execution_count": 33,
     "metadata": {},
     "output_type": "execute_result"
    }
   ],
   "source": [
    "sсore_data[sсore_data['update_total_income'].isnull()].count()"
   ]
  },
  {
   "cell_type": "code",
   "execution_count": 34,
   "metadata": {},
   "outputs": [
    {
     "data": {
      "text/plain": [
       "свадьба                                   791\n",
       "на проведение свадьбы                     768\n",
       "сыграть свадьбу                           764\n",
       "операции с недвижимостью                  670\n",
       "покупка коммерческой недвижимости         658\n",
       "покупка жилья для сдачи                   649\n",
       "операции с коммерческой недвижимостью     644\n",
       "операции с жильем                         642\n",
       "покупка жилья для семьи                   639\n",
       "жилье                                     636\n",
       "покупка жилья                             635\n",
       "недвижимость                              628\n",
       "операции со своей недвижимостью           626\n",
       "строительство собственной недвижимости    626\n",
       "строительство недвижимости                620\n",
       "строительство жилой недвижимости          619\n",
       "покупка своего жилья                      618\n",
       "покупка недвижимости                      615\n",
       "ремонт жилью                              607\n",
       "покупка жилой недвижимости                600\n",
       "на покупку своего автомобиля              501\n",
       "заняться высшим образованием              493\n",
       "автомобиль                                488\n",
       "сделка с подержанным автомобилем          482\n",
       "автомобили                                474\n",
       "на покупку подержанного автомобиля        472\n",
       "свой автомобиль                           472\n",
       "на покупку автомобиля                     466\n",
       "приобретение автомобиля                   458\n",
       "дополнительное образование                455\n",
       "сделка с автомобилем                      454\n",
       "высшее образование                        444\n",
       "получение дополнительного образования     443\n",
       "получение образования                     440\n",
       "образование                               439\n",
       "профильное образование                    431\n",
       "получение высшего образования             423\n",
       "заняться образованием                     411\n",
       "Name: purpose, dtype: int64"
      ]
     },
     "execution_count": 34,
     "metadata": {},
     "output_type": "execute_result"
    }
   ],
   "source": [
    "sсore_data['purpose'].value_counts() #в колонке с целями кредита идентифицируются неявные дубликаты целей.\n",
    "#В остальном при верхнеуровневой оценке данных явные ошибки/неточности отсуствуют"
   ]
  },
  {
   "cell_type": "code",
   "execution_count": 35,
   "metadata": {},
   "outputs": [
    {
     "data": {
      "text/plain": [
       "children                0\n",
       "days_employed           0\n",
       "dob_years               0\n",
       "education               0\n",
       "education_id            0\n",
       "family_status           0\n",
       "family_status_id        0\n",
       "gender                  0\n",
       "income_type             0\n",
       "debt                    0\n",
       "total_income            0\n",
       "purpose                 0\n",
       "update_days_employed    0\n",
       "update_total_income     0\n",
       "dtype: int64"
      ]
     },
     "execution_count": 35,
     "metadata": {},
     "output_type": "execute_result"
    }
   ],
   "source": [
    "sсore_data[sсore_data['purpose'].isnull()].count()"
   ]
  },
  {
   "cell_type": "markdown",
   "metadata": {},
   "source": [
    "### Вывод"
   ]
  },
  {
   "cell_type": "markdown",
   "metadata": {},
   "source": [
    "В исходных данных обнаружены пропуски в столбцах \"общий трудовой стаж в днях\" и \"ежемесячный доход\". Возможные причины - техническая ошибка при выгрузке данных, неправильное заполнение исходных данных, этот параметр не был определен (возможно, доход и стпаж отсуствовали или не был подтвержден). \n",
    "Для заполнения пустых строк, необходимо найти медианное значение по каждой категории занятых для столбцов \"ежемесячный доход\" и \"общий трудовой стаж с днях\" (среднее значение для таких категорий данных, как доход, не походит, т.к. среднее арифметическое может сильно исказить реальный показатель за счет значительно отклонение минимального и максимального показателя в группе. Для оценки доходов, цены и прочих показателей, нужен средневзвешенный показатель или медиана) и заполнить пропуски этим показателем.\n",
    "Замена данных произведена через введение нового столбца, в котром пропущенные значения заменены на медианные по группе занятых.\n",
    "Пропуски в перечисленных столбцах успешно заменены, в остальных столбцах замена пропуском не требуется"
   ]
  },
  {
   "cell_type": "markdown",
   "metadata": {},
   "source": [
    "### Замена типа данных"
   ]
  },
  {
   "cell_type": "code",
   "execution_count": 36,
   "metadata": {},
   "outputs": [
    {
     "name": "stdout",
     "output_type": "stream",
     "text": [
      "<class 'pandas.core.frame.DataFrame'>\n",
      "Int64Index: 21301 entries, 0 to 21524\n",
      "Data columns (total 14 columns):\n",
      "children                21301 non-null int64\n",
      "days_employed           19149 non-null float64\n",
      "dob_years               21301 non-null int64\n",
      "education               21301 non-null object\n",
      "education_id            21301 non-null int64\n",
      "family_status           21301 non-null object\n",
      "family_status_id        21301 non-null int64\n",
      "gender                  21301 non-null object\n",
      "income_type             21301 non-null object\n",
      "debt                    21301 non-null int64\n",
      "total_income            19149 non-null float64\n",
      "purpose                 21301 non-null object\n",
      "update_days_employed    21301 non-null int64\n",
      "update_total_income     21301 non-null int64\n",
      "dtypes: float64(2), int64(7), object(5)\n",
      "memory usage: 2.4+ MB\n",
      "None\n"
     ]
    }
   ],
   "source": [
    "#преобразуем тип данных в столбце со средним доходом (update_total_income) в столбец с целочисленными значниями\n",
    "sсore_data['update_total_income'] = sсore_data['update_total_income'].astype('int')\n",
    "\n",
    "#преобразуем тип данных в столбце со средним стажем (update_days_employed) в столбец с целочисленными значниями\n",
    "sсore_data['update_days_employed'] = sсore_data['update_days_employed'].astype('int')\n",
    "\n",
    "#проверим, что замена проведена корректно\n",
    "\n",
    "print(sсore_data.info())\n"
   ]
  },
  {
   "cell_type": "markdown",
   "metadata": {},
   "source": [
    "### Вывод"
   ]
  },
  {
   "cell_type": "code",
   "execution_count": 37,
   "metadata": {},
   "outputs": [],
   "source": [
    "#Тип данных с столбцах update_total_income и update_days_employed произведен в целочисленный тип данных. В остальных столцах замена не нужна."
   ]
  },
  {
   "cell_type": "markdown",
   "metadata": {},
   "source": [
    "### Обработка дубликатов"
   ]
  },
  {
   "cell_type": "code",
   "execution_count": 38,
   "metadata": {
    "scrolled": false
   },
   "outputs": [
    {
     "name": "stdout",
     "output_type": "stream",
     "text": [
      "<class 'pandas.core.frame.DataFrame'>\n",
      "Int64Index: 54 entries, 2849 to 21415\n",
      "Data columns (total 14 columns):\n",
      "children                54 non-null int64\n",
      "days_employed           0 non-null float64\n",
      "dob_years               54 non-null int64\n",
      "education               54 non-null object\n",
      "education_id            54 non-null int64\n",
      "family_status           54 non-null object\n",
      "family_status_id        54 non-null int64\n",
      "gender                  54 non-null object\n",
      "income_type             54 non-null object\n",
      "debt                    54 non-null int64\n",
      "total_income            0 non-null float64\n",
      "purpose                 54 non-null object\n",
      "update_days_employed    54 non-null int64\n",
      "update_total_income     54 non-null int64\n",
      "dtypes: float64(2), int64(7), object(5)\n",
      "memory usage: 6.3+ KB\n",
      "None\n"
     ]
    }
   ],
   "source": [
    "print(sсore_data[sсore_data.duplicated()].info()) #проверяем наличие полных дубликатов в таблице и считаем их кол-во\n"
   ]
  },
  {
   "cell_type": "code",
   "execution_count": 39,
   "metadata": {},
   "outputs": [],
   "source": [
    " sсore_data = sсore_data.drop_duplicates().reset_index(drop=True) #удаление дубликатов"
   ]
  },
  {
   "cell_type": "code",
   "execution_count": 40,
   "metadata": {},
   "outputs": [
    {
     "name": "stdout",
     "output_type": "stream",
     "text": [
      "<class 'pandas.core.frame.DataFrame'>\n",
      "Int64Index: 0 entries\n",
      "Data columns (total 14 columns):\n",
      "children                0 non-null int64\n",
      "days_employed           0 non-null float64\n",
      "dob_years               0 non-null int64\n",
      "education               0 non-null object\n",
      "education_id            0 non-null int64\n",
      "family_status           0 non-null object\n",
      "family_status_id        0 non-null int64\n",
      "gender                  0 non-null object\n",
      "income_type             0 non-null object\n",
      "debt                    0 non-null int64\n",
      "total_income            0 non-null float64\n",
      "purpose                 0 non-null object\n",
      "update_days_employed    0 non-null int64\n",
      "update_total_income     0 non-null int64\n",
      "dtypes: float64(2), int64(7), object(5)\n",
      "memory usage: 0.0+ bytes\n",
      "None\n"
     ]
    }
   ],
   "source": [
    "print(sсore_data[sсore_data.duplicated()].info()) # проверим эффективность проведенных действий"
   ]
  },
  {
   "cell_type": "code",
   "execution_count": 41,
   "metadata": {},
   "outputs": [
    {
     "data": {
      "text/plain": [
       "среднее                15028\n",
       "высшее                  5193\n",
       "неоконченное высшее      738\n",
       "начальное                282\n",
       "ученая степень             6\n",
       "Name: education_lowercase, dtype: int64"
      ]
     },
     "execution_count": 41,
     "metadata": {},
     "output_type": "execute_result"
    }
   ],
   "source": [
    "# найдем и \"удалим\" дубликаты в столюце \"уровень образования клиента\"\n",
    "# приведем все к единому регистру, добавив новый столбец, и в дальнейшем будем работать с ним.\n",
    "sсore_data['education_lowercase'] = sсore_data['education'].str.lower()\n",
    "\n",
    "sсore_data['education_lowercase'].value_counts() #видим дублирование категорий, при такой выборке смущает низкий процент \n",
    "\n"
   ]
  },
  {
   "cell_type": "markdown",
   "metadata": {},
   "source": [
    "### Вывод"
   ]
  },
  {
   "cell_type": "code",
   "execution_count": 42,
   "metadata": {},
   "outputs": [],
   "source": [
    "#в исследуемом массиве данных были найдены полные дубликаты (54 строки). Строки для целей проекта были удалены, однако, стоит отметить,\n",
    "#что полные дубликаты без уникального id строки полными дубликатами считаться не могуту - т.к. вполне вероятен случай полного совпадения\n",
    "#параметров по двум разным клиентам."
   ]
  },
  {
   "cell_type": "markdown",
   "metadata": {},
   "source": [
    "### Лемматизация"
   ]
  },
  {
   "cell_type": "code",
   "execution_count": 43,
   "metadata": {},
   "outputs": [],
   "source": [
    "#проведем лемматизацию по целям кредита\n",
    "#создадим новый столбец\n",
    "\n",
    "from pymystem3 import Mystem\n",
    "m = Mystem()\n",
    "from collections import Counter\n",
    "text = ' '.join(list(sсore_data['purpose'])) #list переводим столбец в список  \n",
    "lemmas = m.lemmatize(text)\n",
    "\n",
    "def lemm_text(text):\n",
    "    return m.lemmatize(text)\n",
    "\n",
    "sсore_data['purpose_lemmas'] = sсore_data['purpose'].apply(lemm_text)\n"
   ]
  },
  {
   "cell_type": "code",
   "execution_count": 44,
   "metadata": {},
   "outputs": [
    {
     "data": {
      "text/plain": [
       "0                 [покупка,  , жилье, \\n]\n",
       "1       [приобретение,  , автомобиль, \\n]\n",
       "2                 [покупка,  , жилье, \\n]\n",
       "3    [дополнительный,  , образование, \\n]\n",
       "4               [сыграть,  , свадьба, \\n]\n",
       "Name: purpose_lemmas, dtype: object"
      ]
     },
     "execution_count": 44,
     "metadata": {},
     "output_type": "execute_result"
    }
   ],
   "source": [
    "#новый столбец\n",
    "sсore_data['purpose_lemmas'].head()"
   ]
  },
  {
   "cell_type": "code",
   "execution_count": 45,
   "metadata": {},
   "outputs": [
    {
     "data": {
      "text/plain": [
       "Counter({'покупка': 5841,\n",
       "         ' ': 54516,\n",
       "         'жилье': 4414,\n",
       "         'приобретение': 457,\n",
       "         'автомобиль': 4260,\n",
       "         'дополнительный': 896,\n",
       "         'образование': 3971,\n",
       "         'сыграть': 759,\n",
       "         'свадьба': 2310,\n",
       "         'операция': 2576,\n",
       "         'с': 2886,\n",
       "         'на': 2202,\n",
       "         'проведение': 764,\n",
       "         'для': 1284,\n",
       "         'семья': 636,\n",
       "         'недвижимость': 6292,\n",
       "         'коммерческий': 1299,\n",
       "         'жилой': 1217,\n",
       "         'строительство': 1863,\n",
       "         'собственный': 626,\n",
       "         'подержать': 838,\n",
       "         'свой': 2213,\n",
       "         'со': 623,\n",
       "         'заниматься': 900,\n",
       "         'сделка': 933,\n",
       "         'получение': 1305,\n",
       "         'высокий': 1359,\n",
       "         'подержанный': 112,\n",
       "         'профильный': 431,\n",
       "         'сдача': 648,\n",
       "         'ремонт': 602,\n",
       "         '\\n': 1})"
      ]
     },
     "execution_count": 45,
     "metadata": {},
     "output_type": "execute_result"
    }
   ],
   "source": [
    "# составим словарь целей\n",
    "\n",
    "from pymystem3 import Mystem\n",
    "m = Mystem()\n",
    "text = ' '.join(list(sсore_data['purpose'])) \n",
    "lemmas = m.lemmatize(text)\n",
    "\n",
    "from collections import Counter\n",
    "dictionary = Counter(lemmas)\n",
    "dictionary\n"
   ]
  },
  {
   "cell_type": "code",
   "execution_count": 46,
   "metadata": {},
   "outputs": [
    {
     "data": {
      "text/html": [
       "<div>\n",
       "<style scoped>\n",
       "    .dataframe tbody tr th:only-of-type {\n",
       "        vertical-align: middle;\n",
       "    }\n",
       "\n",
       "    .dataframe tbody tr th {\n",
       "        vertical-align: top;\n",
       "    }\n",
       "\n",
       "    .dataframe thead th {\n",
       "        text-align: right;\n",
       "    }\n",
       "</style>\n",
       "<table border=\"1\" class=\"dataframe\">\n",
       "  <thead>\n",
       "    <tr style=\"text-align: right;\">\n",
       "      <th></th>\n",
       "      <th>children</th>\n",
       "      <th>days_employed</th>\n",
       "      <th>dob_years</th>\n",
       "      <th>education</th>\n",
       "      <th>education_id</th>\n",
       "      <th>family_status</th>\n",
       "      <th>family_status_id</th>\n",
       "      <th>gender</th>\n",
       "      <th>income_type</th>\n",
       "      <th>debt</th>\n",
       "      <th>total_income</th>\n",
       "      <th>purpose</th>\n",
       "      <th>update_days_employed</th>\n",
       "      <th>update_total_income</th>\n",
       "      <th>education_lowercase</th>\n",
       "      <th>purpose_lemmas</th>\n",
       "    </tr>\n",
       "    <tr>\n",
       "      <th>purpose_new</th>\n",
       "      <th></th>\n",
       "      <th></th>\n",
       "      <th></th>\n",
       "      <th></th>\n",
       "      <th></th>\n",
       "      <th></th>\n",
       "      <th></th>\n",
       "      <th></th>\n",
       "      <th></th>\n",
       "      <th></th>\n",
       "      <th></th>\n",
       "      <th></th>\n",
       "      <th></th>\n",
       "      <th></th>\n",
       "      <th></th>\n",
       "      <th></th>\n",
       "    </tr>\n",
       "  </thead>\n",
       "  <tbody>\n",
       "    <tr>\n",
       "      <td>автомобиль</td>\n",
       "      <td>4260</td>\n",
       "      <td>3851</td>\n",
       "      <td>4260</td>\n",
       "      <td>4260</td>\n",
       "      <td>4260</td>\n",
       "      <td>4260</td>\n",
       "      <td>4260</td>\n",
       "      <td>4260</td>\n",
       "      <td>4260</td>\n",
       "      <td>4260</td>\n",
       "      <td>3851</td>\n",
       "      <td>4260</td>\n",
       "      <td>4260</td>\n",
       "      <td>4260</td>\n",
       "      <td>4260</td>\n",
       "      <td>4260</td>\n",
       "    </tr>\n",
       "    <tr>\n",
       "      <td>жилье</td>\n",
       "      <td>4414</td>\n",
       "      <td>3994</td>\n",
       "      <td>4414</td>\n",
       "      <td>4414</td>\n",
       "      <td>4414</td>\n",
       "      <td>4414</td>\n",
       "      <td>4414</td>\n",
       "      <td>4414</td>\n",
       "      <td>4414</td>\n",
       "      <td>4414</td>\n",
       "      <td>3994</td>\n",
       "      <td>4414</td>\n",
       "      <td>4414</td>\n",
       "      <td>4414</td>\n",
       "      <td>4414</td>\n",
       "      <td>4414</td>\n",
       "    </tr>\n",
       "    <tr>\n",
       "      <td>недвижимость</td>\n",
       "      <td>6292</td>\n",
       "      <td>5670</td>\n",
       "      <td>6292</td>\n",
       "      <td>6292</td>\n",
       "      <td>6292</td>\n",
       "      <td>6292</td>\n",
       "      <td>6292</td>\n",
       "      <td>6292</td>\n",
       "      <td>6292</td>\n",
       "      <td>6292</td>\n",
       "      <td>5670</td>\n",
       "      <td>6292</td>\n",
       "      <td>6292</td>\n",
       "      <td>6292</td>\n",
       "      <td>6292</td>\n",
       "      <td>6292</td>\n",
       "    </tr>\n",
       "    <tr>\n",
       "      <td>образование</td>\n",
       "      <td>3971</td>\n",
       "      <td>3557</td>\n",
       "      <td>3971</td>\n",
       "      <td>3971</td>\n",
       "      <td>3971</td>\n",
       "      <td>3971</td>\n",
       "      <td>3971</td>\n",
       "      <td>3971</td>\n",
       "      <td>3971</td>\n",
       "      <td>3971</td>\n",
       "      <td>3557</td>\n",
       "      <td>3971</td>\n",
       "      <td>3971</td>\n",
       "      <td>3971</td>\n",
       "      <td>3971</td>\n",
       "      <td>3971</td>\n",
       "    </tr>\n",
       "    <tr>\n",
       "      <td>свадьба</td>\n",
       "      <td>2310</td>\n",
       "      <td>2077</td>\n",
       "      <td>2310</td>\n",
       "      <td>2310</td>\n",
       "      <td>2310</td>\n",
       "      <td>2310</td>\n",
       "      <td>2310</td>\n",
       "      <td>2310</td>\n",
       "      <td>2310</td>\n",
       "      <td>2310</td>\n",
       "      <td>2077</td>\n",
       "      <td>2310</td>\n",
       "      <td>2310</td>\n",
       "      <td>2310</td>\n",
       "      <td>2310</td>\n",
       "      <td>2310</td>\n",
       "    </tr>\n",
       "  </tbody>\n",
       "</table>\n",
       "</div>"
      ],
      "text/plain": [
       "              children  days_employed  dob_years  education  education_id  \\\n",
       "purpose_new                                                                 \n",
       "автомобиль        4260           3851       4260       4260          4260   \n",
       "жилье             4414           3994       4414       4414          4414   \n",
       "недвижимость      6292           5670       6292       6292          6292   \n",
       "образование       3971           3557       3971       3971          3971   \n",
       "свадьба           2310           2077       2310       2310          2310   \n",
       "\n",
       "              family_status  family_status_id  gender  income_type  debt  \\\n",
       "purpose_new                                                                \n",
       "автомобиль             4260              4260    4260         4260  4260   \n",
       "жилье                  4414              4414    4414         4414  4414   \n",
       "недвижимость           6292              6292    6292         6292  6292   \n",
       "образование            3971              3971    3971         3971  3971   \n",
       "свадьба                2310              2310    2310         2310  2310   \n",
       "\n",
       "              total_income  purpose  update_days_employed  \\\n",
       "purpose_new                                                 \n",
       "автомобиль            3851     4260                  4260   \n",
       "жилье                 3994     4414                  4414   \n",
       "недвижимость          5670     6292                  6292   \n",
       "образование           3557     3971                  3971   \n",
       "свадьба               2077     2310                  2310   \n",
       "\n",
       "              update_total_income  education_lowercase  purpose_lemmas  \n",
       "purpose_new                                                             \n",
       "автомобиль                   4260                 4260            4260  \n",
       "жилье                        4414                 4414            4414  \n",
       "недвижимость                 6292                 6292            6292  \n",
       "образование                  3971                 3971            3971  \n",
       "свадьба                      2310                 2310            2310  "
      ]
     },
     "execution_count": 46,
     "metadata": {},
     "output_type": "execute_result"
    }
   ],
   "source": [
    "#через ручную обработку выделим группы кредитов по целям - выделим самые крупные группы и создадаим словарь целей\n",
    "\n",
    "dictionary_purpose = ['жилье', 'автомобиль', 'образование', 'свадьба','недвижимость', 'строительство']\n",
    "\n",
    "#\n",
    "def purpose_new (purpose_lemmas):\n",
    "    for pur in dictionary_purpose:\n",
    "        if pur in purpose_lemmas:\n",
    "            return pur\n",
    "        \n",
    "sсore_data['purpose_new'] = sсore_data['purpose_lemmas'].apply(purpose_new)\n",
    "sсore_data.groupby('purpose_new').count()\n"
   ]
  },
  {
   "cell_type": "markdown",
   "metadata": {},
   "source": [
    "### Вывод"
   ]
  },
  {
   "cell_type": "markdown",
   "metadata": {},
   "source": [
    " #проведена лемматизация целей кредита. Все цели сгруппированы на пять крупных целей."
   ]
  },
  {
   "cell_type": "markdown",
   "metadata": {},
   "source": [
    "### Категоризация данных"
   ]
  },
  {
   "cell_type": "code",
   "execution_count": 47,
   "metadata": {},
   "outputs": [
    {
     "name": "stdout",
     "output_type": "stream",
     "text": [
      "children_count\n",
      "1-2 детей       6832\n",
      "без детей      14037\n",
      "многодетные      378\n",
      "Name: children_count, dtype: int64\n"
     ]
    }
   ],
   "source": [
    "# проведем категоризацию данных по 4 критериям (исходя из целей проекта): семейное положение, наличие детей и средний доход.\n",
    "# делим всех заемщиков из выборки на три категории по фактору наличия детей: без детей, 1-2, 3 и более многодетные.\n",
    "\n",
    "#категоризация по наличию детей.\n",
    "\n",
    "def chil_number_group(chil):\n",
    "    if chil == 0:\n",
    "        return 'без детей'\n",
    "    if chil <= 2:\n",
    "        return '1-2 детей'\n",
    "    return 'многодетные'\n",
    "\n",
    "sсore_data['children_count'] = sсore_data['children'].apply(chil_number_group)\n",
    "\n",
    "print(sсore_data.groupby('children_count')['children_count'].count())\n"
   ]
  },
  {
   "cell_type": "code",
   "execution_count": 48,
   "metadata": {},
   "outputs": [
    {
     "name": "stdout",
     "output_type": "stream",
     "text": [
      "marital_status\n",
      "не состоит в браке     9029\n",
      "состоит в браке       12218\n",
      "Name: marital_status, dtype: int64\n"
     ]
    }
   ],
   "source": [
    "#категоризация по семейному положению\n",
    "\n",
    "def marital_status(status):\n",
    "    if status == 'женат / замужем':\n",
    "        return 'состоит в браке'\n",
    "    return 'не состоит в браке'\n",
    "\n",
    "sсore_data['marital_status'] = sсore_data['family_status'].apply(marital_status)\n",
    "\n",
    "print(sсore_data.groupby('marital_status')['marital_status'].count())\n"
   ]
  },
  {
   "cell_type": "code",
   "execution_count": 54,
   "metadata": {},
   "outputs": [
    {
     "data": {
      "text/plain": [
       "группа риска                   5433\n",
       "богатые                        5313\n",
       "бедные                         5312\n",
       "группа с устойчивым доходом    5189\n",
       "Name: total_income_status, dtype: int64"
      ]
     },
     "execution_count": 54,
     "metadata": {},
     "output_type": "execute_result"
    }
   ],
   "source": [
    "#категоризация по уровню дохода\n",
    "#для этого используем метод describe() и полученные с его помощью значения квантилей распредления  \n",
    "#25%(в выборке 25% процентов имеют такой доход или ниже), по первому квантилю будем определять бедных\n",
    "#50% (в выборке 50% процентов имеют такой доход или ниже), по второму группу риска\n",
    "#75% (в выборке 75% имет такой доход или ниже), по третьему группа с устойчивым доходом\n",
    "# все остальные  \"группа в высоким доходом\"\n",
    "\n",
    "income_limits = sсore_data[['update_total_income']].describe().astype('int').T[['25%', '50%', '75%']].values.tolist()\n",
    "\n",
    "\n",
    "def total_income_status(update_total_income):\n",
    "    if update_total_income <= income_limits[0][0]:\n",
    "        return 'бедные'\n",
    "    if update_total_income <= income_limits[0][1]:\n",
    "        return 'группа риска'\n",
    "    if update_total_income < income_limits[0][2]:\n",
    "        return 'группа с устойчивым доходом'\n",
    "    return 'богатые'\n",
    "\n",
    "sсore_data['total_income_status'] = sсore_data['update_total_income'].apply(total_income_status)\n",
    "sсore_data['total_income_status'].value_counts()\n",
    "\n",
    "# получаем наши квантили и методом Т транспонируем для подстановки в будущую формулу (при измнении данных поможет избежать\n",
    "#ручной подстановки)\n",
    "# формируем из них список\n",
    "\n",
    "\n"
   ]
  },
  {
   "cell_type": "markdown",
   "metadata": {},
   "source": [
    "### Вывод \n"
   ]
  },
  {
   "cell_type": "markdown",
   "metadata": {},
   "source": [
    "#в исследуемом массиве данных были найдены следующие закономерности:\n",
    "#люди, не имеющие детей вдвое чаще берут кредиты,чем люди, не имеющие детей, а многодетные семьи и вовсе избегают кредитов \n",
    "#(менее 2%)\n",
    "#люди, не состоящие в браке крайне редко берут кредиты, относительно людей, состоящих в зарегестрированном браке\n",
    "#(соотношение 1:55). Проведена категоризация данных по доходу на 4 группы: бедные,группа риска,группа с устойчивым доходом и #богатые. Большая часть - \"группа риска\", впрочем, совсем незначительно превышает остальные группы. Можно сказать о примерно #равномерном распределении групп\n"
   ]
  },
  {
   "cell_type": "markdown",
   "metadata": {},
   "source": [
    "### Шаг 3. Ответьте на вопросы"
   ]
  },
  {
   "cell_type": "markdown",
   "metadata": {},
   "source": [
    "- Есть ли зависимость между наличием детей и возвратом кредита в срок?"
   ]
  },
  {
   "cell_type": "code",
   "execution_count": 67,
   "metadata": {},
   "outputs": [
    {
     "name": "stdout",
     "output_type": "stream",
     "text": [
      "debt                0     1  total_debt  percent_non_repayment\n",
      "children_count                                                \n",
      "1-2 детей        6197   635        6832               0.092945\n",
      "многодетные       347    31         378               0.082011\n",
      "без детей       12979  1058       14037               0.075372\n"
     ]
    }
   ],
   "source": [
    "sсore_data_pivot = sсore_data.pivot_table(index='children_count', columns='debt', values='gender', aggfunc='count')\n",
    "\n",
    "sсore_data_pivot['total_debt'] = sсore_data_pivot[0] + sсore_data_pivot[1]\n",
    "\n",
    "sсore_data_pivot['percent_non_repayment'] = sсore_data_pivot[1] / sсore_data_pivot['total_debt']\n",
    "\n",
    "\n",
    "print(sсore_data_pivot.sort_values( by = 'percent_non_repayment', ascending=False))\n"
   ]
  },
  {
   "cell_type": "markdown",
   "metadata": {},
   "source": [
    "### Вывод"
   ]
  },
  {
   "cell_type": "markdown",
   "metadata": {},
   "source": [
    "#согласно полученным данным, наибольший процент невозврата кредитов в срок в категории заемщики, имеющие 1-2 ребенка (9%). #далее следуют многодетные заемщики (8%) и бездетные (7.5%). Прямой зависимости от количества детей не наблюдается. Т.к., в #случае прямой зависимости, рейтинг строился бы по убыванию или возрастанию многодетные, 1-2 ребенка, без детей."
   ]
  },
  {
   "cell_type": "markdown",
   "metadata": {},
   "source": [
    "- Есть ли зависимость между семейным положением и возвратом кредита в срок?"
   ]
  },
  {
   "cell_type": "code",
   "execution_count": 68,
   "metadata": {},
   "outputs": [
    {
     "name": "stdout",
     "output_type": "stream",
     "text": [
      "debt                    0    1  total_debt  percent_non_repayment\n",
      "marital_status                                                   \n",
      "не состоит в браке   8228  801        9029               0.088714\n",
      "состоит в браке     11295  923       12218               0.075544\n"
     ]
    }
   ],
   "source": [
    "sсore_data_pivot_1 = sсore_data.pivot_table(index='marital_status', columns='debt', values='gender', aggfunc='count')\n",
    "\n",
    "sсore_data_pivot_1['total_debt'] = sсore_data_pivot_1[0] + sсore_data_pivot_1[1]\n",
    "\n",
    "sсore_data_pivot_1['percent_non_repayment'] = sсore_data_pivot_1[1] / sсore_data_pivot_1['total_debt']\n",
    "\n",
    "\n",
    "print(sсore_data_pivot_1.sort_values( by = 'percent_non_repayment', ascending=False))"
   ]
  },
  {
   "cell_type": "markdown",
   "metadata": {},
   "source": [
    "### Вывод"
   ]
  },
  {
   "cell_type": "markdown",
   "metadata": {},
   "source": [
    "#Группа заемщиков, состоящая в браке реже возвращает кредиты с просчрочкой, чем группа не состоящих в браке. Вероятность #возрата в срок выше у группы заемщиков, состоящих в браке.\n"
   ]
  },
  {
   "cell_type": "markdown",
   "metadata": {},
   "source": [
    "- Есть ли зависимость между уровнем дохода и возвратом кредита в срок?"
   ]
  },
  {
   "cell_type": "code",
   "execution_count": 69,
   "metadata": {},
   "outputs": [
    {
     "name": "stdout",
     "output_type": "stream",
     "text": [
      "debt                            0    1  total_debt  percent_non_repayment\n",
      "total_income_status                                                      \n",
      "группа риска                 4955  478        5433               0.087981\n",
      "группа с устойчивым доходом  4748  441        5189               0.084987\n",
      "бедные                       4887  425        5312               0.080008\n",
      "богатые                      4933  380        5313               0.071523\n"
     ]
    }
   ],
   "source": [
    "sсore_data_pivot_2 = sсore_data.pivot_table(index='total_income_status', columns='debt', values='gender', aggfunc='count')\n",
    "\n",
    "sсore_data_pivot_2['total_debt'] = sсore_data_pivot_2[0] + sсore_data_pivot_2[1]\n",
    "\n",
    "sсore_data_pivot_2['percent_non_repayment'] = sсore_data_pivot_2[1] / sсore_data_pivot_2['total_debt']\n",
    "\n",
    "\n",
    "print(sсore_data_pivot_2.sort_values( by = 'percent_non_repayment', ascending=False))\n",
    "                                        \n",
    "\n",
    "                                            "
   ]
  },
  {
   "cell_type": "markdown",
   "metadata": {},
   "source": [
    "### Вывод"
   ]
  },
  {
   "cell_type": "markdown",
   "metadata": {},
   "source": [
    "#чаще всего кредиты невозвращают заещмики из группы риска,что прямо противоречит гипотизе об имеющейся зависимости от уровня #дохода. В случае ее подтверждения, самыми неблагонадежными являлись бы бедные, далее, группа риска, группа с устойчивым #доходом и богатые\n",
    "#cамый добросовестные плательщики - богатные люди, и бедные.\n",
    "#зависимости вовзрата кредита в срок и уровнем дохода не выявлено"
   ]
  },
  {
   "cell_type": "markdown",
   "metadata": {},
   "source": [
    "- Как разные цели кредита влияют на его возврат в срок?"
   ]
  },
  {
   "cell_type": "code",
   "execution_count": 70,
   "metadata": {},
   "outputs": [
    {
     "name": "stdout",
     "output_type": "stream",
     "text": [
      "debt             0    1  total_debt  percent_non_repayment\n",
      "purpose_new                                               \n",
      "автомобиль    3863  397        4260               0.093192\n",
      "образование   3602  369        3971               0.092924\n",
      "свадьба       2129  181        2310               0.078355\n",
      "недвижимость  5821  471        6292               0.074857\n",
      "жилье         4108  306        4414               0.069325\n"
     ]
    }
   ],
   "source": [
    "sсore_data_pivot_3 = sсore_data.pivot_table(index='purpose_new', columns='debt', values='gender', aggfunc='count')\n",
    "\n",
    "sсore_data_pivot_3['total_debt'] = sсore_data_pivot_3[0] + sсore_data_pivot_3[1]\n",
    "\n",
    "sсore_data_pivot_3['percent_non_repayment'] = sсore_data_pivot_3[1] / sсore_data_pivot_3['total_debt']\n",
    "\n",
    "\n",
    "print(sсore_data_pivot_3.sort_values( by = 'percent_non_repayment', ascending=False))"
   ]
  },
  {
   "cell_type": "markdown",
   "metadata": {},
   "source": [
    "### Вывод"
   ]
  },
  {
   "cell_type": "markdown",
   "metadata": {},
   "source": [
    "видим интересную картину по целям кредита.\n",
    "При покупке движимого имущества (автомобиль) самый высокий процент невозврата в срок. \n",
    "Самый низкий покупка жилья - что косвенно подтверждает результаты по возврату кредита по группе состоящих в браке (сделаем допущение, что кредит берется под покупку семейного жилья, после заключения брака)\n",
    "\n"
   ]
  },
  {
   "cell_type": "markdown",
   "metadata": {},
   "source": [
    "<div style=\"border:solid green 2px; padding: 20px\"> <h1 style=\"color:green; margin-bottom:20px\">Комментарий наставника</h1>\n",
    "\n",
    "Все выводы верны, код написан правильно, радует, что используешь сводные таблицы)\n"
   ]
  },
  {
   "cell_type": "markdown",
   "metadata": {},
   "source": [
    "### Шаг 4. Общий вывод"
   ]
  },
  {
   "cell_type": "markdown",
   "metadata": {},
   "source": [
    "Были исследованы статистические данные по возвратам кредитов в срок.\n",
    "Основной целью исследования было выявление закономерности:влияет ли семейное положение и количество детей клиента на факт погашения кредита в срок. \n",
    "Выводы: количество детей прямо не влияет, семеное положение влияет (возвраткредита с просрочкой по заемщикам, состоящим в браке, ниже).\n",
    "По целям кредита выявлена самая стабильная группа по вовзрату кредита в срок - это покупка жилья, самая нестабильная - автокредит."
   ]
  },
  {
   "cell_type": "markdown",
   "metadata": {},
   "source": [
    "### Чек-лист готовности проекта\n",
    "\n",
    "Поставьте 'x' в выполненных пунктах. Далее нажмите Shift+Enter."
   ]
  },
  {
   "cell_type": "markdown",
   "metadata": {},
   "source": [
    "- [x]  открыт файл;\n",
    "- [x]  файл изучен;\n",
    "- [x]  определены пропущенные значения;\n",
    "- [x]  заполнены пропущенные значения;\n",
    "- [x]  есть пояснение какие пропущенные значения обнаружены;\n",
    "- [x]  описаны возможные причины появления пропусков в данных;\n",
    "- [x]  объяснено по какому принципу заполнены пропуски;\n",
    "- [x]  заменен вещественный тип данных на целочисленный;\n",
    "- [x]  есть пояснение какой метод используется для изменения типа данных и почему;\n",
    "- [x]  удалены дубликаты;\n",
    "- [x]  есть пояснение какой метод используется для поиска и удаления дубликатов;\n",
    "- [x]  описаны возможные причины появления дубликатов в данных;\n",
    "- [x]  выделены леммы в значениях столбца с целями получения кредита;\n",
    "- [x]  описан процесс лемматизации;\n",
    "- [x]  данные категоризированы;\n",
    "- [x]  есть объяснение принципа категоризации данных;\n",
    "- [x]  есть ответ на вопрос \"Есть ли зависимость между наличием детей и возвратом кредита в срок?\";\n",
    "- [x]  есть ответ на вопрос \"Есть ли зависимость между семейным положением и возвратом кредита в срок?\";\n",
    "- [x]  есть ответ на вопрос \"Есть ли зависимость между уровнем дохода и возвратом кредита в срок?\";\n",
    "- [x]  есть ответ на вопрос \"Как разные цели кредита влияют на его возврат в срок?\";\n",
    "- [x]  в каждом этапе есть выводы;\n",
    "- [x]  есть общий вывод."
   ]
  },
  {
   "cell_type": "markdown",
   "metadata": {},
   "source": [
    "<div style=\"border:solid  green  2px; padding: 20px\"> <h1 style=\"color: green ; margin-bottom:20px\">Комментарий наставника</h1>\n",
    "\n",
    "#### Код\n",
    "\n",
    "Всё отлично. Из того, что очень порадовало - соблюдена структура проекта, шаги из задания обозначены и выполнены последовательно, код написан аккуратно, используются комментарии к коду, быстро можно понять, какие операции выполняют сложные конструкции. В качестве совета предлагаю глубже изучить и начать чаще применять конструкцию try-except в решении задачи — это улучшит отказоустойчивость кода и обезопасит код от поломок в будущем, а так же изучить средства для построения изображений в Python для более глубокого понимания данных.\n",
    "#### Выводы\n",
    "\n",
    "У тебя отлично получается анализировать сложные данные, выдвигать корректные гипотезы и проверять свои выводы на возможность соответствия реальности. Видно глубокое понимание сути проведённого анализа. Было очень интересно проверять твой проект и следить за твоей мыслью, так держать!)\n"
   ]
  }
 ],
 "metadata": {
  "kernelspec": {
   "display_name": "Python 3",
   "language": "python",
   "name": "python3"
  },
  "language_info": {
   "codemirror_mode": {
    "name": "ipython",
    "version": 3
   },
   "file_extension": ".py",
   "mimetype": "text/x-python",
   "name": "python",
   "nbconvert_exporter": "python",
   "pygments_lexer": "ipython3",
   "version": "3.7.8"
  },
  "toc": {
   "base_numbering": 1,
   "nav_menu": {},
   "number_sections": true,
   "sideBar": true,
   "skip_h1_title": true,
   "title_cell": "Table of Contents",
   "title_sidebar": "Contents",
   "toc_cell": false,
   "toc_position": {},
   "toc_section_display": true,
   "toc_window_display": false
  }
 },
 "nbformat": 4,
 "nbformat_minor": 2
}
