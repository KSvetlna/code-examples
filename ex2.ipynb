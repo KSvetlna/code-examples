{
 "cells": [
  {
   "cell_type": "markdown",
   "metadata": {},
   "source": [
    "# Исследование объявлений о продаже квартир\n",
    "\n",
    "В вашем распоряжении данные сервиса Яндекс.Недвижимость — архив объявлений о продаже квартир в Санкт-Петербурге и соседних населённых пунктов за несколько лет. Нужно научиться определять рыночную стоимость объектов недвижимости. Ваша задача — установить параметры. Это позволит построить автоматизированную систему: она отследит аномалии и мошенническую деятельность. \n",
    "\n",
    "По каждой квартире на продажу доступны два вида данных. Первые вписаны пользователем, вторые — получены автоматически на основе картографических данных. Например, расстояние до центра, аэропорта, ближайшего парка и водоёма. "
   ]
  },
  {
   "cell_type": "markdown",
   "metadata": {},
   "source": [
    "### Шаг 1. Откройте файл с данными и изучите общую информацию. "
   ]
  },
  {
   "cell_type": "code",
   "execution_count": 1,
   "metadata": {
    "scrolled": false
   },
   "outputs": [
    {
     "name": "stdout",
     "output_type": "stream",
     "text": [
      "<class 'pandas.core.frame.DataFrame'>\n",
      "RangeIndex: 23699 entries, 0 to 23698\n",
      "Data columns (total 22 columns):\n",
      "total_images            23699 non-null int64\n",
      "last_price              23699 non-null float64\n",
      "total_area              23699 non-null float64\n",
      "first_day_exposition    23699 non-null object\n",
      "rooms                   23699 non-null int64\n",
      "ceiling_height          14504 non-null float64\n",
      "floors_total            23613 non-null float64\n",
      "living_area             21796 non-null float64\n",
      "floor                   23699 non-null int64\n",
      "is_apartment            2775 non-null object\n",
      "studio                  23699 non-null bool\n",
      "open_plan               23699 non-null bool\n",
      "kitchen_area            21421 non-null float64\n",
      "balcony                 12180 non-null float64\n",
      "locality_name           23650 non-null object\n",
      "airports_nearest        18157 non-null float64\n",
      "cityCenters_nearest     18180 non-null float64\n",
      "parks_around3000        18181 non-null float64\n",
      "parks_nearest           8079 non-null float64\n",
      "ponds_around3000        18181 non-null float64\n",
      "ponds_nearest           9110 non-null float64\n",
      "days_exposition         20518 non-null float64\n",
      "dtypes: bool(2), float64(14), int64(3), object(3)\n",
      "memory usage: 3.7+ MB\n"
     ]
    }
   ],
   "source": [
    "import pandas as pd\n",
    "import matplotlib.pyplot as plt \n",
    "\n",
    "basic_data = pd.read_csv('/datasets/real_estate_data.csv', sep ='\\t')\n",
    "\n",
    "basic_data.info()\n"
   ]
  },
  {
   "cell_type": "code",
   "execution_count": 2,
   "metadata": {},
   "outputs": [
    {
     "data": {
      "text/html": [
       "<div>\n",
       "<style scoped>\n",
       "    .dataframe tbody tr th:only-of-type {\n",
       "        vertical-align: middle;\n",
       "    }\n",
       "\n",
       "    .dataframe tbody tr th {\n",
       "        vertical-align: top;\n",
       "    }\n",
       "\n",
       "    .dataframe thead th {\n",
       "        text-align: right;\n",
       "    }\n",
       "</style>\n",
       "<table border=\"1\" class=\"dataframe\">\n",
       "  <thead>\n",
       "    <tr style=\"text-align: right;\">\n",
       "      <th></th>\n",
       "      <th>total_images</th>\n",
       "      <th>last_price</th>\n",
       "      <th>total_area</th>\n",
       "      <th>first_day_exposition</th>\n",
       "      <th>rooms</th>\n",
       "      <th>ceiling_height</th>\n",
       "      <th>floors_total</th>\n",
       "      <th>living_area</th>\n",
       "      <th>floor</th>\n",
       "      <th>is_apartment</th>\n",
       "      <th>...</th>\n",
       "      <th>kitchen_area</th>\n",
       "      <th>balcony</th>\n",
       "      <th>locality_name</th>\n",
       "      <th>airports_nearest</th>\n",
       "      <th>cityCenters_nearest</th>\n",
       "      <th>parks_around3000</th>\n",
       "      <th>parks_nearest</th>\n",
       "      <th>ponds_around3000</th>\n",
       "      <th>ponds_nearest</th>\n",
       "      <th>days_exposition</th>\n",
       "    </tr>\n",
       "  </thead>\n",
       "  <tbody>\n",
       "    <tr>\n",
       "      <td>0</td>\n",
       "      <td>20</td>\n",
       "      <td>13000000.0</td>\n",
       "      <td>108.0</td>\n",
       "      <td>2019-03-07T00:00:00</td>\n",
       "      <td>3</td>\n",
       "      <td>2.70</td>\n",
       "      <td>16.0</td>\n",
       "      <td>51.0</td>\n",
       "      <td>8</td>\n",
       "      <td>NaN</td>\n",
       "      <td>...</td>\n",
       "      <td>25.0</td>\n",
       "      <td>NaN</td>\n",
       "      <td>Санкт-Петербург</td>\n",
       "      <td>18863.0</td>\n",
       "      <td>16028.0</td>\n",
       "      <td>1.0</td>\n",
       "      <td>482.0</td>\n",
       "      <td>2.0</td>\n",
       "      <td>755.0</td>\n",
       "      <td>NaN</td>\n",
       "    </tr>\n",
       "    <tr>\n",
       "      <td>1</td>\n",
       "      <td>7</td>\n",
       "      <td>3350000.0</td>\n",
       "      <td>40.4</td>\n",
       "      <td>2018-12-04T00:00:00</td>\n",
       "      <td>1</td>\n",
       "      <td>NaN</td>\n",
       "      <td>11.0</td>\n",
       "      <td>18.6</td>\n",
       "      <td>1</td>\n",
       "      <td>NaN</td>\n",
       "      <td>...</td>\n",
       "      <td>11.0</td>\n",
       "      <td>2.0</td>\n",
       "      <td>посёлок Шушары</td>\n",
       "      <td>12817.0</td>\n",
       "      <td>18603.0</td>\n",
       "      <td>0.0</td>\n",
       "      <td>NaN</td>\n",
       "      <td>0.0</td>\n",
       "      <td>NaN</td>\n",
       "      <td>81.0</td>\n",
       "    </tr>\n",
       "    <tr>\n",
       "      <td>2</td>\n",
       "      <td>10</td>\n",
       "      <td>5196000.0</td>\n",
       "      <td>56.0</td>\n",
       "      <td>2015-08-20T00:00:00</td>\n",
       "      <td>2</td>\n",
       "      <td>NaN</td>\n",
       "      <td>5.0</td>\n",
       "      <td>34.3</td>\n",
       "      <td>4</td>\n",
       "      <td>NaN</td>\n",
       "      <td>...</td>\n",
       "      <td>8.3</td>\n",
       "      <td>0.0</td>\n",
       "      <td>Санкт-Петербург</td>\n",
       "      <td>21741.0</td>\n",
       "      <td>13933.0</td>\n",
       "      <td>1.0</td>\n",
       "      <td>90.0</td>\n",
       "      <td>2.0</td>\n",
       "      <td>574.0</td>\n",
       "      <td>558.0</td>\n",
       "    </tr>\n",
       "    <tr>\n",
       "      <td>3</td>\n",
       "      <td>0</td>\n",
       "      <td>64900000.0</td>\n",
       "      <td>159.0</td>\n",
       "      <td>2015-07-24T00:00:00</td>\n",
       "      <td>3</td>\n",
       "      <td>NaN</td>\n",
       "      <td>14.0</td>\n",
       "      <td>NaN</td>\n",
       "      <td>9</td>\n",
       "      <td>NaN</td>\n",
       "      <td>...</td>\n",
       "      <td>NaN</td>\n",
       "      <td>0.0</td>\n",
       "      <td>Санкт-Петербург</td>\n",
       "      <td>28098.0</td>\n",
       "      <td>6800.0</td>\n",
       "      <td>2.0</td>\n",
       "      <td>84.0</td>\n",
       "      <td>3.0</td>\n",
       "      <td>234.0</td>\n",
       "      <td>424.0</td>\n",
       "    </tr>\n",
       "    <tr>\n",
       "      <td>4</td>\n",
       "      <td>2</td>\n",
       "      <td>10000000.0</td>\n",
       "      <td>100.0</td>\n",
       "      <td>2018-06-19T00:00:00</td>\n",
       "      <td>2</td>\n",
       "      <td>3.03</td>\n",
       "      <td>14.0</td>\n",
       "      <td>32.0</td>\n",
       "      <td>13</td>\n",
       "      <td>NaN</td>\n",
       "      <td>...</td>\n",
       "      <td>41.0</td>\n",
       "      <td>NaN</td>\n",
       "      <td>Санкт-Петербург</td>\n",
       "      <td>31856.0</td>\n",
       "      <td>8098.0</td>\n",
       "      <td>2.0</td>\n",
       "      <td>112.0</td>\n",
       "      <td>1.0</td>\n",
       "      <td>48.0</td>\n",
       "      <td>121.0</td>\n",
       "    </tr>\n",
       "  </tbody>\n",
       "</table>\n",
       "<p>5 rows × 22 columns</p>\n",
       "</div>"
      ],
      "text/plain": [
       "   total_images  last_price  total_area first_day_exposition  rooms  \\\n",
       "0            20  13000000.0       108.0  2019-03-07T00:00:00      3   \n",
       "1             7   3350000.0        40.4  2018-12-04T00:00:00      1   \n",
       "2            10   5196000.0        56.0  2015-08-20T00:00:00      2   \n",
       "3             0  64900000.0       159.0  2015-07-24T00:00:00      3   \n",
       "4             2  10000000.0       100.0  2018-06-19T00:00:00      2   \n",
       "\n",
       "   ceiling_height  floors_total  living_area  floor is_apartment  ...  \\\n",
       "0            2.70          16.0         51.0      8          NaN  ...   \n",
       "1             NaN          11.0         18.6      1          NaN  ...   \n",
       "2             NaN           5.0         34.3      4          NaN  ...   \n",
       "3             NaN          14.0          NaN      9          NaN  ...   \n",
       "4            3.03          14.0         32.0     13          NaN  ...   \n",
       "\n",
       "   kitchen_area  balcony    locality_name  airports_nearest  \\\n",
       "0          25.0      NaN  Санкт-Петербург           18863.0   \n",
       "1          11.0      2.0   посёлок Шушары           12817.0   \n",
       "2           8.3      0.0  Санкт-Петербург           21741.0   \n",
       "3           NaN      0.0  Санкт-Петербург           28098.0   \n",
       "4          41.0      NaN  Санкт-Петербург           31856.0   \n",
       "\n",
       "  cityCenters_nearest  parks_around3000  parks_nearest  ponds_around3000  \\\n",
       "0             16028.0               1.0          482.0               2.0   \n",
       "1             18603.0               0.0            NaN               0.0   \n",
       "2             13933.0               1.0           90.0               2.0   \n",
       "3              6800.0               2.0           84.0               3.0   \n",
       "4              8098.0               2.0          112.0               1.0   \n",
       "\n",
       "   ponds_nearest  days_exposition  \n",
       "0          755.0              NaN  \n",
       "1            NaN             81.0  \n",
       "2          574.0            558.0  \n",
       "3          234.0            424.0  \n",
       "4           48.0            121.0  \n",
       "\n",
       "[5 rows x 22 columns]"
      ]
     },
     "execution_count": 2,
     "metadata": {},
     "output_type": "execute_result"
    }
   ],
   "source": [
    "basic_data.head()"
   ]
  },
  {
   "cell_type": "markdown",
   "metadata": {},
   "source": [
    "### Вывод"
   ]
  },
  {
   "cell_type": "markdown",
   "metadata": {},
   "source": [
    "Предложенные для анализа данные имеют следующие харакетиристики: количество столбцов - 22, количество строк -23699.\n",
    "Структура данных: 14 колонок с дробными числами (тип данных float64), 3 колонки с текстовыми данными, 3 с вещественными числами, 2 с логическим (булев) тип данных. \n",
    "в 14 колонках при первичной оценке данных идентифицированы отсутсвующие значения (по количеству строк).\n",
    "нулевые значения не выявлены ни в одном столбце (non-null)\n",
    "is_apartment;parks_nearest;ponds_nearest;balcony;ceiling_height;airports_nearest;cityCenters_nearest;parks_around3000;ponds_around3000;days_exposition;kitchen_area;living_area;floors_total;locality_name\n"
   ]
  },
  {
   "cell_type": "markdown",
   "metadata": {},
   "source": [
    "### Шаг 2. Предобработка данных"
   ]
  },
  {
   "cell_type": "code",
   "execution_count": 3,
   "metadata": {
    "scrolled": true
   },
   "outputs": [
    {
     "data": {
      "text/plain": [
       "10    1798\n",
       "9     1725\n",
       "20    1694\n",
       "8     1585\n",
       "7     1521\n",
       "6     1482\n",
       "11    1362\n",
       "5     1301\n",
       "12    1225\n",
       "0     1059\n",
       "13    1015\n",
       "14     986\n",
       "4      986\n",
       "15     948\n",
       "1      872\n",
       "3      769\n",
       "16     761\n",
       "17     650\n",
       "18     642\n",
       "2      640\n",
       "19     603\n",
       "23      16\n",
       "21      12\n",
       "24       8\n",
       "22       8\n",
       "26       5\n",
       "28       4\n",
       "32       4\n",
       "50       3\n",
       "29       3\n",
       "31       2\n",
       "35       2\n",
       "30       2\n",
       "27       2\n",
       "37       1\n",
       "39       1\n",
       "25       1\n",
       "42       1\n",
       "Name: total_images, dtype: int64"
      ]
     },
     "execution_count": 3,
     "metadata": {},
     "output_type": "execute_result"
    }
   ],
   "source": [
    "#общий алгоритм действий для каждого столбца будет одинаковым: считаем количество значений, спользуя метод .value_counts,\n",
    "#далее выявляем пропуски и ищем оптимальный способ их заполнения.\n",
    "\n",
    "basic_data['total_images'].value_counts()\n",
    "\n",
    "\n",
    "\n"
   ]
  },
  {
   "cell_type": "code",
   "execution_count": 4,
   "metadata": {},
   "outputs": [
    {
     "data": {
      "text/plain": [
       "total_images            0\n",
       "last_price              0\n",
       "total_area              0\n",
       "first_day_exposition    0\n",
       "rooms                   0\n",
       "ceiling_height          0\n",
       "floors_total            0\n",
       "living_area             0\n",
       "floor                   0\n",
       "is_apartment            0\n",
       "studio                  0\n",
       "open_plan               0\n",
       "kitchen_area            0\n",
       "balcony                 0\n",
       "locality_name           0\n",
       "airports_nearest        0\n",
       "cityCenters_nearest     0\n",
       "parks_around3000        0\n",
       "parks_nearest           0\n",
       "ponds_around3000        0\n",
       "ponds_nearest           0\n",
       "days_exposition         0\n",
       "dtype: int64"
      ]
     },
     "execution_count": 4,
     "metadata": {},
     "output_type": "execute_result"
    }
   ],
   "source": [
    "basic_data[basic_data['total_images'].isnull()].count()\n",
    "\n",
    "#в колонке total_images пропущенные значение не выявлены"
   ]
  },
  {
   "cell_type": "code",
   "execution_count": 5,
   "metadata": {},
   "outputs": [
    {
     "data": {
      "text/plain": [
       "4500000.0     342\n",
       "3500000.0     291\n",
       "4000000.0     260\n",
       "4300000.0     260\n",
       "4200000.0     259\n",
       "             ... \n",
       "4412094.0       1\n",
       "6416000.0       1\n",
       "4581000.0       1\n",
       "34551000.0      1\n",
       "6029433.0       1\n",
       "Name: last_price, Length: 2978, dtype: int64"
      ]
     },
     "execution_count": 5,
     "metadata": {},
     "output_type": "execute_result"
    }
   ],
   "source": [
    "basic_data['last_price'].value_counts()\n",
    "\n"
   ]
  },
  {
   "cell_type": "code",
   "execution_count": 6,
   "metadata": {},
   "outputs": [
    {
     "data": {
      "text/plain": [
       "total_images            0\n",
       "last_price              0\n",
       "total_area              0\n",
       "first_day_exposition    0\n",
       "rooms                   0\n",
       "ceiling_height          0\n",
       "floors_total            0\n",
       "living_area             0\n",
       "floor                   0\n",
       "is_apartment            0\n",
       "studio                  0\n",
       "open_plan               0\n",
       "kitchen_area            0\n",
       "balcony                 0\n",
       "locality_name           0\n",
       "airports_nearest        0\n",
       "cityCenters_nearest     0\n",
       "parks_around3000        0\n",
       "parks_nearest           0\n",
       "ponds_around3000        0\n",
       "ponds_nearest           0\n",
       "days_exposition         0\n",
       "dtype: int64"
      ]
     },
     "execution_count": 6,
     "metadata": {},
     "output_type": "execute_result"
    }
   ],
   "source": [
    "basic_data[basic_data['last_price'].isnull()].count()\n",
    "\n",
    "#в колонке last_price пропущенные значение не выявлены"
   ]
  },
  {
   "cell_type": "code",
   "execution_count": 7,
   "metadata": {},
   "outputs": [
    {
     "data": {
      "text/plain": [
       "45.00     419\n",
       "42.00     383\n",
       "60.00     347\n",
       "31.00     346\n",
       "44.00     345\n",
       "         ... \n",
       "45.85       1\n",
       "44.18       1\n",
       "59.83       1\n",
       "127.20      1\n",
       "23.55       1\n",
       "Name: total_area, Length: 2182, dtype: int64"
      ]
     },
     "execution_count": 7,
     "metadata": {},
     "output_type": "execute_result"
    }
   ],
   "source": [
    "basic_data['total_area'].value_counts()"
   ]
  },
  {
   "cell_type": "code",
   "execution_count": 8,
   "metadata": {},
   "outputs": [
    {
     "data": {
      "text/plain": [
       "total_images            0\n",
       "last_price              0\n",
       "total_area              0\n",
       "first_day_exposition    0\n",
       "rooms                   0\n",
       "ceiling_height          0\n",
       "floors_total            0\n",
       "living_area             0\n",
       "floor                   0\n",
       "is_apartment            0\n",
       "studio                  0\n",
       "open_plan               0\n",
       "kitchen_area            0\n",
       "balcony                 0\n",
       "locality_name           0\n",
       "airports_nearest        0\n",
       "cityCenters_nearest     0\n",
       "parks_around3000        0\n",
       "parks_nearest           0\n",
       "ponds_around3000        0\n",
       "ponds_nearest           0\n",
       "days_exposition         0\n",
       "dtype: int64"
      ]
     },
     "execution_count": 8,
     "metadata": {},
     "output_type": "execute_result"
    }
   ],
   "source": [
    "basic_data[basic_data['total_area'].isnull()].count()\n",
    "\n",
    "#в колонке total_area пропущенные значение не выявлены"
   ]
  },
  {
   "cell_type": "code",
   "execution_count": 9,
   "metadata": {},
   "outputs": [
    {
     "data": {
      "text/plain": [
       "2018-02-01T00:00:00    368\n",
       "2017-11-10T00:00:00    240\n",
       "2017-10-13T00:00:00    124\n",
       "2017-09-27T00:00:00    111\n",
       "2018-03-26T00:00:00     97\n",
       "                      ... \n",
       "2015-05-17T00:00:00      1\n",
       "2015-09-17T00:00:00      1\n",
       "2015-09-23T00:00:00      1\n",
       "2017-02-25T00:00:00      1\n",
       "2015-05-30T00:00:00      1\n",
       "Name: first_day_exposition, Length: 1491, dtype: int64"
      ]
     },
     "execution_count": 9,
     "metadata": {},
     "output_type": "execute_result"
    }
   ],
   "source": [
    "basic_data['first_day_exposition'].value_counts()\n"
   ]
  },
  {
   "cell_type": "code",
   "execution_count": 10,
   "metadata": {},
   "outputs": [
    {
     "data": {
      "text/plain": [
       "total_images            0\n",
       "last_price              0\n",
       "total_area              0\n",
       "first_day_exposition    0\n",
       "rooms                   0\n",
       "ceiling_height          0\n",
       "floors_total            0\n",
       "living_area             0\n",
       "floor                   0\n",
       "is_apartment            0\n",
       "studio                  0\n",
       "open_plan               0\n",
       "kitchen_area            0\n",
       "balcony                 0\n",
       "locality_name           0\n",
       "airports_nearest        0\n",
       "cityCenters_nearest     0\n",
       "parks_around3000        0\n",
       "parks_nearest           0\n",
       "ponds_around3000        0\n",
       "ponds_nearest           0\n",
       "days_exposition         0\n",
       "dtype: int64"
      ]
     },
     "execution_count": 10,
     "metadata": {},
     "output_type": "execute_result"
    }
   ],
   "source": [
    "basic_data[basic_data['first_day_exposition'].isnull()].count()\n",
    "\n",
    "#в колонке first_day_exposition пропущенные значение не выявлены"
   ]
  },
  {
   "cell_type": "code",
   "execution_count": 11,
   "metadata": {},
   "outputs": [
    {
     "data": {
      "text/html": [
       "<div>\n",
       "<style scoped>\n",
       "    .dataframe tbody tr th:only-of-type {\n",
       "        vertical-align: middle;\n",
       "    }\n",
       "\n",
       "    .dataframe tbody tr th {\n",
       "        vertical-align: top;\n",
       "    }\n",
       "\n",
       "    .dataframe thead th {\n",
       "        text-align: right;\n",
       "    }\n",
       "</style>\n",
       "<table border=\"1\" class=\"dataframe\">\n",
       "  <thead>\n",
       "    <tr style=\"text-align: right;\">\n",
       "      <th></th>\n",
       "      <th>last_price</th>\n",
       "    </tr>\n",
       "    <tr>\n",
       "      <th>rooms</th>\n",
       "      <th></th>\n",
       "    </tr>\n",
       "  </thead>\n",
       "  <tbody>\n",
       "    <tr>\n",
       "      <td>0</td>\n",
       "      <td>197</td>\n",
       "    </tr>\n",
       "    <tr>\n",
       "      <td>1</td>\n",
       "      <td>8047</td>\n",
       "    </tr>\n",
       "    <tr>\n",
       "      <td>2</td>\n",
       "      <td>7940</td>\n",
       "    </tr>\n",
       "    <tr>\n",
       "      <td>3</td>\n",
       "      <td>5814</td>\n",
       "    </tr>\n",
       "    <tr>\n",
       "      <td>4</td>\n",
       "      <td>1180</td>\n",
       "    </tr>\n",
       "    <tr>\n",
       "      <td>5</td>\n",
       "      <td>326</td>\n",
       "    </tr>\n",
       "    <tr>\n",
       "      <td>6</td>\n",
       "      <td>105</td>\n",
       "    </tr>\n",
       "    <tr>\n",
       "      <td>7</td>\n",
       "      <td>59</td>\n",
       "    </tr>\n",
       "    <tr>\n",
       "      <td>8</td>\n",
       "      <td>12</td>\n",
       "    </tr>\n",
       "    <tr>\n",
       "      <td>9</td>\n",
       "      <td>8</td>\n",
       "    </tr>\n",
       "    <tr>\n",
       "      <td>10</td>\n",
       "      <td>3</td>\n",
       "    </tr>\n",
       "    <tr>\n",
       "      <td>11</td>\n",
       "      <td>2</td>\n",
       "    </tr>\n",
       "    <tr>\n",
       "      <td>12</td>\n",
       "      <td>1</td>\n",
       "    </tr>\n",
       "    <tr>\n",
       "      <td>14</td>\n",
       "      <td>2</td>\n",
       "    </tr>\n",
       "    <tr>\n",
       "      <td>15</td>\n",
       "      <td>1</td>\n",
       "    </tr>\n",
       "    <tr>\n",
       "      <td>16</td>\n",
       "      <td>1</td>\n",
       "    </tr>\n",
       "    <tr>\n",
       "      <td>19</td>\n",
       "      <td>1</td>\n",
       "    </tr>\n",
       "  </tbody>\n",
       "</table>\n",
       "</div>"
      ],
      "text/plain": [
       "       last_price\n",
       "rooms            \n",
       "0             197\n",
       "1            8047\n",
       "2            7940\n",
       "3            5814\n",
       "4            1180\n",
       "5             326\n",
       "6             105\n",
       "7              59\n",
       "8              12\n",
       "9               8\n",
       "10              3\n",
       "11              2\n",
       "12              1\n",
       "14              2\n",
       "15              1\n",
       "16              1\n",
       "19              1"
      ]
     },
     "execution_count": 11,
     "metadata": {},
     "output_type": "execute_result"
    }
   ],
   "source": [
    "basic_data.groupby('rooms').agg({'last_price':'count'})\n",
    "\n",
    "#по сути, метод value_counts() заменили на группировку, чтоы данные были упорядочены \n",
    "#в колонке rooms пропущенные значение не выявлены"
   ]
  },
  {
   "cell_type": "code",
   "execution_count": 12,
   "metadata": {},
   "outputs": [
    {
     "data": {
      "text/html": [
       "<div>\n",
       "<style scoped>\n",
       "    .dataframe tbody tr th:only-of-type {\n",
       "        vertical-align: middle;\n",
       "    }\n",
       "\n",
       "    .dataframe tbody tr th {\n",
       "        vertical-align: top;\n",
       "    }\n",
       "\n",
       "    .dataframe thead th {\n",
       "        text-align: right;\n",
       "    }\n",
       "</style>\n",
       "<table border=\"1\" class=\"dataframe\">\n",
       "  <thead>\n",
       "    <tr style=\"text-align: right;\">\n",
       "      <th></th>\n",
       "      <th>last_price</th>\n",
       "      <th>total_area</th>\n",
       "    </tr>\n",
       "  </thead>\n",
       "  <tbody>\n",
       "    <tr>\n",
       "      <td>count</td>\n",
       "      <td>1.970000e+02</td>\n",
       "      <td>197.000000</td>\n",
       "    </tr>\n",
       "    <tr>\n",
       "      <td>mean</td>\n",
       "      <td>3.337724e+06</td>\n",
       "      <td>29.279746</td>\n",
       "    </tr>\n",
       "    <tr>\n",
       "      <td>std</td>\n",
       "      <td>5.046022e+06</td>\n",
       "      <td>25.855264</td>\n",
       "    </tr>\n",
       "    <tr>\n",
       "      <td>min</td>\n",
       "      <td>9.457500e+05</td>\n",
       "      <td>15.500000</td>\n",
       "    </tr>\n",
       "    <tr>\n",
       "      <td>25%</td>\n",
       "      <td>2.300000e+06</td>\n",
       "      <td>24.050000</td>\n",
       "    </tr>\n",
       "    <tr>\n",
       "      <td>50%</td>\n",
       "      <td>2.700000e+06</td>\n",
       "      <td>26.050000</td>\n",
       "    </tr>\n",
       "    <tr>\n",
       "      <td>75%</td>\n",
       "      <td>3.380000e+06</td>\n",
       "      <td>28.400000</td>\n",
       "    </tr>\n",
       "    <tr>\n",
       "      <td>max</td>\n",
       "      <td>7.100000e+07</td>\n",
       "      <td>371.000000</td>\n",
       "    </tr>\n",
       "  </tbody>\n",
       "</table>\n",
       "</div>"
      ],
      "text/plain": [
       "         last_price  total_area\n",
       "count  1.970000e+02  197.000000\n",
       "mean   3.337724e+06   29.279746\n",
       "std    5.046022e+06   25.855264\n",
       "min    9.457500e+05   15.500000\n",
       "25%    2.300000e+06   24.050000\n",
       "50%    2.700000e+06   26.050000\n",
       "75%    3.380000e+06   28.400000\n",
       "max    7.100000e+07  371.000000"
      ]
     },
     "execution_count": 12,
     "metadata": {},
     "output_type": "execute_result"
    }
   ],
   "source": [
    "#смущают квартиры с компатами в количестве 0, сделаем допущение, что это студии (проверим это по площади таких помещений)\n",
    "\n",
    "basic_data.query('rooms ==0')[['is_apartment', 'studio','open_plan','last_price','total_area']].describe()\n"
   ]
  },
  {
   "cell_type": "code",
   "execution_count": 13,
   "metadata": {},
   "outputs": [
    {
     "data": {
      "text/html": [
       "<div>\n",
       "<style scoped>\n",
       "    .dataframe tbody tr th:only-of-type {\n",
       "        vertical-align: middle;\n",
       "    }\n",
       "\n",
       "    .dataframe tbody tr th {\n",
       "        vertical-align: top;\n",
       "    }\n",
       "\n",
       "    .dataframe thead th {\n",
       "        text-align: right;\n",
       "    }\n",
       "</style>\n",
       "<table border=\"1\" class=\"dataframe\">\n",
       "  <thead>\n",
       "    <tr style=\"text-align: right;\">\n",
       "      <th></th>\n",
       "      <th>last_price</th>\n",
       "    </tr>\n",
       "    <tr>\n",
       "      <th>rooms</th>\n",
       "      <th></th>\n",
       "    </tr>\n",
       "  </thead>\n",
       "  <tbody>\n",
       "    <tr>\n",
       "      <td>1</td>\n",
       "      <td>8244</td>\n",
       "    </tr>\n",
       "    <tr>\n",
       "      <td>2</td>\n",
       "      <td>7940</td>\n",
       "    </tr>\n",
       "    <tr>\n",
       "      <td>3</td>\n",
       "      <td>5814</td>\n",
       "    </tr>\n",
       "    <tr>\n",
       "      <td>4</td>\n",
       "      <td>1180</td>\n",
       "    </tr>\n",
       "    <tr>\n",
       "      <td>5</td>\n",
       "      <td>326</td>\n",
       "    </tr>\n",
       "    <tr>\n",
       "      <td>6</td>\n",
       "      <td>105</td>\n",
       "    </tr>\n",
       "    <tr>\n",
       "      <td>7</td>\n",
       "      <td>59</td>\n",
       "    </tr>\n",
       "    <tr>\n",
       "      <td>8</td>\n",
       "      <td>12</td>\n",
       "    </tr>\n",
       "    <tr>\n",
       "      <td>9</td>\n",
       "      <td>8</td>\n",
       "    </tr>\n",
       "    <tr>\n",
       "      <td>10</td>\n",
       "      <td>3</td>\n",
       "    </tr>\n",
       "    <tr>\n",
       "      <td>11</td>\n",
       "      <td>2</td>\n",
       "    </tr>\n",
       "    <tr>\n",
       "      <td>12</td>\n",
       "      <td>1</td>\n",
       "    </tr>\n",
       "    <tr>\n",
       "      <td>14</td>\n",
       "      <td>2</td>\n",
       "    </tr>\n",
       "    <tr>\n",
       "      <td>15</td>\n",
       "      <td>1</td>\n",
       "    </tr>\n",
       "    <tr>\n",
       "      <td>16</td>\n",
       "      <td>1</td>\n",
       "    </tr>\n",
       "    <tr>\n",
       "      <td>19</td>\n",
       "      <td>1</td>\n",
       "    </tr>\n",
       "  </tbody>\n",
       "</table>\n",
       "</div>"
      ],
      "text/plain": [
       "       last_price\n",
       "rooms            \n",
       "1            8244\n",
       "2            7940\n",
       "3            5814\n",
       "4            1180\n",
       "5             326\n",
       "6             105\n",
       "7              59\n",
       "8              12\n",
       "9               8\n",
       "10              3\n",
       "11              2\n",
       "12              1\n",
       "14              2\n",
       "15              1\n",
       "16              1\n",
       "19              1"
      ]
     },
     "execution_count": 13,
     "metadata": {},
     "output_type": "execute_result"
    }
   ],
   "source": [
    "#75% в такой выборке - имеют площадь менее 30м2.\n",
    "#все заменим на 1\n",
    "#проверим, что замена произведена успешно\n",
    "#в реальной жизни такая замена была бы излишней, так как обьем выборки по ним слишком мал\n",
    "# их можно удалить из исходных данных \n",
    "\n",
    "\n",
    "basic_data.loc[basic_data['rooms'] ==0]=1\n",
    "\n",
    "basic_data.groupby('rooms').agg({'last_price':'count'})"
   ]
  },
  {
   "cell_type": "code",
   "execution_count": 14,
   "metadata": {},
   "outputs": [
    {
     "data": {
      "text/plain": [
       "total_images            83\n",
       "last_price              83\n",
       "total_area              83\n",
       "first_day_exposition    83\n",
       "rooms                   83\n",
       "ceiling_height           9\n",
       "floors_total             0\n",
       "living_area             53\n",
       "floor                   83\n",
       "is_apartment             0\n",
       "studio                  83\n",
       "open_plan               83\n",
       "kitchen_area            39\n",
       "balcony                 47\n",
       "locality_name           82\n",
       "airports_nearest        75\n",
       "cityCenters_nearest     75\n",
       "parks_around3000        75\n",
       "parks_nearest           33\n",
       "ponds_around3000        75\n",
       "ponds_nearest           48\n",
       "days_exposition         74\n",
       "dtype: int64"
      ]
     },
     "execution_count": 14,
     "metadata": {},
     "output_type": "execute_result"
    }
   ],
   "source": [
    "basic_data[basic_data['floors_total'].isnull()].count() #заменим наши пропуски нулевыми значениями, так как иного логически обоснованного спосоа их замены нет (дома могут быть разного года постройки и т.д.)"
   ]
  },
  {
   "cell_type": "code",
   "execution_count": 15,
   "metadata": {},
   "outputs": [],
   "source": [
    "basic_data['floors_total'] = basic_data['floors_total'].fillna(value = 0)"
   ]
  },
  {
   "cell_type": "code",
   "execution_count": 16,
   "metadata": {},
   "outputs": [
    {
     "data": {
      "text/plain": [
       "total_images            0\n",
       "last_price              0\n",
       "total_area              0\n",
       "first_day_exposition    0\n",
       "rooms                   0\n",
       "ceiling_height          0\n",
       "floors_total            0\n",
       "living_area             0\n",
       "floor                   0\n",
       "is_apartment            0\n",
       "studio                  0\n",
       "open_plan               0\n",
       "kitchen_area            0\n",
       "balcony                 0\n",
       "locality_name           0\n",
       "airports_nearest        0\n",
       "cityCenters_nearest     0\n",
       "parks_around3000        0\n",
       "parks_nearest           0\n",
       "ponds_around3000        0\n",
       "ponds_nearest           0\n",
       "days_exposition         0\n",
       "dtype: int64"
      ]
     },
     "execution_count": 16,
     "metadata": {},
     "output_type": "execute_result"
    }
   ],
   "source": [
    "basic_data[basic_data['floors_total'].isnull()].count() #проверим успешность замены "
   ]
  },
  {
   "cell_type": "code",
   "execution_count": 17,
   "metadata": {},
   "outputs": [
    {
     "data": {
      "text/plain": [
       "total_images            1889\n",
       "last_price              1889\n",
       "total_area              1889\n",
       "first_day_exposition    1889\n",
       "rooms                   1889\n",
       "ceiling_height           792\n",
       "floors_total            1889\n",
       "living_area                0\n",
       "floor                   1889\n",
       "is_apartment             120\n",
       "studio                  1889\n",
       "open_plan               1889\n",
       "kitchen_area             439\n",
       "balcony                  495\n",
       "locality_name           1884\n",
       "airports_nearest        1270\n",
       "cityCenters_nearest     1272\n",
       "parks_around3000        1272\n",
       "parks_nearest            574\n",
       "ponds_around3000        1272\n",
       "ponds_nearest            687\n",
       "days_exposition         1693\n",
       "dtype: int64"
      ]
     },
     "execution_count": 17,
     "metadata": {},
     "output_type": "execute_result"
    }
   ],
   "source": [
    "basic_data[basic_data['living_area'].isnull()].count() #заполним эти пропуски"
   ]
  },
  {
   "cell_type": "code",
   "execution_count": 18,
   "metadata": {},
   "outputs": [],
   "source": [
    "#для этого столбца заменим пропуски на медианное значение по квартирам со сопоставимым числом комнат\n",
    "#создаем таблицу-справочник\n",
    "basic_data['living_area_upd'] = basic_data['living_area']\n",
    "\n",
    "for rooms in basic_data['rooms'].unique():\n",
    "    med_living_area = basic_data[basic_data['rooms'] == rooms]['living_area'].median()\n",
    "    basic_data.loc[(basic_data['living_area_upd'].isna()) & (basic_data['rooms'] == rooms), 'living_area_upd'] = med_living_area\n",
    "\n",
    "\n"
   ]
  },
  {
   "cell_type": "code",
   "execution_count": 19,
   "metadata": {},
   "outputs": [
    {
     "data": {
      "text/plain": [
       "total_images            0\n",
       "last_price              0\n",
       "total_area              0\n",
       "first_day_exposition    0\n",
       "rooms                   0\n",
       "ceiling_height          0\n",
       "floors_total            0\n",
       "living_area             0\n",
       "floor                   0\n",
       "is_apartment            0\n",
       "studio                  0\n",
       "open_plan               0\n",
       "kitchen_area            0\n",
       "balcony                 0\n",
       "locality_name           0\n",
       "airports_nearest        0\n",
       "cityCenters_nearest     0\n",
       "parks_around3000        0\n",
       "parks_nearest           0\n",
       "ponds_around3000        0\n",
       "ponds_nearest           0\n",
       "days_exposition         0\n",
       "living_area_upd         0\n",
       "dtype: int64"
      ]
     },
     "execution_count": 19,
     "metadata": {},
     "output_type": "execute_result"
    }
   ],
   "source": [
    "basic_data[basic_data['living_area_upd'].isnull()].count() #проверим успешность замены"
   ]
  },
  {
   "cell_type": "code",
   "execution_count": 20,
   "metadata": {},
   "outputs": [
    {
     "data": {
      "text/plain": [
       "2     3346\n",
       "1     3096\n",
       "3     3061\n",
       "4     2791\n",
       "5     2610\n",
       "6     1291\n",
       "7     1202\n",
       "8     1076\n",
       "9     1040\n",
       "10     679\n",
       "12     520\n",
       "11     516\n",
       "13     370\n",
       "15     339\n",
       "14     333\n",
       "16     308\n",
       "17     218\n",
       "18     176\n",
       "19     143\n",
       "21     123\n",
       "20     109\n",
       "22     109\n",
       "23      98\n",
       "24      61\n",
       "25      45\n",
       "26      23\n",
       "27      10\n",
       "28       1\n",
       "33       1\n",
       "29       1\n",
       "30       1\n",
       "32       1\n",
       "31       1\n",
       "Name: floor, dtype: int64"
      ]
     },
     "execution_count": 20,
     "metadata": {},
     "output_type": "execute_result"
    }
   ],
   "source": [
    "basic_data['floor'].value_counts()"
   ]
  },
  {
   "cell_type": "code",
   "execution_count": 21,
   "metadata": {},
   "outputs": [
    {
     "data": {
      "text/plain": [
       "total_images            0\n",
       "last_price              0\n",
       "total_area              0\n",
       "first_day_exposition    0\n",
       "rooms                   0\n",
       "ceiling_height          0\n",
       "floors_total            0\n",
       "living_area             0\n",
       "floor                   0\n",
       "is_apartment            0\n",
       "studio                  0\n",
       "open_plan               0\n",
       "kitchen_area            0\n",
       "balcony                 0\n",
       "locality_name           0\n",
       "airports_nearest        0\n",
       "cityCenters_nearest     0\n",
       "parks_around3000        0\n",
       "parks_nearest           0\n",
       "ponds_around3000        0\n",
       "ponds_nearest           0\n",
       "days_exposition         0\n",
       "living_area_upd         0\n",
       "dtype: int64"
      ]
     },
     "execution_count": 21,
     "metadata": {},
     "output_type": "execute_result"
    }
   ],
   "source": [
    "basic_data[basic_data['floor'].isnull()].count() #в колонке пропущенные значение не выявлены"
   ]
  },
  {
   "cell_type": "code",
   "execution_count": 22,
   "metadata": {},
   "outputs": [
    {
     "data": {
      "text/plain": [
       "total_images            20733\n",
       "last_price              20733\n",
       "total_area              20733\n",
       "first_day_exposition    20733\n",
       "rooms                   20733\n",
       "ceiling_height          12564\n",
       "floors_total            20733\n",
       "living_area             18964\n",
       "floor                   20733\n",
       "is_apartment                0\n",
       "studio                  20733\n",
       "open_plan               20733\n",
       "kitchen_area            18836\n",
       "balcony                  9761\n",
       "locality_name           20699\n",
       "airports_nearest        15897\n",
       "cityCenters_nearest     15917\n",
       "parks_around3000        15918\n",
       "parks_nearest            7104\n",
       "ponds_around3000        15918\n",
       "ponds_nearest            7966\n",
       "days_exposition         17841\n",
       "living_area_upd         20733\n",
       "dtype: int64"
      ]
     },
     "execution_count": 22,
     "metadata": {},
     "output_type": "execute_result"
    }
   ],
   "source": [
    "basic_data[basic_data['is_apartment'].isnull()].count() #заменим пропуски на 0, сделав допущение, что жилая недвижимость, как правило, не паратаменты"
   ]
  },
  {
   "cell_type": "code",
   "execution_count": 23,
   "metadata": {},
   "outputs": [],
   "source": [
    "basic_data['is_apartment'] = basic_data['is_apartment'].fillna( value = False)\n"
   ]
  },
  {
   "cell_type": "code",
   "execution_count": 24,
   "metadata": {},
   "outputs": [
    {
     "data": {
      "text/plain": [
       "total_images            0\n",
       "last_price              0\n",
       "total_area              0\n",
       "first_day_exposition    0\n",
       "rooms                   0\n",
       "ceiling_height          0\n",
       "floors_total            0\n",
       "living_area             0\n",
       "floor                   0\n",
       "is_apartment            0\n",
       "studio                  0\n",
       "open_plan               0\n",
       "kitchen_area            0\n",
       "balcony                 0\n",
       "locality_name           0\n",
       "airports_nearest        0\n",
       "cityCenters_nearest     0\n",
       "parks_around3000        0\n",
       "parks_nearest           0\n",
       "ponds_around3000        0\n",
       "ponds_nearest           0\n",
       "days_exposition         0\n",
       "living_area_upd         0\n",
       "dtype: int64"
      ]
     },
     "execution_count": 24,
     "metadata": {},
     "output_type": "execute_result"
    }
   ],
   "source": [
    "basic_data[basic_data['is_apartment'].isnull()].count() #проверяем удачность замены"
   ]
  },
  {
   "cell_type": "code",
   "execution_count": 25,
   "metadata": {},
   "outputs": [
    {
     "data": {
      "text/plain": [
       "total_images            0\n",
       "last_price              0\n",
       "total_area              0\n",
       "first_day_exposition    0\n",
       "rooms                   0\n",
       "ceiling_height          0\n",
       "floors_total            0\n",
       "living_area             0\n",
       "floor                   0\n",
       "is_apartment            0\n",
       "studio                  0\n",
       "open_plan               0\n",
       "kitchen_area            0\n",
       "balcony                 0\n",
       "locality_name           0\n",
       "airports_nearest        0\n",
       "cityCenters_nearest     0\n",
       "parks_around3000        0\n",
       "parks_nearest           0\n",
       "ponds_around3000        0\n",
       "ponds_nearest           0\n",
       "days_exposition         0\n",
       "living_area_upd         0\n",
       "dtype: int64"
      ]
     },
     "execution_count": 25,
     "metadata": {},
     "output_type": "execute_result"
    }
   ],
   "source": [
    "basic_data[basic_data['studio'].isnull()].count() #в колонке пропущенные значение не выявлены"
   ]
  },
  {
   "cell_type": "code",
   "execution_count": 26,
   "metadata": {},
   "outputs": [
    {
     "data": {
      "text/plain": [
       "total_images            0\n",
       "last_price              0\n",
       "total_area              0\n",
       "first_day_exposition    0\n",
       "rooms                   0\n",
       "ceiling_height          0\n",
       "floors_total            0\n",
       "living_area             0\n",
       "floor                   0\n",
       "is_apartment            0\n",
       "studio                  0\n",
       "open_plan               0\n",
       "kitchen_area            0\n",
       "balcony                 0\n",
       "locality_name           0\n",
       "airports_nearest        0\n",
       "cityCenters_nearest     0\n",
       "parks_around3000        0\n",
       "parks_nearest           0\n",
       "ponds_around3000        0\n",
       "ponds_nearest           0\n",
       "days_exposition         0\n",
       "living_area_upd         0\n",
       "dtype: int64"
      ]
     },
     "execution_count": 26,
     "metadata": {},
     "output_type": "execute_result"
    }
   ],
   "source": [
    "basic_data[basic_data['open_plan'].isnull()].count() #в колонке пропущенные значение не выявлены"
   ]
  },
  {
   "cell_type": "code",
   "execution_count": 27,
   "metadata": {},
   "outputs": [
    {
     "data": {
      "text/plain": [
       "total_images            2081\n",
       "last_price              2081\n",
       "total_area              2081\n",
       "first_day_exposition    2081\n",
       "rooms                   2081\n",
       "ceiling_height           858\n",
       "floors_total            2081\n",
       "living_area              631\n",
       "floor                   2081\n",
       "is_apartment            2081\n",
       "studio                  2081\n",
       "open_plan               2081\n",
       "kitchen_area               0\n",
       "balcony                  603\n",
       "locality_name           2072\n",
       "airports_nearest        1443\n",
       "cityCenters_nearest     1445\n",
       "parks_around3000        1445\n",
       "parks_nearest            661\n",
       "ponds_around3000        1445\n",
       "ponds_nearest            775\n",
       "days_exposition         1892\n",
       "living_area_upd         2081\n",
       "dtype: int64"
      ]
     },
     "execution_count": 27,
     "metadata": {},
     "output_type": "execute_result"
    }
   ],
   "source": [
    "basic_data[basic_data['kitchen_area'].isnull()].count() #заменим по аналогии с колонкой living_area"
   ]
  },
  {
   "cell_type": "code",
   "execution_count": 28,
   "metadata": {},
   "outputs": [],
   "source": [
    "basic_data['kitchen_area_upd'] = basic_data['kitchen_area']\n",
    "\n",
    "for rooms in basic_data['rooms'].unique():\n",
    "    med_kitchen_area = basic_data[basic_data['rooms'] == rooms]['kitchen_area'].median()\n",
    "    basic_data.loc[(basic_data['kitchen_area_upd'].isna()) & (basic_data['rooms'] == rooms), 'kitchen_area_upd'] = med_kitchen_area\n",
    "\n"
   ]
  },
  {
   "cell_type": "code",
   "execution_count": 29,
   "metadata": {},
   "outputs": [
    {
     "data": {
      "text/plain": [
       "total_images            0\n",
       "last_price              0\n",
       "total_area              0\n",
       "first_day_exposition    0\n",
       "rooms                   0\n",
       "ceiling_height          0\n",
       "floors_total            0\n",
       "living_area             0\n",
       "floor                   0\n",
       "is_apartment            0\n",
       "studio                  0\n",
       "open_plan               0\n",
       "kitchen_area            0\n",
       "balcony                 0\n",
       "locality_name           0\n",
       "airports_nearest        0\n",
       "cityCenters_nearest     0\n",
       "parks_around3000        0\n",
       "parks_nearest           0\n",
       "ponds_around3000        0\n",
       "ponds_nearest           0\n",
       "days_exposition         0\n",
       "living_area_upd         0\n",
       "kitchen_area_upd        0\n",
       "dtype: int64"
      ]
     },
     "execution_count": 29,
     "metadata": {},
     "output_type": "execute_result"
    }
   ],
   "source": [
    "basic_data[basic_data['kitchen_area_upd'].isnull()].count() #проверим успешность замены"
   ]
  },
  {
   "cell_type": "code",
   "execution_count": 30,
   "metadata": {},
   "outputs": [
    {
     "data": {
      "text/plain": [
       "1.0    4363\n",
       "0.0    3746\n",
       "2.0    3574\n",
       "5.0     304\n",
       "4.0     183\n",
       "3.0      81\n",
       "Name: balcony, dtype: int64"
      ]
     },
     "execution_count": 30,
     "metadata": {},
     "output_type": "execute_result"
    }
   ],
   "source": [
    "basic_data['balcony'].value_counts()"
   ]
  },
  {
   "cell_type": "code",
   "execution_count": 31,
   "metadata": {},
   "outputs": [
    {
     "data": {
      "text/plain": [
       "total_images            11448\n",
       "last_price              11448\n",
       "total_area              11448\n",
       "first_day_exposition    11448\n",
       "rooms                   11448\n",
       "ceiling_height           7213\n",
       "floors_total            11448\n",
       "living_area             10054\n",
       "floor                   11448\n",
       "is_apartment            11448\n",
       "studio                  11448\n",
       "open_plan               11448\n",
       "kitchen_area             9970\n",
       "balcony                     0\n",
       "locality_name           11442\n",
       "airports_nearest         8756\n",
       "cityCenters_nearest      8763\n",
       "parks_around3000         8763\n",
       "parks_nearest            4104\n",
       "ponds_around3000         8763\n",
       "ponds_nearest            4504\n",
       "days_exposition          9345\n",
       "living_area_upd         11448\n",
       "kitchen_area_upd        11448\n",
       "dtype: int64"
      ]
     },
     "execution_count": 31,
     "metadata": {},
     "output_type": "execute_result"
    }
   ],
   "source": [
    "basic_data[basic_data['balcony'].isnull()].count() #заменим пропуски нулями, сделав допущение, что пропущенное значение оставлялось в случае отсуствия балкона"
   ]
  },
  {
   "cell_type": "code",
   "execution_count": 32,
   "metadata": {},
   "outputs": [],
   "source": [
    "basic_data['balcony'] = basic_data['balcony'].fillna(value = 0)"
   ]
  },
  {
   "cell_type": "code",
   "execution_count": 33,
   "metadata": {},
   "outputs": [
    {
     "data": {
      "text/plain": [
       "total_images            0\n",
       "last_price              0\n",
       "total_area              0\n",
       "first_day_exposition    0\n",
       "rooms                   0\n",
       "ceiling_height          0\n",
       "floors_total            0\n",
       "living_area             0\n",
       "floor                   0\n",
       "is_apartment            0\n",
       "studio                  0\n",
       "open_plan               0\n",
       "kitchen_area            0\n",
       "balcony                 0\n",
       "locality_name           0\n",
       "airports_nearest        0\n",
       "cityCenters_nearest     0\n",
       "parks_around3000        0\n",
       "parks_nearest           0\n",
       "ponds_around3000        0\n",
       "ponds_nearest           0\n",
       "days_exposition         0\n",
       "living_area_upd         0\n",
       "kitchen_area_upd        0\n",
       "dtype: int64"
      ]
     },
     "execution_count": 33,
     "metadata": {},
     "output_type": "execute_result"
    }
   ],
   "source": [
    "basic_data[basic_data['balcony'].isnull()].count() #проверяем удачность замены"
   ]
  },
  {
   "cell_type": "code",
   "execution_count": 34,
   "metadata": {},
   "outputs": [
    {
     "data": {
      "text/plain": [
       "0.0    15194\n",
       "1.0     4363\n",
       "2.0     3574\n",
       "5.0      304\n",
       "4.0      183\n",
       "3.0       81\n",
       "Name: balcony, dtype: int64"
      ]
     },
     "execution_count": 34,
     "metadata": {},
     "output_type": "execute_result"
    }
   ],
   "source": [
    "basic_data['balcony'].value_counts()"
   ]
  },
  {
   "cell_type": "code",
   "execution_count": 35,
   "metadata": {},
   "outputs": [
    {
     "data": {
      "text/plain": [
       "total_images            49\n",
       "last_price              49\n",
       "total_area              49\n",
       "first_day_exposition    49\n",
       "rooms                   49\n",
       "ceiling_height          14\n",
       "floors_total            49\n",
       "living_area             44\n",
       "floor                   49\n",
       "is_apartment            49\n",
       "studio                  49\n",
       "open_plan               49\n",
       "kitchen_area            40\n",
       "balcony                 49\n",
       "locality_name            0\n",
       "airports_nearest        41\n",
       "cityCenters_nearest     41\n",
       "parks_around3000        41\n",
       "parks_nearest           15\n",
       "ponds_around3000        41\n",
       "ponds_nearest           25\n",
       "days_exposition         48\n",
       "living_area_upd         49\n",
       "kitchen_area_upd        49\n",
       "dtype: int64"
      ]
     },
     "execution_count": 35,
     "metadata": {},
     "output_type": "execute_result"
    }
   ],
   "source": [
    "basic_data[basic_data['locality_name'].isnull()].count() #заменим пропуски на произвольное значение \"прочие\", т.к. в данном случае другого логически обоснованного варианта замены нет"
   ]
  },
  {
   "cell_type": "code",
   "execution_count": 36,
   "metadata": {},
   "outputs": [],
   "source": [
    "basic_data['is_apartment'] = basic_data['is_apartment'].fillna( value = \"Прочие\")"
   ]
  },
  {
   "cell_type": "code",
   "execution_count": 37,
   "metadata": {},
   "outputs": [
    {
     "data": {
      "text/plain": [
       "total_images            49\n",
       "last_price              49\n",
       "total_area              49\n",
       "first_day_exposition    49\n",
       "rooms                   49\n",
       "ceiling_height          14\n",
       "floors_total            49\n",
       "living_area             44\n",
       "floor                   49\n",
       "is_apartment            49\n",
       "studio                  49\n",
       "open_plan               49\n",
       "kitchen_area            40\n",
       "balcony                 49\n",
       "locality_name            0\n",
       "airports_nearest        41\n",
       "cityCenters_nearest     41\n",
       "parks_around3000        41\n",
       "parks_nearest           15\n",
       "ponds_around3000        41\n",
       "ponds_nearest           25\n",
       "days_exposition         48\n",
       "living_area_upd         49\n",
       "kitchen_area_upd        49\n",
       "dtype: int64"
      ]
     },
     "execution_count": 37,
     "metadata": {},
     "output_type": "execute_result"
    }
   ],
   "source": [
    "basic_data[basic_data['locality_name'].isnull()].count() #проверяем удачность замены"
   ]
  },
  {
   "cell_type": "code",
   "execution_count": 38,
   "metadata": {},
   "outputs": [
    {
     "data": {
      "text/plain": [
       "2.50      3513\n",
       "2.60      1637\n",
       "2.70      1552\n",
       "3.00      1109\n",
       "2.80       979\n",
       "          ... \n",
       "4.15         1\n",
       "2.34         1\n",
       "100.00       1\n",
       "3.59         1\n",
       "22.60        1\n",
       "Name: ceiling_height, Length: 182, dtype: int64"
      ]
     },
     "execution_count": 38,
     "metadata": {},
     "output_type": "execute_result"
    }
   ],
   "source": [
    "basic_data['ceiling_height'].value_counts()"
   ]
  },
  {
   "cell_type": "code",
   "execution_count": 39,
   "metadata": {},
   "outputs": [
    {
     "data": {
      "text/plain": [
       "total_images            9080\n",
       "last_price              9080\n",
       "total_area              9080\n",
       "first_day_exposition    9080\n",
       "rooms                   9080\n",
       "ceiling_height             0\n",
       "floors_total            9080\n",
       "living_area             7983\n",
       "floor                   9080\n",
       "is_apartment            9080\n",
       "studio                  9080\n",
       "open_plan               9080\n",
       "kitchen_area            7857\n",
       "balcony                 9080\n",
       "locality_name           9045\n",
       "airports_nearest        6556\n",
       "cityCenters_nearest     6559\n",
       "parks_around3000        6559\n",
       "parks_nearest           2771\n",
       "ponds_around3000        6559\n",
       "ponds_nearest           3339\n",
       "days_exposition         8358\n",
       "living_area_upd         9080\n",
       "kitchen_area_upd        9080\n",
       "dtype: int64"
      ]
     },
     "execution_count": 39,
     "metadata": {},
     "output_type": "execute_result"
    }
   ],
   "source": [
    "basic_data[basic_data['ceiling_height'].isnull()].count()\n",
    "#а вот и пустые строки - заполним их\n",
    "# для заполнения таких пропусков подойдет медианное значение высоты потолков но, не общее,а по удаленности от центра \n",
    "#(по идее этим действием мы ранжируем категории по классу - элитное (центр) и т.д. - т.к. очевидно, что высота потолка юудет разной)\n",
    "#выделим три категории: центр (удаленность до 5км),жилой район (спальный, 5-10км) и периферия (свыше 10 км.,окраина)\n",
    "#присвоение произведем через метод loc в цикле"
   ]
  },
  {
   "cell_type": "code",
   "execution_count": 40,
   "metadata": {},
   "outputs": [
    {
     "data": {
      "text/html": [
       "<div>\n",
       "<style scoped>\n",
       "    .dataframe tbody tr th:only-of-type {\n",
       "        vertical-align: middle;\n",
       "    }\n",
       "\n",
       "    .dataframe tbody tr th {\n",
       "        vertical-align: top;\n",
       "    }\n",
       "\n",
       "    .dataframe thead th {\n",
       "        text-align: right;\n",
       "    }\n",
       "</style>\n",
       "<table border=\"1\" class=\"dataframe\">\n",
       "  <thead>\n",
       "    <tr style=\"text-align: right;\">\n",
       "      <th></th>\n",
       "      <th>total_images</th>\n",
       "      <th>last_price</th>\n",
       "      <th>total_area</th>\n",
       "      <th>first_day_exposition</th>\n",
       "      <th>rooms</th>\n",
       "      <th>ceiling_height</th>\n",
       "      <th>floors_total</th>\n",
       "      <th>living_area</th>\n",
       "      <th>floor</th>\n",
       "      <th>is_apartment</th>\n",
       "      <th>...</th>\n",
       "      <th>cityCenters_nearest</th>\n",
       "      <th>parks_around3000</th>\n",
       "      <th>parks_nearest</th>\n",
       "      <th>ponds_around3000</th>\n",
       "      <th>ponds_nearest</th>\n",
       "      <th>days_exposition</th>\n",
       "      <th>living_area_upd</th>\n",
       "      <th>kitchen_area_upd</th>\n",
       "      <th>locality_type</th>\n",
       "      <th>ceiling_height_upd</th>\n",
       "    </tr>\n",
       "  </thead>\n",
       "  <tbody>\n",
       "    <tr>\n",
       "      <td>0</td>\n",
       "      <td>20</td>\n",
       "      <td>13000000.0</td>\n",
       "      <td>108.00</td>\n",
       "      <td>2019-03-07T00:00:00</td>\n",
       "      <td>3</td>\n",
       "      <td>2.70</td>\n",
       "      <td>16.0</td>\n",
       "      <td>51.0</td>\n",
       "      <td>8</td>\n",
       "      <td>False</td>\n",
       "      <td>...</td>\n",
       "      <td>16028.0</td>\n",
       "      <td>1.0</td>\n",
       "      <td>482.0</td>\n",
       "      <td>2.0</td>\n",
       "      <td>755.0</td>\n",
       "      <td>NaN</td>\n",
       "      <td>51.0</td>\n",
       "      <td>25.00</td>\n",
       "      <td>Перифирия</td>\n",
       "      <td>2.70</td>\n",
       "    </tr>\n",
       "    <tr>\n",
       "      <td>1</td>\n",
       "      <td>7</td>\n",
       "      <td>3350000.0</td>\n",
       "      <td>40.40</td>\n",
       "      <td>2018-12-04T00:00:00</td>\n",
       "      <td>1</td>\n",
       "      <td>NaN</td>\n",
       "      <td>11.0</td>\n",
       "      <td>18.6</td>\n",
       "      <td>1</td>\n",
       "      <td>False</td>\n",
       "      <td>...</td>\n",
       "      <td>18603.0</td>\n",
       "      <td>0.0</td>\n",
       "      <td>NaN</td>\n",
       "      <td>0.0</td>\n",
       "      <td>NaN</td>\n",
       "      <td>81.0</td>\n",
       "      <td>18.6</td>\n",
       "      <td>11.00</td>\n",
       "      <td>Область</td>\n",
       "      <td>2.60</td>\n",
       "    </tr>\n",
       "    <tr>\n",
       "      <td>2</td>\n",
       "      <td>10</td>\n",
       "      <td>5196000.0</td>\n",
       "      <td>56.00</td>\n",
       "      <td>2015-08-20T00:00:00</td>\n",
       "      <td>2</td>\n",
       "      <td>NaN</td>\n",
       "      <td>5.0</td>\n",
       "      <td>34.3</td>\n",
       "      <td>4</td>\n",
       "      <td>False</td>\n",
       "      <td>...</td>\n",
       "      <td>13933.0</td>\n",
       "      <td>1.0</td>\n",
       "      <td>90.0</td>\n",
       "      <td>2.0</td>\n",
       "      <td>574.0</td>\n",
       "      <td>558.0</td>\n",
       "      <td>34.3</td>\n",
       "      <td>8.30</td>\n",
       "      <td>Перифирия</td>\n",
       "      <td>2.60</td>\n",
       "    </tr>\n",
       "    <tr>\n",
       "      <td>3</td>\n",
       "      <td>0</td>\n",
       "      <td>64900000.0</td>\n",
       "      <td>159.00</td>\n",
       "      <td>2015-07-24T00:00:00</td>\n",
       "      <td>3</td>\n",
       "      <td>NaN</td>\n",
       "      <td>14.0</td>\n",
       "      <td>NaN</td>\n",
       "      <td>9</td>\n",
       "      <td>False</td>\n",
       "      <td>...</td>\n",
       "      <td>6800.0</td>\n",
       "      <td>2.0</td>\n",
       "      <td>84.0</td>\n",
       "      <td>3.0</td>\n",
       "      <td>234.0</td>\n",
       "      <td>424.0</td>\n",
       "      <td>45.0</td>\n",
       "      <td>9.50</td>\n",
       "      <td>Жилой район</td>\n",
       "      <td>2.80</td>\n",
       "    </tr>\n",
       "    <tr>\n",
       "      <td>4</td>\n",
       "      <td>2</td>\n",
       "      <td>10000000.0</td>\n",
       "      <td>100.00</td>\n",
       "      <td>2018-06-19T00:00:00</td>\n",
       "      <td>2</td>\n",
       "      <td>3.03</td>\n",
       "      <td>14.0</td>\n",
       "      <td>32.0</td>\n",
       "      <td>13</td>\n",
       "      <td>False</td>\n",
       "      <td>...</td>\n",
       "      <td>8098.0</td>\n",
       "      <td>2.0</td>\n",
       "      <td>112.0</td>\n",
       "      <td>1.0</td>\n",
       "      <td>48.0</td>\n",
       "      <td>121.0</td>\n",
       "      <td>32.0</td>\n",
       "      <td>41.00</td>\n",
       "      <td>Жилой район</td>\n",
       "      <td>3.03</td>\n",
       "    </tr>\n",
       "    <tr>\n",
       "      <td>...</td>\n",
       "      <td>...</td>\n",
       "      <td>...</td>\n",
       "      <td>...</td>\n",
       "      <td>...</td>\n",
       "      <td>...</td>\n",
       "      <td>...</td>\n",
       "      <td>...</td>\n",
       "      <td>...</td>\n",
       "      <td>...</td>\n",
       "      <td>...</td>\n",
       "      <td>...</td>\n",
       "      <td>...</td>\n",
       "      <td>...</td>\n",
       "      <td>...</td>\n",
       "      <td>...</td>\n",
       "      <td>...</td>\n",
       "      <td>...</td>\n",
       "      <td>...</td>\n",
       "      <td>...</td>\n",
       "      <td>...</td>\n",
       "      <td>...</td>\n",
       "    </tr>\n",
       "    <tr>\n",
       "      <td>23694</td>\n",
       "      <td>9</td>\n",
       "      <td>9700000.0</td>\n",
       "      <td>133.81</td>\n",
       "      <td>2017-03-21T00:00:00</td>\n",
       "      <td>3</td>\n",
       "      <td>3.70</td>\n",
       "      <td>5.0</td>\n",
       "      <td>73.3</td>\n",
       "      <td>3</td>\n",
       "      <td>False</td>\n",
       "      <td>...</td>\n",
       "      <td>4232.0</td>\n",
       "      <td>1.0</td>\n",
       "      <td>796.0</td>\n",
       "      <td>3.0</td>\n",
       "      <td>381.0</td>\n",
       "      <td>NaN</td>\n",
       "      <td>73.3</td>\n",
       "      <td>13.83</td>\n",
       "      <td>Центр</td>\n",
       "      <td>3.70</td>\n",
       "    </tr>\n",
       "    <tr>\n",
       "      <td>23695</td>\n",
       "      <td>14</td>\n",
       "      <td>3100000.0</td>\n",
       "      <td>59.00</td>\n",
       "      <td>2018-01-15T00:00:00</td>\n",
       "      <td>3</td>\n",
       "      <td>NaN</td>\n",
       "      <td>5.0</td>\n",
       "      <td>38.0</td>\n",
       "      <td>4</td>\n",
       "      <td>False</td>\n",
       "      <td>...</td>\n",
       "      <td>NaN</td>\n",
       "      <td>NaN</td>\n",
       "      <td>NaN</td>\n",
       "      <td>NaN</td>\n",
       "      <td>NaN</td>\n",
       "      <td>45.0</td>\n",
       "      <td>38.0</td>\n",
       "      <td>8.50</td>\n",
       "      <td>Область</td>\n",
       "      <td>2.60</td>\n",
       "    </tr>\n",
       "    <tr>\n",
       "      <td>23696</td>\n",
       "      <td>18</td>\n",
       "      <td>2500000.0</td>\n",
       "      <td>56.70</td>\n",
       "      <td>2018-02-11T00:00:00</td>\n",
       "      <td>2</td>\n",
       "      <td>NaN</td>\n",
       "      <td>3.0</td>\n",
       "      <td>29.7</td>\n",
       "      <td>1</td>\n",
       "      <td>False</td>\n",
       "      <td>...</td>\n",
       "      <td>NaN</td>\n",
       "      <td>NaN</td>\n",
       "      <td>NaN</td>\n",
       "      <td>NaN</td>\n",
       "      <td>NaN</td>\n",
       "      <td>NaN</td>\n",
       "      <td>29.7</td>\n",
       "      <td>8.80</td>\n",
       "      <td>Область</td>\n",
       "      <td>2.60</td>\n",
       "    </tr>\n",
       "    <tr>\n",
       "      <td>23697</td>\n",
       "      <td>13</td>\n",
       "      <td>11475000.0</td>\n",
       "      <td>76.75</td>\n",
       "      <td>2017-03-28T00:00:00</td>\n",
       "      <td>2</td>\n",
       "      <td>3.00</td>\n",
       "      <td>17.0</td>\n",
       "      <td>NaN</td>\n",
       "      <td>12</td>\n",
       "      <td>False</td>\n",
       "      <td>...</td>\n",
       "      <td>10364.0</td>\n",
       "      <td>2.0</td>\n",
       "      <td>173.0</td>\n",
       "      <td>3.0</td>\n",
       "      <td>196.0</td>\n",
       "      <td>602.0</td>\n",
       "      <td>30.5</td>\n",
       "      <td>23.30</td>\n",
       "      <td>Перифирия</td>\n",
       "      <td>3.00</td>\n",
       "    </tr>\n",
       "    <tr>\n",
       "      <td>23698</td>\n",
       "      <td>4</td>\n",
       "      <td>1350000.0</td>\n",
       "      <td>32.30</td>\n",
       "      <td>2017-07-21T00:00:00</td>\n",
       "      <td>1</td>\n",
       "      <td>2.50</td>\n",
       "      <td>5.0</td>\n",
       "      <td>12.3</td>\n",
       "      <td>1</td>\n",
       "      <td>False</td>\n",
       "      <td>...</td>\n",
       "      <td>NaN</td>\n",
       "      <td>NaN</td>\n",
       "      <td>NaN</td>\n",
       "      <td>NaN</td>\n",
       "      <td>NaN</td>\n",
       "      <td>NaN</td>\n",
       "      <td>12.3</td>\n",
       "      <td>9.00</td>\n",
       "      <td>Область</td>\n",
       "      <td>2.50</td>\n",
       "    </tr>\n",
       "  </tbody>\n",
       "</table>\n",
       "<p>23699 rows × 26 columns</p>\n",
       "</div>"
      ],
      "text/plain": [
       "       total_images  last_price  total_area first_day_exposition  rooms  \\\n",
       "0                20  13000000.0      108.00  2019-03-07T00:00:00      3   \n",
       "1                 7   3350000.0       40.40  2018-12-04T00:00:00      1   \n",
       "2                10   5196000.0       56.00  2015-08-20T00:00:00      2   \n",
       "3                 0  64900000.0      159.00  2015-07-24T00:00:00      3   \n",
       "4                 2  10000000.0      100.00  2018-06-19T00:00:00      2   \n",
       "...             ...         ...         ...                  ...    ...   \n",
       "23694             9   9700000.0      133.81  2017-03-21T00:00:00      3   \n",
       "23695            14   3100000.0       59.00  2018-01-15T00:00:00      3   \n",
       "23696            18   2500000.0       56.70  2018-02-11T00:00:00      2   \n",
       "23697            13  11475000.0       76.75  2017-03-28T00:00:00      2   \n",
       "23698             4   1350000.0       32.30  2017-07-21T00:00:00      1   \n",
       "\n",
       "       ceiling_height  floors_total  living_area  floor is_apartment  ...  \\\n",
       "0                2.70          16.0         51.0      8        False  ...   \n",
       "1                 NaN          11.0         18.6      1        False  ...   \n",
       "2                 NaN           5.0         34.3      4        False  ...   \n",
       "3                 NaN          14.0          NaN      9        False  ...   \n",
       "4                3.03          14.0         32.0     13        False  ...   \n",
       "...               ...           ...          ...    ...          ...  ...   \n",
       "23694            3.70           5.0         73.3      3        False  ...   \n",
       "23695             NaN           5.0         38.0      4        False  ...   \n",
       "23696             NaN           3.0         29.7      1        False  ...   \n",
       "23697            3.00          17.0          NaN     12        False  ...   \n",
       "23698            2.50           5.0         12.3      1        False  ...   \n",
       "\n",
       "      cityCenters_nearest parks_around3000  parks_nearest  ponds_around3000  \\\n",
       "0                 16028.0              1.0          482.0               2.0   \n",
       "1                 18603.0              0.0            NaN               0.0   \n",
       "2                 13933.0              1.0           90.0               2.0   \n",
       "3                  6800.0              2.0           84.0               3.0   \n",
       "4                  8098.0              2.0          112.0               1.0   \n",
       "...                   ...              ...            ...               ...   \n",
       "23694              4232.0              1.0          796.0               3.0   \n",
       "23695                 NaN              NaN            NaN               NaN   \n",
       "23696                 NaN              NaN            NaN               NaN   \n",
       "23697             10364.0              2.0          173.0               3.0   \n",
       "23698                 NaN              NaN            NaN               NaN   \n",
       "\n",
       "      ponds_nearest  days_exposition  living_area_upd  kitchen_area_upd  \\\n",
       "0             755.0              NaN             51.0             25.00   \n",
       "1               NaN             81.0             18.6             11.00   \n",
       "2             574.0            558.0             34.3              8.30   \n",
       "3             234.0            424.0             45.0              9.50   \n",
       "4              48.0            121.0             32.0             41.00   \n",
       "...             ...              ...              ...               ...   \n",
       "23694         381.0              NaN             73.3             13.83   \n",
       "23695           NaN             45.0             38.0              8.50   \n",
       "23696           NaN              NaN             29.7              8.80   \n",
       "23697         196.0            602.0             30.5             23.30   \n",
       "23698           NaN              NaN             12.3              9.00   \n",
       "\n",
       "       locality_type  ceiling_height_upd  \n",
       "0          Перифирия                2.70  \n",
       "1            Область                2.60  \n",
       "2          Перифирия                2.60  \n",
       "3        Жилой район                2.80  \n",
       "4        Жилой район                3.03  \n",
       "...              ...                 ...  \n",
       "23694          Центр                3.70  \n",
       "23695        Область                2.60  \n",
       "23696        Область                2.60  \n",
       "23697      Перифирия                3.00  \n",
       "23698        Область                2.50  \n",
       "\n",
       "[23699 rows x 26 columns]"
      ]
     },
     "execution_count": 40,
     "metadata": {},
     "output_type": "execute_result"
    }
   ],
   "source": [
    "basic_data_1 = basic_data.copy() #делаем копию нашего \n",
    "#исходного дата фрейма (чтобы оставить его без измнений)\n",
    "basic_data_1['locality_type'] = 'Область' #делим населенные пункты на два подмножества - город и область,\n",
    "#добавим новый столбец\n",
    "#произведем группировку по удаленности от центра\n",
    "basic_data_1.loc[(basic_data['locality_name'] == \"Санкт-Петербург\") & (basic_data['cityCenters_nearest'] > 10000), 'locality_type'] ='Перифирия'\n",
    "basic_data_1.loc[(basic_data['locality_name'] == \"Санкт-Петербург\") & (basic_data['cityCenters_nearest'] <= 10000), 'locality_type'] ='Жилой район'\n",
    "basic_data_1.loc[(basic_data['locality_name'] == \"Санкт-Петербург\") & (basic_data['cityCenters_nearest'] <= 5000), 'locality_type'] ='Центр'\n",
    "\n",
    "median = basic_data_1.groupby(['locality_type']).agg({'ceiling_height': 'median',\n",
    "                                                           'locality_name': 'count'}) #посчитаем медиану по каждой группе и оценим равномерность (по количеству) и репрезентативность выборки по каждой группе\n",
    "\n",
    "basic_data_1['ceiling_height_upd'] = basic_data_1['ceiling_height']\n",
    "for type in basic_data_1['locality_type'].unique():\n",
    "    basic_data_1.loc[(basic_data_1['ceiling_height'].isna()) & (basic_data_1['locality_type'] == type),'ceiling_height_upd'] = median[median.index == type]['ceiling_height'][0]\n",
    "    \n",
    "\n",
    "\n",
    "#basic_data_1['locality_type'].value_counts() #проверяем репрезентативность выборки\n",
    "\n",
    "basic_data_1\n",
    "\n",
    "\n"
   ]
  },
  {
   "cell_type": "code",
   "execution_count": 41,
   "metadata": {},
   "outputs": [
    {
     "data": {
      "text/plain": [
       "total_images            0\n",
       "last_price              0\n",
       "total_area              0\n",
       "first_day_exposition    0\n",
       "rooms                   0\n",
       "ceiling_height          0\n",
       "floors_total            0\n",
       "living_area             0\n",
       "floor                   0\n",
       "is_apartment            0\n",
       "studio                  0\n",
       "open_plan               0\n",
       "kitchen_area            0\n",
       "balcony                 0\n",
       "locality_name           0\n",
       "airports_nearest        0\n",
       "cityCenters_nearest     0\n",
       "parks_around3000        0\n",
       "parks_nearest           0\n",
       "ponds_around3000        0\n",
       "ponds_nearest           0\n",
       "days_exposition         0\n",
       "living_area_upd         0\n",
       "kitchen_area_upd        0\n",
       "locality_type           0\n",
       "ceiling_height_upd      0\n",
       "dtype: int64"
      ]
     },
     "execution_count": 41,
     "metadata": {},
     "output_type": "execute_result"
    }
   ],
   "source": [
    "basic_data_1[basic_data_1['ceiling_height_upd'].isnull()].count() #проверим, что замена в копии исходных данных прошла успешно прошла успешноg"
   ]
  },
  {
   "cell_type": "code",
   "execution_count": 42,
   "metadata": {},
   "outputs": [
    {
     "data": {
      "text/plain": [
       "total_images            5463\n",
       "last_price              5463\n",
       "total_area              5463\n",
       "first_day_exposition    5463\n",
       "rooms                   5463\n",
       "ceiling_height          2939\n",
       "floors_total            5463\n",
       "living_area             4844\n",
       "floor                   5463\n",
       "is_apartment            5463\n",
       "studio                  5463\n",
       "open_plan               5463\n",
       "kitchen_area            4825\n",
       "balcony                 5463\n",
       "locality_name           5455\n",
       "airports_nearest           0\n",
       "cityCenters_nearest       24\n",
       "parks_around3000          24\n",
       "parks_nearest             20\n",
       "ponds_around3000          24\n",
       "ponds_nearest              8\n",
       "days_exposition         4602\n",
       "living_area_upd         5463\n",
       "kitchen_area_upd        5463\n",
       "locality_type           5463\n",
       "ceiling_height_upd      5463\n",
       "dtype: int64"
      ]
     },
     "execution_count": 42,
     "metadata": {},
     "output_type": "execute_result"
    }
   ],
   "source": [
    "basic_data_1[basic_data_1['airports_nearest'].isnull()].count() #произведем замену пропусков, исходя из местоположения населенного пункта (по аналогии с предыдущей заменой для ceiling_height)"
   ]
  },
  {
   "cell_type": "code",
   "execution_count": 43,
   "metadata": {},
   "outputs": [
    {
     "data": {
      "text/html": [
       "<div>\n",
       "<style scoped>\n",
       "    .dataframe tbody tr th:only-of-type {\n",
       "        vertical-align: middle;\n",
       "    }\n",
       "\n",
       "    .dataframe tbody tr th {\n",
       "        vertical-align: top;\n",
       "    }\n",
       "\n",
       "    .dataframe thead th {\n",
       "        text-align: right;\n",
       "    }\n",
       "</style>\n",
       "<table border=\"1\" class=\"dataframe\">\n",
       "  <thead>\n",
       "    <tr style=\"text-align: right;\">\n",
       "      <th></th>\n",
       "      <th>total_images</th>\n",
       "      <th>last_price</th>\n",
       "      <th>total_area</th>\n",
       "      <th>first_day_exposition</th>\n",
       "      <th>rooms</th>\n",
       "      <th>ceiling_height</th>\n",
       "      <th>floors_total</th>\n",
       "      <th>living_area</th>\n",
       "      <th>floor</th>\n",
       "      <th>is_apartment</th>\n",
       "      <th>...</th>\n",
       "      <th>parks_nearest</th>\n",
       "      <th>ponds_around3000</th>\n",
       "      <th>ponds_nearest</th>\n",
       "      <th>days_exposition</th>\n",
       "      <th>living_area_upd</th>\n",
       "      <th>kitchen_area_upd</th>\n",
       "      <th>locality_type</th>\n",
       "      <th>ceiling_height_upd</th>\n",
       "      <th>location</th>\n",
       "      <th>airports_nearest_upd</th>\n",
       "    </tr>\n",
       "  </thead>\n",
       "  <tbody>\n",
       "    <tr>\n",
       "      <td>0</td>\n",
       "      <td>20</td>\n",
       "      <td>13000000.0</td>\n",
       "      <td>108.00</td>\n",
       "      <td>2019-03-07T00:00:00</td>\n",
       "      <td>3</td>\n",
       "      <td>2.70</td>\n",
       "      <td>16.0</td>\n",
       "      <td>51.0</td>\n",
       "      <td>8</td>\n",
       "      <td>False</td>\n",
       "      <td>...</td>\n",
       "      <td>482.0</td>\n",
       "      <td>2.0</td>\n",
       "      <td>755.0</td>\n",
       "      <td>NaN</td>\n",
       "      <td>51.0</td>\n",
       "      <td>25.00</td>\n",
       "      <td>Перифирия</td>\n",
       "      <td>2.70</td>\n",
       "      <td>Город</td>\n",
       "      <td>18863.0</td>\n",
       "    </tr>\n",
       "    <tr>\n",
       "      <td>1</td>\n",
       "      <td>7</td>\n",
       "      <td>3350000.0</td>\n",
       "      <td>40.40</td>\n",
       "      <td>2018-12-04T00:00:00</td>\n",
       "      <td>1</td>\n",
       "      <td>NaN</td>\n",
       "      <td>11.0</td>\n",
       "      <td>18.6</td>\n",
       "      <td>1</td>\n",
       "      <td>False</td>\n",
       "      <td>...</td>\n",
       "      <td>NaN</td>\n",
       "      <td>0.0</td>\n",
       "      <td>NaN</td>\n",
       "      <td>81.0</td>\n",
       "      <td>18.6</td>\n",
       "      <td>11.00</td>\n",
       "      <td>Область</td>\n",
       "      <td>2.60</td>\n",
       "      <td>Область</td>\n",
       "      <td>12817.0</td>\n",
       "    </tr>\n",
       "    <tr>\n",
       "      <td>2</td>\n",
       "      <td>10</td>\n",
       "      <td>5196000.0</td>\n",
       "      <td>56.00</td>\n",
       "      <td>2015-08-20T00:00:00</td>\n",
       "      <td>2</td>\n",
       "      <td>NaN</td>\n",
       "      <td>5.0</td>\n",
       "      <td>34.3</td>\n",
       "      <td>4</td>\n",
       "      <td>False</td>\n",
       "      <td>...</td>\n",
       "      <td>90.0</td>\n",
       "      <td>2.0</td>\n",
       "      <td>574.0</td>\n",
       "      <td>558.0</td>\n",
       "      <td>34.3</td>\n",
       "      <td>8.30</td>\n",
       "      <td>Перифирия</td>\n",
       "      <td>2.60</td>\n",
       "      <td>Город</td>\n",
       "      <td>21741.0</td>\n",
       "    </tr>\n",
       "    <tr>\n",
       "      <td>3</td>\n",
       "      <td>0</td>\n",
       "      <td>64900000.0</td>\n",
       "      <td>159.00</td>\n",
       "      <td>2015-07-24T00:00:00</td>\n",
       "      <td>3</td>\n",
       "      <td>NaN</td>\n",
       "      <td>14.0</td>\n",
       "      <td>NaN</td>\n",
       "      <td>9</td>\n",
       "      <td>False</td>\n",
       "      <td>...</td>\n",
       "      <td>84.0</td>\n",
       "      <td>3.0</td>\n",
       "      <td>234.0</td>\n",
       "      <td>424.0</td>\n",
       "      <td>45.0</td>\n",
       "      <td>9.50</td>\n",
       "      <td>Жилой район</td>\n",
       "      <td>2.80</td>\n",
       "      <td>Город</td>\n",
       "      <td>28098.0</td>\n",
       "    </tr>\n",
       "    <tr>\n",
       "      <td>4</td>\n",
       "      <td>2</td>\n",
       "      <td>10000000.0</td>\n",
       "      <td>100.00</td>\n",
       "      <td>2018-06-19T00:00:00</td>\n",
       "      <td>2</td>\n",
       "      <td>3.03</td>\n",
       "      <td>14.0</td>\n",
       "      <td>32.0</td>\n",
       "      <td>13</td>\n",
       "      <td>False</td>\n",
       "      <td>...</td>\n",
       "      <td>112.0</td>\n",
       "      <td>1.0</td>\n",
       "      <td>48.0</td>\n",
       "      <td>121.0</td>\n",
       "      <td>32.0</td>\n",
       "      <td>41.00</td>\n",
       "      <td>Жилой район</td>\n",
       "      <td>3.03</td>\n",
       "      <td>Город</td>\n",
       "      <td>31856.0</td>\n",
       "    </tr>\n",
       "    <tr>\n",
       "      <td>...</td>\n",
       "      <td>...</td>\n",
       "      <td>...</td>\n",
       "      <td>...</td>\n",
       "      <td>...</td>\n",
       "      <td>...</td>\n",
       "      <td>...</td>\n",
       "      <td>...</td>\n",
       "      <td>...</td>\n",
       "      <td>...</td>\n",
       "      <td>...</td>\n",
       "      <td>...</td>\n",
       "      <td>...</td>\n",
       "      <td>...</td>\n",
       "      <td>...</td>\n",
       "      <td>...</td>\n",
       "      <td>...</td>\n",
       "      <td>...</td>\n",
       "      <td>...</td>\n",
       "      <td>...</td>\n",
       "      <td>...</td>\n",
       "      <td>...</td>\n",
       "    </tr>\n",
       "    <tr>\n",
       "      <td>23694</td>\n",
       "      <td>9</td>\n",
       "      <td>9700000.0</td>\n",
       "      <td>133.81</td>\n",
       "      <td>2017-03-21T00:00:00</td>\n",
       "      <td>3</td>\n",
       "      <td>3.70</td>\n",
       "      <td>5.0</td>\n",
       "      <td>73.3</td>\n",
       "      <td>3</td>\n",
       "      <td>False</td>\n",
       "      <td>...</td>\n",
       "      <td>796.0</td>\n",
       "      <td>3.0</td>\n",
       "      <td>381.0</td>\n",
       "      <td>NaN</td>\n",
       "      <td>73.3</td>\n",
       "      <td>13.83</td>\n",
       "      <td>Центр</td>\n",
       "      <td>3.70</td>\n",
       "      <td>Город</td>\n",
       "      <td>24665.0</td>\n",
       "    </tr>\n",
       "    <tr>\n",
       "      <td>23695</td>\n",
       "      <td>14</td>\n",
       "      <td>3100000.0</td>\n",
       "      <td>59.00</td>\n",
       "      <td>2018-01-15T00:00:00</td>\n",
       "      <td>3</td>\n",
       "      <td>NaN</td>\n",
       "      <td>5.0</td>\n",
       "      <td>38.0</td>\n",
       "      <td>4</td>\n",
       "      <td>False</td>\n",
       "      <td>...</td>\n",
       "      <td>NaN</td>\n",
       "      <td>NaN</td>\n",
       "      <td>NaN</td>\n",
       "      <td>45.0</td>\n",
       "      <td>38.0</td>\n",
       "      <td>8.50</td>\n",
       "      <td>Область</td>\n",
       "      <td>2.60</td>\n",
       "      <td>Область</td>\n",
       "      <td>25994.5</td>\n",
       "    </tr>\n",
       "    <tr>\n",
       "      <td>23696</td>\n",
       "      <td>18</td>\n",
       "      <td>2500000.0</td>\n",
       "      <td>56.70</td>\n",
       "      <td>2018-02-11T00:00:00</td>\n",
       "      <td>2</td>\n",
       "      <td>NaN</td>\n",
       "      <td>3.0</td>\n",
       "      <td>29.7</td>\n",
       "      <td>1</td>\n",
       "      <td>False</td>\n",
       "      <td>...</td>\n",
       "      <td>NaN</td>\n",
       "      <td>NaN</td>\n",
       "      <td>NaN</td>\n",
       "      <td>NaN</td>\n",
       "      <td>29.7</td>\n",
       "      <td>8.80</td>\n",
       "      <td>Область</td>\n",
       "      <td>2.60</td>\n",
       "      <td>Область</td>\n",
       "      <td>25994.5</td>\n",
       "    </tr>\n",
       "    <tr>\n",
       "      <td>23697</td>\n",
       "      <td>13</td>\n",
       "      <td>11475000.0</td>\n",
       "      <td>76.75</td>\n",
       "      <td>2017-03-28T00:00:00</td>\n",
       "      <td>2</td>\n",
       "      <td>3.00</td>\n",
       "      <td>17.0</td>\n",
       "      <td>NaN</td>\n",
       "      <td>12</td>\n",
       "      <td>False</td>\n",
       "      <td>...</td>\n",
       "      <td>173.0</td>\n",
       "      <td>3.0</td>\n",
       "      <td>196.0</td>\n",
       "      <td>602.0</td>\n",
       "      <td>30.5</td>\n",
       "      <td>23.30</td>\n",
       "      <td>Перифирия</td>\n",
       "      <td>3.00</td>\n",
       "      <td>Город</td>\n",
       "      <td>39140.0</td>\n",
       "    </tr>\n",
       "    <tr>\n",
       "      <td>23698</td>\n",
       "      <td>4</td>\n",
       "      <td>1350000.0</td>\n",
       "      <td>32.30</td>\n",
       "      <td>2017-07-21T00:00:00</td>\n",
       "      <td>1</td>\n",
       "      <td>2.50</td>\n",
       "      <td>5.0</td>\n",
       "      <td>12.3</td>\n",
       "      <td>1</td>\n",
       "      <td>False</td>\n",
       "      <td>...</td>\n",
       "      <td>NaN</td>\n",
       "      <td>NaN</td>\n",
       "      <td>NaN</td>\n",
       "      <td>NaN</td>\n",
       "      <td>12.3</td>\n",
       "      <td>9.00</td>\n",
       "      <td>Область</td>\n",
       "      <td>2.50</td>\n",
       "      <td>Область</td>\n",
       "      <td>25994.5</td>\n",
       "    </tr>\n",
       "  </tbody>\n",
       "</table>\n",
       "<p>23699 rows × 28 columns</p>\n",
       "</div>"
      ],
      "text/plain": [
       "       total_images  last_price  total_area first_day_exposition  rooms  \\\n",
       "0                20  13000000.0      108.00  2019-03-07T00:00:00      3   \n",
       "1                 7   3350000.0       40.40  2018-12-04T00:00:00      1   \n",
       "2                10   5196000.0       56.00  2015-08-20T00:00:00      2   \n",
       "3                 0  64900000.0      159.00  2015-07-24T00:00:00      3   \n",
       "4                 2  10000000.0      100.00  2018-06-19T00:00:00      2   \n",
       "...             ...         ...         ...                  ...    ...   \n",
       "23694             9   9700000.0      133.81  2017-03-21T00:00:00      3   \n",
       "23695            14   3100000.0       59.00  2018-01-15T00:00:00      3   \n",
       "23696            18   2500000.0       56.70  2018-02-11T00:00:00      2   \n",
       "23697            13  11475000.0       76.75  2017-03-28T00:00:00      2   \n",
       "23698             4   1350000.0       32.30  2017-07-21T00:00:00      1   \n",
       "\n",
       "       ceiling_height  floors_total  living_area  floor is_apartment  ...  \\\n",
       "0                2.70          16.0         51.0      8        False  ...   \n",
       "1                 NaN          11.0         18.6      1        False  ...   \n",
       "2                 NaN           5.0         34.3      4        False  ...   \n",
       "3                 NaN          14.0          NaN      9        False  ...   \n",
       "4                3.03          14.0         32.0     13        False  ...   \n",
       "...               ...           ...          ...    ...          ...  ...   \n",
       "23694            3.70           5.0         73.3      3        False  ...   \n",
       "23695             NaN           5.0         38.0      4        False  ...   \n",
       "23696             NaN           3.0         29.7      1        False  ...   \n",
       "23697            3.00          17.0          NaN     12        False  ...   \n",
       "23698            2.50           5.0         12.3      1        False  ...   \n",
       "\n",
       "      parks_nearest ponds_around3000  ponds_nearest  days_exposition  \\\n",
       "0             482.0              2.0          755.0              NaN   \n",
       "1               NaN              0.0            NaN             81.0   \n",
       "2              90.0              2.0          574.0            558.0   \n",
       "3              84.0              3.0          234.0            424.0   \n",
       "4             112.0              1.0           48.0            121.0   \n",
       "...             ...              ...            ...              ...   \n",
       "23694         796.0              3.0          381.0              NaN   \n",
       "23695           NaN              NaN            NaN             45.0   \n",
       "23696           NaN              NaN            NaN              NaN   \n",
       "23697         173.0              3.0          196.0            602.0   \n",
       "23698           NaN              NaN            NaN              NaN   \n",
       "\n",
       "      living_area_upd  kitchen_area_upd  locality_type  ceiling_height_upd  \\\n",
       "0                51.0             25.00      Перифирия                2.70   \n",
       "1                18.6             11.00        Область                2.60   \n",
       "2                34.3              8.30      Перифирия                2.60   \n",
       "3                45.0              9.50    Жилой район                2.80   \n",
       "4                32.0             41.00    Жилой район                3.03   \n",
       "...               ...               ...            ...                 ...   \n",
       "23694            73.3             13.83          Центр                3.70   \n",
       "23695            38.0              8.50        Область                2.60   \n",
       "23696            29.7              8.80        Область                2.60   \n",
       "23697            30.5             23.30      Перифирия                3.00   \n",
       "23698            12.3              9.00        Область                2.50   \n",
       "\n",
       "       location  airports_nearest_upd  \n",
       "0         Город               18863.0  \n",
       "1       Область               12817.0  \n",
       "2         Город               21741.0  \n",
       "3         Город               28098.0  \n",
       "4         Город               31856.0  \n",
       "...         ...                   ...  \n",
       "23694     Город               24665.0  \n",
       "23695   Область               25994.5  \n",
       "23696   Область               25994.5  \n",
       "23697     Город               39140.0  \n",
       "23698   Область               25994.5  \n",
       "\n",
       "[23699 rows x 28 columns]"
      ]
     },
     "execution_count": 43,
     "metadata": {},
     "output_type": "execute_result"
    }
   ],
   "source": [
    "basic_data_1['location'] = 'Область' #делим населенные пункты на два подмножества - город и область,\n",
    "#добавим новый столбец\n",
    "#произведем группировку по удаленности от центра\n",
    "basic_data_1.loc[(basic_data['locality_name'] == \"Санкт-Петербург\") , 'location'] ='Город'\n",
    "\n",
    "median = basic_data_1.groupby(['location']).agg({'airports_nearest': 'median',\n",
    "                                                           'locality_name': 'count'}) #посчитаем медиану по каждой локации\n",
    "\n",
    "basic_data_1['airports_nearest_upd'] = basic_data_1['airports_nearest']\n",
    "for type in basic_data_1['location'].unique():\n",
    "    basic_data_1.loc[(basic_data_1['airports_nearest'].isna()) & (basic_data_1['location'] == type),'airports_nearest_upd'] = median[median.index == type]['airports_nearest'][0]\n",
    "    \n",
    "\n",
    "basic_data_1"
   ]
  },
  {
   "cell_type": "code",
   "execution_count": 44,
   "metadata": {},
   "outputs": [
    {
     "data": {
      "text/plain": [
       "total_images            0\n",
       "last_price              0\n",
       "total_area              0\n",
       "first_day_exposition    0\n",
       "rooms                   0\n",
       "ceiling_height          0\n",
       "floors_total            0\n",
       "living_area             0\n",
       "floor                   0\n",
       "is_apartment            0\n",
       "studio                  0\n",
       "open_plan               0\n",
       "kitchen_area            0\n",
       "balcony                 0\n",
       "locality_name           0\n",
       "airports_nearest        0\n",
       "cityCenters_nearest     0\n",
       "parks_around3000        0\n",
       "parks_nearest           0\n",
       "ponds_around3000        0\n",
       "ponds_nearest           0\n",
       "days_exposition         0\n",
       "living_area_upd         0\n",
       "kitchen_area_upd        0\n",
       "locality_type           0\n",
       "ceiling_height_upd      0\n",
       "location                0\n",
       "airports_nearest_upd    0\n",
       "dtype: int64"
      ]
     },
     "execution_count": 44,
     "metadata": {},
     "output_type": "execute_result"
    }
   ],
   "source": [
    "basic_data_1[basic_data_1['airports_nearest_upd'].isnull()].count() #проверяем"
   ]
  },
  {
   "cell_type": "code",
   "execution_count": 45,
   "metadata": {},
   "outputs": [
    {
     "data": {
      "text/plain": [
       "total_images            5440\n",
       "last_price              5440\n",
       "total_area              5440\n",
       "first_day_exposition    5440\n",
       "rooms                   5440\n",
       "ceiling_height          2919\n",
       "floors_total            5440\n",
       "living_area             4823\n",
       "floor                   5440\n",
       "is_apartment            5440\n",
       "studio                  5440\n",
       "open_plan               5440\n",
       "kitchen_area            4804\n",
       "balcony                 5440\n",
       "locality_name           5432\n",
       "airports_nearest           1\n",
       "cityCenters_nearest        0\n",
       "parks_around3000           1\n",
       "parks_nearest              1\n",
       "ponds_around3000           1\n",
       "ponds_nearest              0\n",
       "days_exposition         4580\n",
       "living_area_upd         5440\n",
       "kitchen_area_upd        5440\n",
       "locality_type           5440\n",
       "ceiling_height_upd      5440\n",
       "location                5440\n",
       "airports_nearest_upd    5440\n",
       "dtype: int64"
      ]
     },
     "execution_count": 45,
     "metadata": {},
     "output_type": "execute_result"
    }
   ],
   "source": [
    "basic_data_1[basic_data_1['cityCenters_nearest'].isnull()].count() #произведем замену, исходя из удаленности от центра"
   ]
  },
  {
   "cell_type": "code",
   "execution_count": 46,
   "metadata": {},
   "outputs": [
    {
     "data": {
      "text/html": [
       "<div>\n",
       "<style scoped>\n",
       "    .dataframe tbody tr th:only-of-type {\n",
       "        vertical-align: middle;\n",
       "    }\n",
       "\n",
       "    .dataframe tbody tr th {\n",
       "        vertical-align: top;\n",
       "    }\n",
       "\n",
       "    .dataframe thead th {\n",
       "        text-align: right;\n",
       "    }\n",
       "</style>\n",
       "<table border=\"1\" class=\"dataframe\">\n",
       "  <thead>\n",
       "    <tr style=\"text-align: right;\">\n",
       "      <th></th>\n",
       "      <th>total_images</th>\n",
       "      <th>last_price</th>\n",
       "      <th>total_area</th>\n",
       "      <th>first_day_exposition</th>\n",
       "      <th>rooms</th>\n",
       "      <th>ceiling_height</th>\n",
       "      <th>floors_total</th>\n",
       "      <th>living_area</th>\n",
       "      <th>floor</th>\n",
       "      <th>is_apartment</th>\n",
       "      <th>...</th>\n",
       "      <th>ponds_around3000</th>\n",
       "      <th>ponds_nearest</th>\n",
       "      <th>days_exposition</th>\n",
       "      <th>living_area_upd</th>\n",
       "      <th>kitchen_area_upd</th>\n",
       "      <th>locality_type</th>\n",
       "      <th>ceiling_height_upd</th>\n",
       "      <th>location</th>\n",
       "      <th>airports_nearest_upd</th>\n",
       "      <th>cityCenters_nearest_upd</th>\n",
       "    </tr>\n",
       "  </thead>\n",
       "  <tbody>\n",
       "    <tr>\n",
       "      <td>0</td>\n",
       "      <td>20</td>\n",
       "      <td>13000000.0</td>\n",
       "      <td>108.00</td>\n",
       "      <td>2019-03-07T00:00:00</td>\n",
       "      <td>3</td>\n",
       "      <td>2.70</td>\n",
       "      <td>16.0</td>\n",
       "      <td>51.0</td>\n",
       "      <td>8</td>\n",
       "      <td>False</td>\n",
       "      <td>...</td>\n",
       "      <td>2.0</td>\n",
       "      <td>755.0</td>\n",
       "      <td>NaN</td>\n",
       "      <td>51.0</td>\n",
       "      <td>25.00</td>\n",
       "      <td>Перифирия</td>\n",
       "      <td>2.70</td>\n",
       "      <td>Город</td>\n",
       "      <td>18863.0</td>\n",
       "      <td>16028.0</td>\n",
       "    </tr>\n",
       "    <tr>\n",
       "      <td>1</td>\n",
       "      <td>7</td>\n",
       "      <td>3350000.0</td>\n",
       "      <td>40.40</td>\n",
       "      <td>2018-12-04T00:00:00</td>\n",
       "      <td>1</td>\n",
       "      <td>NaN</td>\n",
       "      <td>11.0</td>\n",
       "      <td>18.6</td>\n",
       "      <td>1</td>\n",
       "      <td>False</td>\n",
       "      <td>...</td>\n",
       "      <td>0.0</td>\n",
       "      <td>NaN</td>\n",
       "      <td>81.0</td>\n",
       "      <td>18.6</td>\n",
       "      <td>11.00</td>\n",
       "      <td>Область</td>\n",
       "      <td>2.60</td>\n",
       "      <td>Область</td>\n",
       "      <td>12817.0</td>\n",
       "      <td>18603.0</td>\n",
       "    </tr>\n",
       "    <tr>\n",
       "      <td>2</td>\n",
       "      <td>10</td>\n",
       "      <td>5196000.0</td>\n",
       "      <td>56.00</td>\n",
       "      <td>2015-08-20T00:00:00</td>\n",
       "      <td>2</td>\n",
       "      <td>NaN</td>\n",
       "      <td>5.0</td>\n",
       "      <td>34.3</td>\n",
       "      <td>4</td>\n",
       "      <td>False</td>\n",
       "      <td>...</td>\n",
       "      <td>2.0</td>\n",
       "      <td>574.0</td>\n",
       "      <td>558.0</td>\n",
       "      <td>34.3</td>\n",
       "      <td>8.30</td>\n",
       "      <td>Перифирия</td>\n",
       "      <td>2.60</td>\n",
       "      <td>Город</td>\n",
       "      <td>21741.0</td>\n",
       "      <td>13933.0</td>\n",
       "    </tr>\n",
       "    <tr>\n",
       "      <td>3</td>\n",
       "      <td>0</td>\n",
       "      <td>64900000.0</td>\n",
       "      <td>159.00</td>\n",
       "      <td>2015-07-24T00:00:00</td>\n",
       "      <td>3</td>\n",
       "      <td>NaN</td>\n",
       "      <td>14.0</td>\n",
       "      <td>NaN</td>\n",
       "      <td>9</td>\n",
       "      <td>False</td>\n",
       "      <td>...</td>\n",
       "      <td>3.0</td>\n",
       "      <td>234.0</td>\n",
       "      <td>424.0</td>\n",
       "      <td>45.0</td>\n",
       "      <td>9.50</td>\n",
       "      <td>Жилой район</td>\n",
       "      <td>2.80</td>\n",
       "      <td>Город</td>\n",
       "      <td>28098.0</td>\n",
       "      <td>6800.0</td>\n",
       "    </tr>\n",
       "    <tr>\n",
       "      <td>4</td>\n",
       "      <td>2</td>\n",
       "      <td>10000000.0</td>\n",
       "      <td>100.00</td>\n",
       "      <td>2018-06-19T00:00:00</td>\n",
       "      <td>2</td>\n",
       "      <td>3.03</td>\n",
       "      <td>14.0</td>\n",
       "      <td>32.0</td>\n",
       "      <td>13</td>\n",
       "      <td>False</td>\n",
       "      <td>...</td>\n",
       "      <td>1.0</td>\n",
       "      <td>48.0</td>\n",
       "      <td>121.0</td>\n",
       "      <td>32.0</td>\n",
       "      <td>41.00</td>\n",
       "      <td>Жилой район</td>\n",
       "      <td>3.03</td>\n",
       "      <td>Город</td>\n",
       "      <td>31856.0</td>\n",
       "      <td>8098.0</td>\n",
       "    </tr>\n",
       "    <tr>\n",
       "      <td>...</td>\n",
       "      <td>...</td>\n",
       "      <td>...</td>\n",
       "      <td>...</td>\n",
       "      <td>...</td>\n",
       "      <td>...</td>\n",
       "      <td>...</td>\n",
       "      <td>...</td>\n",
       "      <td>...</td>\n",
       "      <td>...</td>\n",
       "      <td>...</td>\n",
       "      <td>...</td>\n",
       "      <td>...</td>\n",
       "      <td>...</td>\n",
       "      <td>...</td>\n",
       "      <td>...</td>\n",
       "      <td>...</td>\n",
       "      <td>...</td>\n",
       "      <td>...</td>\n",
       "      <td>...</td>\n",
       "      <td>...</td>\n",
       "      <td>...</td>\n",
       "    </tr>\n",
       "    <tr>\n",
       "      <td>23694</td>\n",
       "      <td>9</td>\n",
       "      <td>9700000.0</td>\n",
       "      <td>133.81</td>\n",
       "      <td>2017-03-21T00:00:00</td>\n",
       "      <td>3</td>\n",
       "      <td>3.70</td>\n",
       "      <td>5.0</td>\n",
       "      <td>73.3</td>\n",
       "      <td>3</td>\n",
       "      <td>False</td>\n",
       "      <td>...</td>\n",
       "      <td>3.0</td>\n",
       "      <td>381.0</td>\n",
       "      <td>NaN</td>\n",
       "      <td>73.3</td>\n",
       "      <td>13.83</td>\n",
       "      <td>Центр</td>\n",
       "      <td>3.70</td>\n",
       "      <td>Город</td>\n",
       "      <td>24665.0</td>\n",
       "      <td>4232.0</td>\n",
       "    </tr>\n",
       "    <tr>\n",
       "      <td>23695</td>\n",
       "      <td>14</td>\n",
       "      <td>3100000.0</td>\n",
       "      <td>59.00</td>\n",
       "      <td>2018-01-15T00:00:00</td>\n",
       "      <td>3</td>\n",
       "      <td>NaN</td>\n",
       "      <td>5.0</td>\n",
       "      <td>38.0</td>\n",
       "      <td>4</td>\n",
       "      <td>False</td>\n",
       "      <td>...</td>\n",
       "      <td>NaN</td>\n",
       "      <td>NaN</td>\n",
       "      <td>45.0</td>\n",
       "      <td>38.0</td>\n",
       "      <td>8.50</td>\n",
       "      <td>Область</td>\n",
       "      <td>2.60</td>\n",
       "      <td>Область</td>\n",
       "      <td>25994.5</td>\n",
       "      <td>29847.0</td>\n",
       "    </tr>\n",
       "    <tr>\n",
       "      <td>23696</td>\n",
       "      <td>18</td>\n",
       "      <td>2500000.0</td>\n",
       "      <td>56.70</td>\n",
       "      <td>2018-02-11T00:00:00</td>\n",
       "      <td>2</td>\n",
       "      <td>NaN</td>\n",
       "      <td>3.0</td>\n",
       "      <td>29.7</td>\n",
       "      <td>1</td>\n",
       "      <td>False</td>\n",
       "      <td>...</td>\n",
       "      <td>NaN</td>\n",
       "      <td>NaN</td>\n",
       "      <td>NaN</td>\n",
       "      <td>29.7</td>\n",
       "      <td>8.80</td>\n",
       "      <td>Область</td>\n",
       "      <td>2.60</td>\n",
       "      <td>Область</td>\n",
       "      <td>25994.5</td>\n",
       "      <td>29847.0</td>\n",
       "    </tr>\n",
       "    <tr>\n",
       "      <td>23697</td>\n",
       "      <td>13</td>\n",
       "      <td>11475000.0</td>\n",
       "      <td>76.75</td>\n",
       "      <td>2017-03-28T00:00:00</td>\n",
       "      <td>2</td>\n",
       "      <td>3.00</td>\n",
       "      <td>17.0</td>\n",
       "      <td>NaN</td>\n",
       "      <td>12</td>\n",
       "      <td>False</td>\n",
       "      <td>...</td>\n",
       "      <td>3.0</td>\n",
       "      <td>196.0</td>\n",
       "      <td>602.0</td>\n",
       "      <td>30.5</td>\n",
       "      <td>23.30</td>\n",
       "      <td>Перифирия</td>\n",
       "      <td>3.00</td>\n",
       "      <td>Город</td>\n",
       "      <td>39140.0</td>\n",
       "      <td>10364.0</td>\n",
       "    </tr>\n",
       "    <tr>\n",
       "      <td>23698</td>\n",
       "      <td>4</td>\n",
       "      <td>1350000.0</td>\n",
       "      <td>32.30</td>\n",
       "      <td>2017-07-21T00:00:00</td>\n",
       "      <td>1</td>\n",
       "      <td>2.50</td>\n",
       "      <td>5.0</td>\n",
       "      <td>12.3</td>\n",
       "      <td>1</td>\n",
       "      <td>False</td>\n",
       "      <td>...</td>\n",
       "      <td>NaN</td>\n",
       "      <td>NaN</td>\n",
       "      <td>NaN</td>\n",
       "      <td>12.3</td>\n",
       "      <td>9.00</td>\n",
       "      <td>Область</td>\n",
       "      <td>2.50</td>\n",
       "      <td>Область</td>\n",
       "      <td>25994.5</td>\n",
       "      <td>29847.0</td>\n",
       "    </tr>\n",
       "  </tbody>\n",
       "</table>\n",
       "<p>23699 rows × 29 columns</p>\n",
       "</div>"
      ],
      "text/plain": [
       "       total_images  last_price  total_area first_day_exposition  rooms  \\\n",
       "0                20  13000000.0      108.00  2019-03-07T00:00:00      3   \n",
       "1                 7   3350000.0       40.40  2018-12-04T00:00:00      1   \n",
       "2                10   5196000.0       56.00  2015-08-20T00:00:00      2   \n",
       "3                 0  64900000.0      159.00  2015-07-24T00:00:00      3   \n",
       "4                 2  10000000.0      100.00  2018-06-19T00:00:00      2   \n",
       "...             ...         ...         ...                  ...    ...   \n",
       "23694             9   9700000.0      133.81  2017-03-21T00:00:00      3   \n",
       "23695            14   3100000.0       59.00  2018-01-15T00:00:00      3   \n",
       "23696            18   2500000.0       56.70  2018-02-11T00:00:00      2   \n",
       "23697            13  11475000.0       76.75  2017-03-28T00:00:00      2   \n",
       "23698             4   1350000.0       32.30  2017-07-21T00:00:00      1   \n",
       "\n",
       "       ceiling_height  floors_total  living_area  floor is_apartment  ...  \\\n",
       "0                2.70          16.0         51.0      8        False  ...   \n",
       "1                 NaN          11.0         18.6      1        False  ...   \n",
       "2                 NaN           5.0         34.3      4        False  ...   \n",
       "3                 NaN          14.0          NaN      9        False  ...   \n",
       "4                3.03          14.0         32.0     13        False  ...   \n",
       "...               ...           ...          ...    ...          ...  ...   \n",
       "23694            3.70           5.0         73.3      3        False  ...   \n",
       "23695             NaN           5.0         38.0      4        False  ...   \n",
       "23696             NaN           3.0         29.7      1        False  ...   \n",
       "23697            3.00          17.0          NaN     12        False  ...   \n",
       "23698            2.50           5.0         12.3      1        False  ...   \n",
       "\n",
       "      ponds_around3000 ponds_nearest  days_exposition  living_area_upd  \\\n",
       "0                  2.0         755.0              NaN             51.0   \n",
       "1                  0.0           NaN             81.0             18.6   \n",
       "2                  2.0         574.0            558.0             34.3   \n",
       "3                  3.0         234.0            424.0             45.0   \n",
       "4                  1.0          48.0            121.0             32.0   \n",
       "...                ...           ...              ...              ...   \n",
       "23694              3.0         381.0              NaN             73.3   \n",
       "23695              NaN           NaN             45.0             38.0   \n",
       "23696              NaN           NaN              NaN             29.7   \n",
       "23697              3.0         196.0            602.0             30.5   \n",
       "23698              NaN           NaN              NaN             12.3   \n",
       "\n",
       "      kitchen_area_upd  locality_type  ceiling_height_upd  location  \\\n",
       "0                25.00      Перифирия                2.70     Город   \n",
       "1                11.00        Область                2.60   Область   \n",
       "2                 8.30      Перифирия                2.60     Город   \n",
       "3                 9.50    Жилой район                2.80     Город   \n",
       "4                41.00    Жилой район                3.03     Город   \n",
       "...                ...            ...                 ...       ...   \n",
       "23694            13.83          Центр                3.70     Город   \n",
       "23695             8.50        Область                2.60   Область   \n",
       "23696             8.80        Область                2.60   Область   \n",
       "23697            23.30      Перифирия                3.00     Город   \n",
       "23698             9.00        Область                2.50   Область   \n",
       "\n",
       "       airports_nearest_upd  cityCenters_nearest_upd  \n",
       "0                   18863.0                  16028.0  \n",
       "1                   12817.0                  18603.0  \n",
       "2                   21741.0                  13933.0  \n",
       "3                   28098.0                   6800.0  \n",
       "4                   31856.0                   8098.0  \n",
       "...                     ...                      ...  \n",
       "23694               24665.0                   4232.0  \n",
       "23695               25994.5                  29847.0  \n",
       "23696               25994.5                  29847.0  \n",
       "23697               39140.0                  10364.0  \n",
       "23698               25994.5                  29847.0  \n",
       "\n",
       "[23699 rows x 29 columns]"
      ]
     },
     "execution_count": 46,
     "metadata": {},
     "output_type": "execute_result"
    }
   ],
   "source": [
    "median = basic_data_1.groupby(['locality_type']).agg({'cityCenters_nearest': 'median',\n",
    "                                                           'locality_name': 'count'}) #посчитаем медиану по каждой группе и оценим равномерность (по количеству) и репрезентативность выборки по каждой группе\n",
    "\n",
    "basic_data_1['cityCenters_nearest_upd'] = basic_data_1['cityCenters_nearest']\n",
    "for type in basic_data_1['locality_type'].unique():\n",
    "    basic_data_1.loc[(basic_data_1['cityCenters_nearest'].isna()) & (basic_data_1['locality_type'] == type),'cityCenters_nearest_upd'] = median[median.index == type]['cityCenters_nearest'][0]\n",
    "    \n",
    "\n",
    "basic_data_1\n"
   ]
  },
  {
   "cell_type": "code",
   "execution_count": 47,
   "metadata": {},
   "outputs": [
    {
     "data": {
      "text/plain": [
       "total_images               0\n",
       "last_price                 0\n",
       "total_area                 0\n",
       "first_day_exposition       0\n",
       "rooms                      0\n",
       "ceiling_height             0\n",
       "floors_total               0\n",
       "living_area                0\n",
       "floor                      0\n",
       "is_apartment               0\n",
       "studio                     0\n",
       "open_plan                  0\n",
       "kitchen_area               0\n",
       "balcony                    0\n",
       "locality_name              0\n",
       "airports_nearest           0\n",
       "cityCenters_nearest        0\n",
       "parks_around3000           0\n",
       "parks_nearest              0\n",
       "ponds_around3000           0\n",
       "ponds_nearest              0\n",
       "days_exposition            0\n",
       "living_area_upd            0\n",
       "kitchen_area_upd           0\n",
       "locality_type              0\n",
       "ceiling_height_upd         0\n",
       "location                   0\n",
       "airports_nearest_upd       0\n",
       "cityCenters_nearest_upd    0\n",
       "dtype: int64"
      ]
     },
     "execution_count": 47,
     "metadata": {},
     "output_type": "execute_result"
    }
   ],
   "source": [
    "basic_data_1[basic_data_1['cityCenters_nearest_upd'].isnull()].count()"
   ]
  },
  {
   "cell_type": "code",
   "execution_count": 48,
   "metadata": {},
   "outputs": [
    {
     "data": {
      "text/plain": [
       "total_images               3167\n",
       "last_price                 3167\n",
       "total_area                 3167\n",
       "first_day_exposition       3167\n",
       "rooms                      3167\n",
       "ceiling_height             2445\n",
       "floors_total               3167\n",
       "living_area                2971\n",
       "floor                      3167\n",
       "is_apartment               3167\n",
       "studio                     3167\n",
       "open_plan                  3167\n",
       "kitchen_area               2978\n",
       "balcony                    3167\n",
       "locality_name              3166\n",
       "airports_nearest           2306\n",
       "cityCenters_nearest        2307\n",
       "parks_around3000           2308\n",
       "parks_nearest              1142\n",
       "ponds_around3000           2308\n",
       "ponds_nearest              1211\n",
       "days_exposition               0\n",
       "living_area_upd            3167\n",
       "kitchen_area_upd           3167\n",
       "locality_type              3167\n",
       "ceiling_height_upd         3167\n",
       "location                   3167\n",
       "airports_nearest_upd       3167\n",
       "cityCenters_nearest_upd    3167\n",
       "dtype: int64"
      ]
     },
     "execution_count": 48,
     "metadata": {},
     "output_type": "execute_result"
    }
   ],
   "source": [
    "basic_data_1[basic_data_1['days_exposition'].isnull()].count() #пропущенные значение заменим на 0. В связи с тем, что мы ничего не знаем о статусе объявления, другого логически обоснованного и подходящего метода в данном конкретном случае нет"
   ]
  },
  {
   "cell_type": "code",
   "execution_count": 49,
   "metadata": {},
   "outputs": [],
   "source": [
    "basic_data_1['days_exposition'] = basic_data_1['days_exposition'].fillna(value = 0)"
   ]
  },
  {
   "cell_type": "code",
   "execution_count": 50,
   "metadata": {},
   "outputs": [
    {
     "data": {
      "text/plain": [
       "total_images               0\n",
       "last_price                 0\n",
       "total_area                 0\n",
       "first_day_exposition       0\n",
       "rooms                      0\n",
       "ceiling_height             0\n",
       "floors_total               0\n",
       "living_area                0\n",
       "floor                      0\n",
       "is_apartment               0\n",
       "studio                     0\n",
       "open_plan                  0\n",
       "kitchen_area               0\n",
       "balcony                    0\n",
       "locality_name              0\n",
       "airports_nearest           0\n",
       "cityCenters_nearest        0\n",
       "parks_around3000           0\n",
       "parks_nearest              0\n",
       "ponds_around3000           0\n",
       "ponds_nearest              0\n",
       "days_exposition            0\n",
       "living_area_upd            0\n",
       "kitchen_area_upd           0\n",
       "locality_type              0\n",
       "ceiling_height_upd         0\n",
       "location                   0\n",
       "airports_nearest_upd       0\n",
       "cityCenters_nearest_upd    0\n",
       "dtype: int64"
      ]
     },
     "execution_count": 50,
     "metadata": {},
     "output_type": "execute_result"
    }
   ],
   "source": [
    "basic_data_1[basic_data_1['days_exposition'].isnull()].count() #проверяем"
   ]
  },
  {
   "cell_type": "code",
   "execution_count": 51,
   "metadata": {},
   "outputs": [
    {
     "data": {
      "text/plain": [
       "total_images               5439\n",
       "last_price                 5439\n",
       "total_area                 5439\n",
       "first_day_exposition       5439\n",
       "rooms                      5439\n",
       "ceiling_height             2918\n",
       "floors_total               5439\n",
       "living_area                4822\n",
       "floor                      5439\n",
       "is_apartment               5439\n",
       "studio                     5439\n",
       "open_plan                  5439\n",
       "kitchen_area               4803\n",
       "balcony                    5439\n",
       "locality_name              5431\n",
       "airports_nearest              0\n",
       "cityCenters_nearest           0\n",
       "parks_around3000              0\n",
       "parks_nearest                 0\n",
       "ponds_around3000              0\n",
       "ponds_nearest                 0\n",
       "days_exposition            5439\n",
       "living_area_upd            5439\n",
       "kitchen_area_upd           5439\n",
       "locality_type              5439\n",
       "ceiling_height_upd         5439\n",
       "location                   5439\n",
       "airports_nearest_upd       5439\n",
       "cityCenters_nearest_upd    5439\n",
       "dtype: int64"
      ]
     },
     "execution_count": 51,
     "metadata": {},
     "output_type": "execute_result"
    }
   ],
   "source": [
    "basic_data_1[basic_data_1['parks_around3000'].isnull()].count() #заменим пропущенные значения на 0, приняв допущение, что данный параметр пропущен/не указан по той причине, что парков на расстоянии 3 км. нет (заметим, что иной логически обоснованный способ произвести замену отсутсвует)"
   ]
  },
  {
   "cell_type": "code",
   "execution_count": 52,
   "metadata": {},
   "outputs": [],
   "source": [
    "basic_data_1['parks_around3000'] = basic_data_1['parks_around3000'].fillna(value = 0)"
   ]
  },
  {
   "cell_type": "code",
   "execution_count": 53,
   "metadata": {},
   "outputs": [
    {
     "data": {
      "text/plain": [
       "total_images               0\n",
       "last_price                 0\n",
       "total_area                 0\n",
       "first_day_exposition       0\n",
       "rooms                      0\n",
       "ceiling_height             0\n",
       "floors_total               0\n",
       "living_area                0\n",
       "floor                      0\n",
       "is_apartment               0\n",
       "studio                     0\n",
       "open_plan                  0\n",
       "kitchen_area               0\n",
       "balcony                    0\n",
       "locality_name              0\n",
       "airports_nearest           0\n",
       "cityCenters_nearest        0\n",
       "parks_around3000           0\n",
       "parks_nearest              0\n",
       "ponds_around3000           0\n",
       "ponds_nearest              0\n",
       "days_exposition            0\n",
       "living_area_upd            0\n",
       "kitchen_area_upd           0\n",
       "locality_type              0\n",
       "ceiling_height_upd         0\n",
       "location                   0\n",
       "airports_nearest_upd       0\n",
       "cityCenters_nearest_upd    0\n",
       "dtype: int64"
      ]
     },
     "execution_count": 53,
     "metadata": {},
     "output_type": "execute_result"
    }
   ],
   "source": [
    "basic_data_1[basic_data_1['parks_around3000'].isnull()].count() #проверим"
   ]
  },
  {
   "cell_type": "code",
   "execution_count": 54,
   "metadata": {},
   "outputs": [
    {
     "data": {
      "text/plain": [
       "total_images               5439\n",
       "last_price                 5439\n",
       "total_area                 5439\n",
       "first_day_exposition       5439\n",
       "rooms                      5439\n",
       "ceiling_height             2918\n",
       "floors_total               5439\n",
       "living_area                4822\n",
       "floor                      5439\n",
       "is_apartment               5439\n",
       "studio                     5439\n",
       "open_plan                  5439\n",
       "kitchen_area               4803\n",
       "balcony                    5439\n",
       "locality_name              5431\n",
       "airports_nearest              0\n",
       "cityCenters_nearest           0\n",
       "parks_around3000           5439\n",
       "parks_nearest                 0\n",
       "ponds_around3000              0\n",
       "ponds_nearest                 0\n",
       "days_exposition            5439\n",
       "living_area_upd            5439\n",
       "kitchen_area_upd           5439\n",
       "locality_type              5439\n",
       "ceiling_height_upd         5439\n",
       "location                   5439\n",
       "airports_nearest_upd       5439\n",
       "cityCenters_nearest_upd    5439\n",
       "dtype: int64"
      ]
     },
     "execution_count": 54,
     "metadata": {},
     "output_type": "execute_result"
    }
   ],
   "source": [
    "basic_data_1[basic_data_1['ponds_around3000'].isnull()].count()  #заменим пропущенные значения на 0, приняв допущение, что данный параметр пропущен/не указан по той причине, что водоемов на расстоянии 3 км. нет (заметим, что иной логически обоснованный способ произвести замену отсутсвует)"
   ]
  },
  {
   "cell_type": "code",
   "execution_count": 55,
   "metadata": {},
   "outputs": [],
   "source": [
    "basic_data_1['ponds_around3000'] = basic_data_1['ponds_around3000'].fillna(value = 0)"
   ]
  },
  {
   "cell_type": "code",
   "execution_count": 56,
   "metadata": {},
   "outputs": [
    {
     "data": {
      "text/plain": [
       "total_images               0\n",
       "last_price                 0\n",
       "total_area                 0\n",
       "first_day_exposition       0\n",
       "rooms                      0\n",
       "ceiling_height             0\n",
       "floors_total               0\n",
       "living_area                0\n",
       "floor                      0\n",
       "is_apartment               0\n",
       "studio                     0\n",
       "open_plan                  0\n",
       "kitchen_area               0\n",
       "balcony                    0\n",
       "locality_name              0\n",
       "airports_nearest           0\n",
       "cityCenters_nearest        0\n",
       "parks_around3000           0\n",
       "parks_nearest              0\n",
       "ponds_around3000           0\n",
       "ponds_nearest              0\n",
       "days_exposition            0\n",
       "living_area_upd            0\n",
       "kitchen_area_upd           0\n",
       "locality_type              0\n",
       "ceiling_height_upd         0\n",
       "location                   0\n",
       "airports_nearest_upd       0\n",
       "cityCenters_nearest_upd    0\n",
       "dtype: int64"
      ]
     },
     "execution_count": 56,
     "metadata": {},
     "output_type": "execute_result"
    }
   ],
   "source": [
    "basic_data_1[basic_data_1['ponds_around3000'].isnull()].count() #проверим"
   ]
  },
  {
   "cell_type": "code",
   "execution_count": 57,
   "metadata": {},
   "outputs": [
    {
     "data": {
      "text/plain": [
       "total_images               15452\n",
       "last_price                 15452\n",
       "total_area                 15452\n",
       "first_day_exposition       15452\n",
       "rooms                      15452\n",
       "ceiling_height              9143\n",
       "floors_total               15452\n",
       "living_area                14137\n",
       "floor                      15452\n",
       "is_apartment               15452\n",
       "studio                     15452\n",
       "open_plan                  15452\n",
       "kitchen_area               14032\n",
       "balcony                    15452\n",
       "locality_name              15418\n",
       "airports_nearest           10009\n",
       "cityCenters_nearest        10013\n",
       "parks_around3000           15452\n",
       "parks_nearest                  0\n",
       "ponds_around3000           15452\n",
       "ponds_nearest               4235\n",
       "days_exposition            15452\n",
       "living_area_upd            15452\n",
       "kitchen_area_upd           15452\n",
       "locality_type              15452\n",
       "ceiling_height_upd         15452\n",
       "location                   15452\n",
       "airports_nearest_upd       15452\n",
       "cityCenters_nearest_upd    15452\n",
       "dtype: int64"
      ]
     },
     "execution_count": 57,
     "metadata": {},
     "output_type": "execute_result"
    }
   ],
   "source": [
    "basic_data_1[basic_data_1['parks_nearest'].isnull()].count()"
   ]
  },
  {
   "cell_type": "code",
   "execution_count": 58,
   "metadata": {},
   "outputs": [
    {
     "name": "stdout",
     "output_type": "stream",
     "text": [
      "0.0\n"
     ]
    }
   ],
   "source": [
    "print(basic_data_1[basic_data_1['parks_nearest'].isnull()] ['parks_around3000'].sum()) #проверим, что, если значение расстояния до ближайшего парка (м) пропущено, то и парка на расстоянии 3 км. нет. Заменим пропушенные значения на 0, сделав допущением, что парков поблизости нет\n"
   ]
  },
  {
   "cell_type": "code",
   "execution_count": 59,
   "metadata": {},
   "outputs": [],
   "source": [
    "basic_data_1['parks_nearest'] = basic_data_1['parks_nearest'].fillna(value = 0)"
   ]
  },
  {
   "cell_type": "code",
   "execution_count": 60,
   "metadata": {},
   "outputs": [
    {
     "data": {
      "text/plain": [
       "total_images               0\n",
       "last_price                 0\n",
       "total_area                 0\n",
       "first_day_exposition       0\n",
       "rooms                      0\n",
       "ceiling_height             0\n",
       "floors_total               0\n",
       "living_area                0\n",
       "floor                      0\n",
       "is_apartment               0\n",
       "studio                     0\n",
       "open_plan                  0\n",
       "kitchen_area               0\n",
       "balcony                    0\n",
       "locality_name              0\n",
       "airports_nearest           0\n",
       "cityCenters_nearest        0\n",
       "parks_around3000           0\n",
       "parks_nearest              0\n",
       "ponds_around3000           0\n",
       "ponds_nearest              0\n",
       "days_exposition            0\n",
       "living_area_upd            0\n",
       "kitchen_area_upd           0\n",
       "locality_type              0\n",
       "ceiling_height_upd         0\n",
       "location                   0\n",
       "airports_nearest_upd       0\n",
       "cityCenters_nearest_upd    0\n",
       "dtype: int64"
      ]
     },
     "execution_count": 60,
     "metadata": {},
     "output_type": "execute_result"
    }
   ],
   "source": [
    "basic_data_1[basic_data_1['parks_nearest'].isnull()].count() #проверим"
   ]
  },
  {
   "cell_type": "code",
   "execution_count": 61,
   "metadata": {},
   "outputs": [
    {
     "data": {
      "text/plain": [
       "total_images               14461\n",
       "last_price                 14461\n",
       "total_area                 14461\n",
       "first_day_exposition       14461\n",
       "rooms                      14461\n",
       "ceiling_height              8720\n",
       "floors_total               14461\n",
       "living_area                13259\n",
       "floor                      14461\n",
       "is_apartment               14461\n",
       "studio                     14461\n",
       "open_plan                  14461\n",
       "kitchen_area               13155\n",
       "balcony                    14461\n",
       "locality_name              14437\n",
       "airports_nearest            9006\n",
       "cityCenters_nearest         9021\n",
       "parks_around3000           14461\n",
       "parks_nearest              14461\n",
       "ponds_around3000           14461\n",
       "ponds_nearest                  0\n",
       "days_exposition            14461\n",
       "living_area_upd            14461\n",
       "kitchen_area_upd           14461\n",
       "locality_type              14461\n",
       "ceiling_height_upd         14461\n",
       "location                   14461\n",
       "airports_nearest_upd       14461\n",
       "cityCenters_nearest_upd    14461\n",
       "dtype: int64"
      ]
     },
     "execution_count": 61,
     "metadata": {},
     "output_type": "execute_result"
    }
   ],
   "source": [
    "basic_data_1[basic_data_1['ponds_nearest'].isnull()].count()"
   ]
  },
  {
   "cell_type": "code",
   "execution_count": 62,
   "metadata": {},
   "outputs": [
    {
     "name": "stdout",
     "output_type": "stream",
     "text": [
      "0.0\n"
     ]
    }
   ],
   "source": [
    "print(basic_data_1[basic_data_1['ponds_nearest'].isnull()] ['ponds_around3000'].sum()) #проверим, что, если значение расстояния до ближайшего водоема (м) пропущено, то и водоема на расстоянии 3 км. нет. Заменим пропушенные значения на 0, сделав допущением, что водоемов поблизости нет\n"
   ]
  },
  {
   "cell_type": "code",
   "execution_count": 63,
   "metadata": {},
   "outputs": [],
   "source": [
    "basic_data_1['ponds_nearest'] = basic_data_1['ponds_nearest'].fillna(value = 0)"
   ]
  },
  {
   "cell_type": "code",
   "execution_count": 64,
   "metadata": {},
   "outputs": [
    {
     "data": {
      "text/plain": [
       "total_images               0\n",
       "last_price                 0\n",
       "total_area                 0\n",
       "first_day_exposition       0\n",
       "rooms                      0\n",
       "ceiling_height             0\n",
       "floors_total               0\n",
       "living_area                0\n",
       "floor                      0\n",
       "is_apartment               0\n",
       "studio                     0\n",
       "open_plan                  0\n",
       "kitchen_area               0\n",
       "balcony                    0\n",
       "locality_name              0\n",
       "airports_nearest           0\n",
       "cityCenters_nearest        0\n",
       "parks_around3000           0\n",
       "parks_nearest              0\n",
       "ponds_around3000           0\n",
       "ponds_nearest              0\n",
       "days_exposition            0\n",
       "living_area_upd            0\n",
       "kitchen_area_upd           0\n",
       "locality_type              0\n",
       "ceiling_height_upd         0\n",
       "location                   0\n",
       "airports_nearest_upd       0\n",
       "cityCenters_nearest_upd    0\n",
       "dtype: int64"
      ]
     },
     "execution_count": 64,
     "metadata": {},
     "output_type": "execute_result"
    }
   ],
   "source": [
    "basic_data_1[basic_data_1['ponds_nearest'].isnull()].count() #проверим"
   ]
  },
  {
   "cell_type": "code",
   "execution_count": 65,
   "metadata": {
    "scrolled": true
   },
   "outputs": [
    {
     "name": "stdout",
     "output_type": "stream",
     "text": [
      "<class 'pandas.core.frame.DataFrame'>\n",
      "RangeIndex: 23699 entries, 0 to 23698\n",
      "Data columns (total 29 columns):\n",
      "total_images               23699 non-null int64\n",
      "last_price                 23699 non-null float64\n",
      "total_area                 23699 non-null float64\n",
      "first_day_exposition       23699 non-null object\n",
      "rooms                      23699 non-null int64\n",
      "ceiling_height             14619 non-null float64\n",
      "floors_total               23699 non-null float64\n",
      "living_area                21810 non-null float64\n",
      "floor                      23699 non-null int64\n",
      "is_apartment               23699 non-null object\n",
      "studio                     23699 non-null object\n",
      "open_plan                  23699 non-null object\n",
      "kitchen_area               21618 non-null float64\n",
      "balcony                    23699 non-null float64\n",
      "locality_name              23650 non-null object\n",
      "airports_nearest           18236 non-null float64\n",
      "cityCenters_nearest        18259 non-null float64\n",
      "parks_around3000           23699 non-null float64\n",
      "parks_nearest              23699 non-null float64\n",
      "ponds_around3000           23699 non-null float64\n",
      "ponds_nearest              23699 non-null float64\n",
      "days_exposition            23699 non-null float64\n",
      "living_area_upd            23699 non-null float64\n",
      "kitchen_area_upd           23699 non-null float64\n",
      "locality_type              23699 non-null object\n",
      "ceiling_height_upd         23699 non-null float64\n",
      "location                   23699 non-null object\n",
      "airports_nearest_upd       23699 non-null float64\n",
      "cityCenters_nearest_upd    23699 non-null float64\n",
      "dtypes: float64(19), int64(3), object(7)\n",
      "memory usage: 5.2+ MB\n"
     ]
    }
   ],
   "source": [
    "basic_data_1.info() #проверяем, что во всех колонках замена произведена успешно"
   ]
  },
  {
   "cell_type": "code",
   "execution_count": 66,
   "metadata": {},
   "outputs": [],
   "source": [
    "#преобразуем тип данных в столбцах floors_total и balcony в столбцы с целочисленными значниями\n",
    "#данные показатели не могут быть дробными, только целыми\n",
    "basic_data_1['floors_total'] = basic_data_1['floors_total'].astype('int')\n",
    "basic_data_1['balcony'] = basic_data_1['balcony'].astype('int')\n",
    "# и приведем даты к формату дат для дальнейшей работы с ними (приведение к месяцу, году и тд)\n",
    "basic_data_1['first_day_exposition'] = pd.to_datetime(basic_data_1['first_day_exposition'], format='%Y-%m-%dT%H:%M:%S')\n"
   ]
  },
  {
   "cell_type": "code",
   "execution_count": 67,
   "metadata": {},
   "outputs": [
    {
     "name": "stdout",
     "output_type": "stream",
     "text": [
      "<class 'pandas.core.frame.DataFrame'>\n",
      "RangeIndex: 23699 entries, 0 to 23698\n",
      "Data columns (total 29 columns):\n",
      "total_images               23699 non-null int64\n",
      "last_price                 23699 non-null float64\n",
      "total_area                 23699 non-null float64\n",
      "first_day_exposition       23699 non-null datetime64[ns]\n",
      "rooms                      23699 non-null int64\n",
      "ceiling_height             14619 non-null float64\n",
      "floors_total               23699 non-null int64\n",
      "living_area                21810 non-null float64\n",
      "floor                      23699 non-null int64\n",
      "is_apartment               23699 non-null object\n",
      "studio                     23699 non-null object\n",
      "open_plan                  23699 non-null object\n",
      "kitchen_area               21618 non-null float64\n",
      "balcony                    23699 non-null int64\n",
      "locality_name              23650 non-null object\n",
      "airports_nearest           18236 non-null float64\n",
      "cityCenters_nearest        18259 non-null float64\n",
      "parks_around3000           23699 non-null float64\n",
      "parks_nearest              23699 non-null float64\n",
      "ponds_around3000           23699 non-null float64\n",
      "ponds_nearest              23699 non-null float64\n",
      "days_exposition            23699 non-null float64\n",
      "living_area_upd            23699 non-null float64\n",
      "kitchen_area_upd           23699 non-null float64\n",
      "locality_type              23699 non-null object\n",
      "ceiling_height_upd         23699 non-null float64\n",
      "location                   23699 non-null object\n",
      "airports_nearest_upd       23699 non-null float64\n",
      "cityCenters_nearest_upd    23699 non-null float64\n",
      "dtypes: datetime64[ns](1), float64(17), int64(5), object(6)\n",
      "memory usage: 5.2+ MB\n"
     ]
    }
   ],
   "source": [
    "basic_data_1.info() #проверяем, что замена произведена успешно"
   ]
  },
  {
   "cell_type": "markdown",
   "metadata": {},
   "source": [
    "<div style=\"border:solid  green  2px; padding: 20px\"> <h1 style=\"color: green ; margin-bottom:20px\">Комментарий наставника</h1>\n",
    "\n",
    "Вся требуемая предобработка выполнена, всё логично и точно, продолжай в том же духе!)\n"
   ]
  },
  {
   "cell_type": "markdown",
   "metadata": {},
   "source": [
    "### Шаг 3. Посчитайте и добавьте в таблицу"
   ]
  },
  {
   "cell_type": "code",
   "execution_count": 68,
   "metadata": {},
   "outputs": [],
   "source": [
    "#цену квадратного метра\n",
    "basic_data_1['price_per_m2'] = basic_data_1['last_price'] / basic_data_1['total_area']"
   ]
  },
  {
   "cell_type": "code",
   "execution_count": 69,
   "metadata": {},
   "outputs": [],
   "source": [
    "#день недели, месяц и год публикации объявления\n",
    "\n",
    "#день недели\n",
    "basic_data_1['weekday'] = basic_data_1['first_day_exposition'].dt.weekday\n",
    "\n",
    "#месяц\n",
    "basic_data_1['month'] = pd.DatetimeIndex(basic_data_1['first_day_exposition']).month\n",
    "\n",
    "#год публикации объявления\n",
    "basic_data_1['year'] = pd.DatetimeIndex(basic_data_1['first_day_exposition']).year\n"
   ]
  },
  {
   "cell_type": "code",
   "execution_count": 70,
   "metadata": {},
   "outputs": [],
   "source": [
    "#этаж квартиры; варианты — первый, последний, другой.\n",
    "\n",
    "def floor_type(row):\n",
    "    if row['floor'] == 1:\n",
    "        return'первый'\n",
    "    if row['floor'] == row['floors_total']:\n",
    "        return 'последний'\n",
    "    return  'другой'\n",
    "\n",
    "basic_data_1['floor_type'] = basic_data_1.apply(floor_type, axis=1)\n"
   ]
  },
  {
   "cell_type": "code",
   "execution_count": 71,
   "metadata": {},
   "outputs": [],
   "source": [
    "#соотношение жилой и общей площади\n",
    "\n",
    "basic_data_1['correlation_la_ta'] = basic_data_1['living_area'] / basic_data_1['total_area']\n",
    "\n",
    "#отношение площади кухни к общей\n",
    "\n",
    "basic_data_1['correlation_ka_ta'] = basic_data_1['kitchen_area'] / basic_data_1['total_area']"
   ]
  },
  {
   "cell_type": "code",
   "execution_count": 72,
   "metadata": {
    "scrolled": true
   },
   "outputs": [
    {
     "name": "stdout",
     "output_type": "stream",
     "text": [
      "<class 'pandas.core.frame.DataFrame'>\n",
      "RangeIndex: 23699 entries, 0 to 23698\n",
      "Data columns (total 36 columns):\n",
      "total_images               23699 non-null int64\n",
      "last_price                 23699 non-null float64\n",
      "total_area                 23699 non-null float64\n",
      "first_day_exposition       23699 non-null datetime64[ns]\n",
      "rooms                      23699 non-null int64\n",
      "ceiling_height             14619 non-null float64\n",
      "floors_total               23699 non-null int64\n",
      "living_area                21810 non-null float64\n",
      "floor                      23699 non-null int64\n",
      "is_apartment               23699 non-null object\n",
      "studio                     23699 non-null object\n",
      "open_plan                  23699 non-null object\n",
      "kitchen_area               21618 non-null float64\n",
      "balcony                    23699 non-null int64\n",
      "locality_name              23650 non-null object\n",
      "airports_nearest           18236 non-null float64\n",
      "cityCenters_nearest        18259 non-null float64\n",
      "parks_around3000           23699 non-null float64\n",
      "parks_nearest              23699 non-null float64\n",
      "ponds_around3000           23699 non-null float64\n",
      "ponds_nearest              23699 non-null float64\n",
      "days_exposition            23699 non-null float64\n",
      "living_area_upd            23699 non-null float64\n",
      "kitchen_area_upd           23699 non-null float64\n",
      "locality_type              23699 non-null object\n",
      "ceiling_height_upd         23699 non-null float64\n",
      "location                   23699 non-null object\n",
      "airports_nearest_upd       23699 non-null float64\n",
      "cityCenters_nearest_upd    23699 non-null float64\n",
      "price_per_m2               23699 non-null float64\n",
      "weekday                    23699 non-null int64\n",
      "month                      23699 non-null int64\n",
      "year                       23699 non-null int64\n",
      "floor_type                 23699 non-null object\n",
      "correlation_la_ta          21810 non-null float64\n",
      "correlation_ka_ta          21618 non-null float64\n",
      "dtypes: datetime64[ns](1), float64(20), int64(8), object(7)\n",
      "memory usage: 6.5+ MB\n"
     ]
    }
   ],
   "source": [
    "basic_data_1.info() #проверяем, что добавлены все колонки"
   ]
  },
  {
   "cell_type": "markdown",
   "metadata": {},
   "source": [
    "<div style=\"border:solid  green  2px; padding: 20px\"> <h1 style=\"color: green ; margin-bottom:20px\">Комментарий наставника</h1>\n",
    "\n",
    "Всё посчитано верно и добавлено в таблицу, продолжай в том же духе)"
   ]
  },
  {
   "cell_type": "markdown",
   "metadata": {},
   "source": [
    "### Шаг 4. Проведите исследовательский анализ данных и выполните инструкции:"
   ]
  },
  {
   "cell_type": "code",
   "execution_count": 73,
   "metadata": {},
   "outputs": [],
   "source": [
    "#Изучите следующие параметры: 1. площадь, 2. цена, 3. число комнат, 4.высота потолков. Постройте гистограммы для каждого параметра.\n",
    "# изучим данные методом discribe и посмотрим границы выбросов (диаграммы размаха)\n",
    "# автоматизируем вывод графиков"
   ]
  },
  {
   "cell_type": "code",
   "execution_count": 74,
   "metadata": {},
   "outputs": [
    {
     "data": {
      "text/plain": [
       "count    23699.000000\n",
       "mean        60.113573\n",
       "std         35.873186\n",
       "min          1.000000\n",
       "25%         40.000000\n",
       "50%         52.000000\n",
       "75%         69.800000\n",
       "max        900.000000\n",
       "Name: total_area, dtype: float64"
      ]
     },
     "execution_count": 74,
     "metadata": {},
     "output_type": "execute_result"
    }
   ],
   "source": [
    "#1\n",
    "basic_data_1['total_area'].describe()\n"
   ]
  },
  {
   "cell_type": "code",
   "execution_count": 75,
   "metadata": {},
   "outputs": [
    {
     "data": {
      "text/plain": [
       "count    2.369900e+04\n",
       "mean     6.513804e+06\n",
       "std      1.088972e+07\n",
       "min      1.000000e+00\n",
       "25%      3.400000e+06\n",
       "50%      4.646000e+06\n",
       "75%      6.794500e+06\n",
       "max      7.630000e+08\n",
       "Name: last_price, dtype: float64"
      ]
     },
     "execution_count": 75,
     "metadata": {},
     "output_type": "execute_result"
    }
   ],
   "source": [
    "#2\n",
    "basic_data_1['last_price'].describe()\n"
   ]
  },
  {
   "cell_type": "code",
   "execution_count": 76,
   "metadata": {},
   "outputs": [
    {
     "data": {
      "text/plain": [
       "count    23699.000000\n",
       "mean         2.078948\n",
       "std          1.066196\n",
       "min          1.000000\n",
       "25%          1.000000\n",
       "50%          2.000000\n",
       "75%          3.000000\n",
       "max         19.000000\n",
       "Name: rooms, dtype: float64"
      ]
     },
     "execution_count": 76,
     "metadata": {},
     "output_type": "execute_result"
    }
   ],
   "source": [
    "#3\n",
    "basic_data_1['rooms'].describe()\n"
   ]
  },
  {
   "cell_type": "code",
   "execution_count": 77,
   "metadata": {},
   "outputs": [
    {
     "data": {
      "text/plain": [
       "count    23699.000000\n",
       "mean         2.713198\n",
       "std          0.991403\n",
       "min          1.000000\n",
       "25%          2.600000\n",
       "50%          2.600000\n",
       "75%          2.760000\n",
       "max        100.000000\n",
       "Name: ceiling_height_upd, dtype: float64"
      ]
     },
     "execution_count": 77,
     "metadata": {},
     "output_type": "execute_result"
    }
   ],
   "source": [
    "#4\n",
    "\n",
    "basic_data_1['ceiling_height_upd'].describe()"
   ]
  },
  {
   "cell_type": "code",
   "execution_count": 78,
   "metadata": {},
   "outputs": [
    {
     "data": {
      "image/png": "[encoded data removed]",
      "text/plain": [
       "<Figure size 1080x360 with 2 Axes>"
      ]
     },
     "metadata": {
      "needs_background": "light"
     },
     "output_type": "display_data"
    },
    {
     "data": {
      "image/png": "[encoded data removed]",
      "text/plain": [
       "<Figure size 1080x360 with 2 Axes>"
      ]
     },
     "metadata": {
      "needs_background": "light"
     },
     "output_type": "display_data"
    },
    {
     "data": {
      "image/png": "[encoded data removed]",
      "text/plain": [
       "<Figure size 1080x360 with 2 Axes>"
      ]
     },
     "metadata": {
      "needs_background": "light"
     },
     "output_type": "display_data"
    },
    {
     "data": {
      "image/png": "[encoded data removed]",
      "text/plain": [
       "<Figure size 1080x360 with 2 Axes>"
      ]
     },
     "metadata": {
      "needs_background": "light"
     },
     "output_type": "display_data"
    }
   ],
   "source": [
    "# создаем список с колонками, для которых необходимо построить гистограммы и копию df\n",
    "\n",
    "basic_data_new = basic_data_1.copy()\n",
    "columns = ['total_area','last_price','rooms','ceiling_height_upd']\n",
    "# для каждого из показателей посторим гистограмму и коробку с усами\n",
    "for col in columns:\n",
    "    fig, axes = plt.subplots(1,2, figsize=(15, 5))\n",
    "    basic_data_new[col].plot(ax=axes[0], kind= 'hist', grid=True, bins=100, label=col)\n",
    "    pd.plotting.boxplot(basic_data_1[col], ax=axes[1], vert=False)\n",
    "    plt.xlabel(col)"
   ]
  },
  {
   "cell_type": "markdown",
   "metadata": {},
   "source": [
    "<div style=\"border:solid green 2px; padding: 20px\"> <h1 style=\"color:green; margin-bottom:20px\">Комментарий наставника</h1>\n",
    "\n",
    "Классные визуализации, супер!)"
   ]
  },
  {
   "cell_type": "code",
   "execution_count": 79,
   "metadata": {
    "scrolled": true
   },
   "outputs": [
    {
     "data": {
      "text/plain": [
       "count    23699.000000\n",
       "mean       155.774083\n",
       "std        213.488209\n",
       "min          0.000000\n",
       "25%         21.000000\n",
       "50%         73.000000\n",
       "75%        197.000000\n",
       "max       1580.000000\n",
       "Name: days_exposition, dtype: float64"
      ]
     },
     "execution_count": 79,
     "metadata": {},
     "output_type": "execute_result"
    }
   ],
   "source": [
    "#Изучите время продажи квартиры. Постройте гистограмму. Посчитайте среднее и медиану. Опишите, сколько обычно занимает продажа. Когда можно считать, что продажи прошли очень быстро, а когда необычно долго?\n",
    "#Косвенно оценку времени на продажу квартиры мы можем оценить по параметру days_exposition, сделав допущение, что объявление закрывается сразу, после продажи\n",
    "\n",
    "\n",
    "basic_data_1['days_exposition'].describe()\n",
    "\n",
    "# среднее mean 155.774083\n",
    "# медиана 73.000000\n",
    "# продажа обычно занимает 73 дня (определяем по медиане).\n",
    "# продажи прошли очень быстро, если количестов дней, необходимых для продажи меньше 1 квартиля 21 (то есть, быстрее, чем 25%)\n",
    "# продажи прошли очень медленно, если количество дней, необходимых для продажи больше 197 (3 квартиль, то есть, дольше, чем 75%)"
   ]
  },
  {
   "cell_type": "code",
   "execution_count": 80,
   "metadata": {},
   "outputs": [
    {
     "data": {
      "text/plain": [
       "<matplotlib.axes._subplots.AxesSubplot at 0x7f60ea4d2390>"
      ]
     },
     "execution_count": 80,
     "metadata": {},
     "output_type": "execute_result"
    },
    {
     "data": {
      "image/png": "[encoded data removed]",
      "text/plain": [
       "<Figure size 432x288 with 1 Axes>"
      ]
     },
     "metadata": {
      "needs_background": "light"
     },
     "output_type": "display_data"
    }
   ],
   "source": [
    "#гистограмма\n",
    "\n",
    "basic_data_1['days_exposition'].hist(bins= 8, range = (0, 1600))"
   ]
  },
  {
   "cell_type": "code",
   "execution_count": 81,
   "metadata": {},
   "outputs": [],
   "source": [
    "#Уберите редкие и выбивающиеся значения. Опишите, какие особенности обнаружили.\n",
    "#работаем по логике - определяем параметры, влияющие на стоимость жилья. По ним проведем чистку  (+ проверим стоимость М2)и дальше будем их анализировать\n",
    "#пусть это будут:(1) общая площадь,(2)число комнат, (3)удалённости от центра, (4) стоимость М2, (5.6.7)даты размещения: день недели, месяц и год.\n"
   ]
  },
  {
   "cell_type": "code",
   "execution_count": 82,
   "metadata": {},
   "outputs": [],
   "source": [
    "basic_data_2 = basic_data_1.copy()\n",
    "#делаем копию нашего \n",
    "#основного рабочего дата фрейма (чтобы оставить его без измнений)"
   ]
  },
  {
   "cell_type": "code",
   "execution_count": 83,
   "metadata": {},
   "outputs": [],
   "source": [
    "# пишем общую функцию, которую потом будем применять к каждому из параметров\n",
    "\n",
    "def clean_data (KPI):\n",
    "    data_clean_data = [basic_data_2[KPI].min(), basic_data_2[KPI].max(), basic_data_2[KPI].mean(), basic_data_2[KPI].median()]\n",
    "    #находим значения минимальное, максимальное, медиану и среднее\n",
    "    columns_clean_data =['min','max','mean','median'] \n",
    "    clean_data= pd.DataFrame(data = data_clean_data, index = columns_clean_data)\n",
    "    #формируем дата фрейм по найденым значениям\n",
    "    histo_argument = basic_data_2[KPI].describe().T\n",
    "    #находим квартили \n",
    "    q1 = histo_argument['25%']\n",
    "    q3 = histo_argument['75%']\n",
    "    iqr = q3 - q1\n",
    "    #iqr = интерквартильный размах.Интервал значений признака, содержащий центральные 50% наблюдений выборки, т.е. интервал между 25-м и 75-м процентилями.\n",
    "    query_data = basic_data_2.query('{} <= (@q3 + 3*@iqr)'.format(KPI))\n",
    "    query_data[KPI].plot(kind= 'hist', bins = 50)\n",
    "    plt.show()\n",
    "    query_data.boxplot(column = KPI, figsize = (15,5), vert = False, widths = 0.75, showmeans = True)\n",
    "    plt.show()"
   ]
  },
  {
   "cell_type": "code",
   "execution_count": 84,
   "metadata": {},
   "outputs": [
    {
     "data": {
      "image/png": "[encoded data removed]",
      "text/plain": [
       "<Figure size 432x288 with 1 Axes>"
      ]
     },
     "metadata": {
      "needs_background": "light"
     },
     "output_type": "display_data"
    },
    {
     "data": {
      "image/png": "[encoded data removed]",
      "text/plain": [
       "<Figure size 1080x360 with 1 Axes>"
      ]
     },
     "metadata": {
      "needs_background": "light"
     },
     "output_type": "display_data"
    }
   ],
   "source": [
    "#(1) общая площадь\n",
    "clean_data('total_area')\n",
    "#видим,что большая часть значений лежит в промежутке от 40 до 70 метров, при этом, наблюдаем выбросы - квартиры с очень большой площадью (свыше 120 м) и очень маленькой (около 0)"
   ]
  },
  {
   "cell_type": "code",
   "execution_count": 85,
   "metadata": {},
   "outputs": [
    {
     "data": {
      "image/png": "[encoded data removed]",
      "text/plain": [
       "<Figure size 432x288 with 1 Axes>"
      ]
     },
     "metadata": {
      "needs_background": "light"
     },
     "output_type": "display_data"
    },
    {
     "data": {
      "image/png": "[encoded data removed]",
      "text/plain": [
       "<Figure size 1080x360 with 1 Axes>"
      ]
     },
     "metadata": {
      "needs_background": "light"
     },
     "output_type": "display_data"
    }
   ],
   "source": [
    "#(2)число комнат\n",
    "clean_data('rooms')\n",
    "#видим,что большая часть значений-1 и 2-х комнатные квартиры, далее трешки, 4-5 комнатных значительно меньше,при этом, наблюдаем выбросы - квартиры с большим числом комнат - более 6"
   ]
  },
  {
   "cell_type": "code",
   "execution_count": 86,
   "metadata": {},
   "outputs": [
    {
     "data": {
      "image/png": "[encoded data removed]",
      "text/plain": [
       "<Figure size 432x288 with 1 Axes>"
      ]
     },
     "metadata": {
      "needs_background": "light"
     },
     "output_type": "display_data"
    },
    {
     "data": {
      "image/png": "[encoded data removed]",
      "text/plain": [
       "<Figure size 1080x360 with 1 Axes>"
      ]
     },
     "metadata": {
      "needs_background": "light"
     },
     "output_type": "display_data"
    }
   ],
   "source": [
    "#(3)удалённости от центра\n",
    "clean_data('cityCenters_nearest_upd')\n",
    "#видим,что большая часть значений лежит в промежутке удаленности от центра 11-30-км,при этом, наблюдаем выбросы - наблюдаем выбросы - удаленность свыше 60 км"
   ]
  },
  {
   "cell_type": "code",
   "execution_count": 87,
   "metadata": {},
   "outputs": [
    {
     "data": {
      "image/png": "[encoded data removed]",
      "text/plain": [
       "<Figure size 432x288 with 1 Axes>"
      ]
     },
     "metadata": {
      "needs_background": "light"
     },
     "output_type": "display_data"
    },
    {
     "data": {
      "image/png": "[encoded data removed]",
      "text/plain": [
       "<Figure size 1080x360 with 1 Axes>"
      ]
     },
     "metadata": {
      "needs_background": "light"
     },
     "output_type": "display_data"
    }
   ],
   "source": [
    "#(4)стоимость М2\n",
    "clean_data('price_per_m2')\n",
    "#видим,что большая часть значений лежит в промежутке от 80 до 110,при этом, наблюдаем выбросы - очень низкая или нулевая цена, что подозрительно и слишком высокая, свыше 1.6 млн."
   ]
  },
  {
   "cell_type": "code",
   "execution_count": 88,
   "metadata": {
    "scrolled": true
   },
   "outputs": [
    {
     "data": {
      "image/png": "[encoded data removed]",
      "text/plain": [
       "<Figure size 432x288 with 1 Axes>"
      ]
     },
     "metadata": {
      "needs_background": "light"
     },
     "output_type": "display_data"
    },
    {
     "data": {
      "image/png": "[encoded data removed]",
      "text/plain": [
       "<Figure size 1080x360 with 1 Axes>"
      ]
     },
     "metadata": {
      "needs_background": "light"
     },
     "output_type": "display_data"
    }
   ],
   "source": [
    "#(5)даты размещения:день недели\n",
    "clean_data('weekday')\n",
    "#основные дни размещения объявления понедельник-пятница, максимально \"популярный\" четверг"
   ]
  },
  {
   "cell_type": "code",
   "execution_count": 89,
   "metadata": {},
   "outputs": [
    {
     "data": {
      "image/png": "[encoded data removed]",
      "text/plain": [
       "<Figure size 432x288 with 1 Axes>"
      ]
     },
     "metadata": {
      "needs_background": "light"
     },
     "output_type": "display_data"
    },
    {
     "data": {
      "image/png": "[encoded data removed]",
      "text/plain": [
       "<Figure size 1080x360 with 1 Axes>"
      ]
     },
     "metadata": {
      "needs_background": "light"
     },
     "output_type": "display_data"
    }
   ],
   "source": [
    "#(5.6.7)даты размещения:месяц\n",
    "clean_data('month')\n",
    "#основные месяцы размещения объявления февраль-апрель (со спадом в летние месяцы) и далее, наирают сезонность с сентября, достигая осеннего пика в ноябре, снижаясь в декабре, максимально \"популярный\" февраль"
   ]
  },
  {
   "cell_type": "code",
   "execution_count": 90,
   "metadata": {},
   "outputs": [
    {
     "data": {
      "image/png": "[encoded data removed]",
      "text/plain": [
       "<Figure size 432x288 with 1 Axes>"
      ]
     },
     "metadata": {
      "needs_background": "light"
     },
     "output_type": "display_data"
    },
    {
     "data": {
      "image/png": "[encoded data removed]",
      "text/plain": [
       "<Figure size 1080x360 with 1 Axes>"
      ]
     },
     "metadata": {
      "needs_background": "light"
     },
     "output_type": "display_data"
    }
   ],
   "source": [
    "#(5.6.7)даты размещения:год\n",
    "clean_data('year')\n",
    "#основные годы размещения 2019, далее 2018\n",
    "#выброс 1970 год (видимо, ошибка или у кого-то хорошее чувство юмора :))"
   ]
  },
  {
   "cell_type": "code",
   "execution_count": 91,
   "metadata": {},
   "outputs": [
    {
     "data": {
      "image/png": "[encoded data removed]",
      "text/plain": [
       "<Figure size 432x288 with 1 Axes>"
      ]
     },
     "metadata": {
      "needs_background": "light"
     },
     "output_type": "display_data"
    },
    {
     "data": {
      "image/png": "[encoded data removed]",
      "text/plain": [
       "<Figure size 1080x360 with 1 Axes>"
      ]
     },
     "metadata": {
      "needs_background": "light"
     },
     "output_type": "display_data"
    },
    {
     "data": {
      "image/png": "[encoded data removed]",
      "text/plain": [
       "<Figure size 1080x360 with 1 Axes>"
      ]
     },
     "metadata": {
      "needs_background": "light"
     },
     "output_type": "display_data"
    }
   ],
   "source": [
    "#Изучите, зависит ли цена от квадратного метра\n",
    "basic_data_2['total_area'].plot(kind= 'hist', bins = 150)\n",
    "plt.show()\n",
    "basic_data_2.boxplot(column = 'total_area', figsize = (15,5), vert = False, widths = 0.75, showmeans = True)\n",
    "plt.show()\n",
    "basic_data_2.plot(x='total_area', y='last_price', style='o', grid=True, figsize=(15, 5))\n",
    "plt.show()\n",
    "\n",
    "#отсуствует прямая зависимость площадь-цена. Мы не видим на графике такой явной закономерности\n",
    "#в большей степени она действует для квартир с площадью до 100м2"
   ]
  },
  {
   "cell_type": "code",
   "execution_count": 92,
   "metadata": {},
   "outputs": [
    {
     "data": {
      "text/html": [
       "<style  type=\"text/css\" >\n",
       "</style><table id=\"T_2fbab35e_845a_11ec_a625_02420a3976a1\" ><thead>    <tr>        <th class=\"blank level0\" ></th>        <th class=\"col_heading level0 col0\" >last_price</th>    </tr>    <tr>        <th class=\"index_name level0\" >rooms</th>        <th class=\"blank\" ></th>    </tr></thead><tbody>\n",
       "                <tr>\n",
       "                        <th id=\"T_2fbab35e_845a_11ec_a625_02420a3976a1level0_row0\" class=\"row_heading level0 row0\" >1</th>\n",
       "                        <td id=\"T_2fbab35e_845a_11ec_a625_02420a3976a1row0_col0\" class=\"data row0 col0\" >3743711.107593</td>\n",
       "            </tr>\n",
       "            <tr>\n",
       "                        <th id=\"T_2fbab35e_845a_11ec_a625_02420a3976a1level0_row1\" class=\"row_heading level0 row1\" >2</th>\n",
       "                        <td id=\"T_2fbab35e_845a_11ec_a625_02420a3976a1row1_col0\" class=\"data row1 col0\" >5591604.784131</td>\n",
       "            </tr>\n",
       "            <tr>\n",
       "                        <th id=\"T_2fbab35e_845a_11ec_a625_02420a3976a1level0_row2\" class=\"row_heading level0 row2\" >3</th>\n",
       "                        <td id=\"T_2fbab35e_845a_11ec_a625_02420a3976a1row2_col0\" class=\"data row2 col0\" >8179118.539216</td>\n",
       "            </tr>\n",
       "            <tr>\n",
       "                        <th id=\"T_2fbab35e_845a_11ec_a625_02420a3976a1level0_row3\" class=\"row_heading level0 row3\" >4</th>\n",
       "                        <td id=\"T_2fbab35e_845a_11ec_a625_02420a3976a1row3_col0\" class=\"data row3 col0\" >13423497.184746</td>\n",
       "            </tr>\n",
       "            <tr>\n",
       "                        <th id=\"T_2fbab35e_845a_11ec_a625_02420a3976a1level0_row4\" class=\"row_heading level0 row4\" >5</th>\n",
       "                        <td id=\"T_2fbab35e_845a_11ec_a625_02420a3976a1row4_col0\" class=\"data row4 col0\" >23762082.092025</td>\n",
       "            </tr>\n",
       "            <tr>\n",
       "                        <th id=\"T_2fbab35e_845a_11ec_a625_02420a3976a1level0_row5\" class=\"row_heading level0 row5\" >11</th>\n",
       "                        <td id=\"T_2fbab35e_845a_11ec_a625_02420a3976a1row5_col0\" class=\"data row5 col0\" >25250000.000000</td>\n",
       "            </tr>\n",
       "            <tr>\n",
       "                        <th id=\"T_2fbab35e_845a_11ec_a625_02420a3976a1level0_row6\" class=\"row_heading level0 row6\" >10</th>\n",
       "                        <td id=\"T_2fbab35e_845a_11ec_a625_02420a3976a1row6_col0\" class=\"data row6 col0\" >26166666.666667</td>\n",
       "            </tr>\n",
       "            <tr>\n",
       "                        <th id=\"T_2fbab35e_845a_11ec_a625_02420a3976a1level0_row7\" class=\"row_heading level0 row7\" >14</th>\n",
       "                        <td id=\"T_2fbab35e_845a_11ec_a625_02420a3976a1row7_col0\" class=\"data row7 col0\" >26829500.000000</td>\n",
       "            </tr>\n",
       "            <tr>\n",
       "                        <th id=\"T_2fbab35e_845a_11ec_a625_02420a3976a1level0_row8\" class=\"row_heading level0 row8\" >16</th>\n",
       "                        <td id=\"T_2fbab35e_845a_11ec_a625_02420a3976a1row8_col0\" class=\"data row8 col0\" >28500000.000000</td>\n",
       "            </tr>\n",
       "            <tr>\n",
       "                        <th id=\"T_2fbab35e_845a_11ec_a625_02420a3976a1level0_row9\" class=\"row_heading level0 row9\" >6</th>\n",
       "                        <td id=\"T_2fbab35e_845a_11ec_a625_02420a3976a1row9_col0\" class=\"data row9 col0\" >31709751.657143</td>\n",
       "            </tr>\n",
       "            <tr>\n",
       "                        <th id=\"T_2fbab35e_845a_11ec_a625_02420a3976a1level0_row10\" class=\"row_heading level0 row10\" >19</th>\n",
       "                        <td id=\"T_2fbab35e_845a_11ec_a625_02420a3976a1row10_col0\" class=\"data row10 col0\" >32250000.000000</td>\n",
       "            </tr>\n",
       "            <tr>\n",
       "                        <th id=\"T_2fbab35e_845a_11ec_a625_02420a3976a1level0_row11\" class=\"row_heading level0 row11\" >9</th>\n",
       "                        <td id=\"T_2fbab35e_845a_11ec_a625_02420a3976a1row11_col0\" class=\"data row11 col0\" >34152362.500000</td>\n",
       "            </tr>\n",
       "            <tr>\n",
       "                        <th id=\"T_2fbab35e_845a_11ec_a625_02420a3976a1level0_row12\" class=\"row_heading level0 row12\" >8</th>\n",
       "                        <td id=\"T_2fbab35e_845a_11ec_a625_02420a3976a1row12_col0\" class=\"data row12 col0\" >50224166.666667</td>\n",
       "            </tr>\n",
       "            <tr>\n",
       "                        <th id=\"T_2fbab35e_845a_11ec_a625_02420a3976a1level0_row13\" class=\"row_heading level0 row13\" >7</th>\n",
       "                        <td id=\"T_2fbab35e_845a_11ec_a625_02420a3976a1row13_col0\" class=\"data row13 col0\" >51470069.084746</td>\n",
       "            </tr>\n",
       "            <tr>\n",
       "                        <th id=\"T_2fbab35e_845a_11ec_a625_02420a3976a1level0_row14\" class=\"row_heading level0 row14\" >15</th>\n",
       "                        <td id=\"T_2fbab35e_845a_11ec_a625_02420a3976a1row14_col0\" class=\"data row14 col0\" >65000000.000000</td>\n",
       "            </tr>\n",
       "            <tr>\n",
       "                        <th id=\"T_2fbab35e_845a_11ec_a625_02420a3976a1level0_row15\" class=\"row_heading level0 row15\" >12</th>\n",
       "                        <td id=\"T_2fbab35e_845a_11ec_a625_02420a3976a1row15_col0\" class=\"data row15 col0\" >420000000.000000</td>\n",
       "            </tr>\n",
       "    </tbody></table>"
      ],
      "text/plain": [
       "<pandas.io.formats.style.Styler at 0x7f60eb6f6c90>"
      ]
     },
     "execution_count": 92,
     "metadata": {},
     "output_type": "execute_result"
    }
   ],
   "source": [
    "#Изучите, зависит ли цена от числа комнат\n",
    "\n",
    "mean_rooms=basic_data_2.pivot_table(index = 'rooms', values = 'last_price', aggfunc ='mean').sort_values(by = 'last_price')\n",
    "\n",
    "mean_rooms.style.format('{:2f}')\n",
    "\n",
    "#однозначную зависимость категории - чем больше комнат, тнм больше цена подтвердить в полной мере нельзя. Однако, такая закономерность наблюдается для квартир с количеством комнат от 1 до "
   ]
  },
  {
   "cell_type": "code",
   "execution_count": 93,
   "metadata": {},
   "outputs": [
    {
     "data": {
      "text/html": [
       "<style  type=\"text/css\" >\n",
       "</style><table id=\"T_2fcdabee_845a_11ec_a625_02420a3976a1\" ><thead>    <tr>        <th class=\"blank level0\" ></th>        <th class=\"col_heading level0 col0\" >last_price</th>    </tr>    <tr>        <th class=\"index_name level0\" >locality_type</th>        <th class=\"blank\" ></th>    </tr></thead><tbody>\n",
       "                <tr>\n",
       "                        <th id=\"T_2fcdabee_845a_11ec_a625_02420a3976a1level0_row0\" class=\"row_heading level0 row0\" >Область</th>\n",
       "                        <td id=\"T_2fcdabee_845a_11ec_a625_02420a3976a1row0_col0\" class=\"data row0 col0\" >3563163.372438</td>\n",
       "            </tr>\n",
       "            <tr>\n",
       "                        <th id=\"T_2fcdabee_845a_11ec_a625_02420a3976a1level0_row1\" class=\"row_heading level0 row1\" >Перифирия</th>\n",
       "                        <td id=\"T_2fcdabee_845a_11ec_a625_02420a3976a1row1_col0\" class=\"data row1 col0\" >5783537.285293</td>\n",
       "            </tr>\n",
       "            <tr>\n",
       "                        <th id=\"T_2fcdabee_845a_11ec_a625_02420a3976a1level0_row2\" class=\"row_heading level0 row2\" >Жилой район</th>\n",
       "                        <td id=\"T_2fcdabee_845a_11ec_a625_02420a3976a1row2_col0\" class=\"data row2 col0\" >11276417.062626</td>\n",
       "            </tr>\n",
       "            <tr>\n",
       "                        <th id=\"T_2fcdabee_845a_11ec_a625_02420a3976a1level0_row3\" class=\"row_heading level0 row3\" >Центр</th>\n",
       "                        <td id=\"T_2fcdabee_845a_11ec_a625_02420a3976a1row3_col0\" class=\"data row3 col0\" >15010672.186013</td>\n",
       "            </tr>\n",
       "    </tbody></table>"
      ],
      "text/plain": [
       "<pandas.io.formats.style.Styler at 0x7f60ea432790>"
      ]
     },
     "execution_count": 93,
     "metadata": {},
     "output_type": "execute_result"
    }
   ],
   "source": [
    "#Изучите, зависит ли цена от удалённости от центра\n",
    "mean_cityCenters_nearest=basic_data_2.pivot_table(index = 'locality_type', values = 'last_price', aggfunc ='mean').sort_values(by = 'last_price')\n",
    "\n",
    "mean_cityCenters_nearest.style.format('{:2f}')\n",
    "\n",
    "#видим прямую зависимость цены от удаленности от центра. Чем квартира ближе к центру, тем она дороже."
   ]
  },
  {
   "cell_type": "code",
   "execution_count": 94,
   "metadata": {},
   "outputs": [
    {
     "data": {
      "text/html": [
       "<style  type=\"text/css\" >\n",
       "</style><table id=\"T_301b93ea_845a_11ec_a625_02420a3976a1\" ><thead>    <tr>        <th class=\"blank level0\" ></th>        <th class=\"col_heading level0 col0\" >last_price</th>    </tr>    <tr>        <th class=\"index_name level0\" >floor_type</th>        <th class=\"blank\" ></th>    </tr></thead><tbody>\n",
       "                <tr>\n",
       "                        <th id=\"T_301b93ea_845a_11ec_a625_02420a3976a1level0_row0\" class=\"row_heading level0 row0\" >первый</th>\n",
       "                        <td id=\"T_301b93ea_845a_11ec_a625_02420a3976a1row0_col0\" class=\"data row0 col0\" >4510965.564276</td>\n",
       "            </tr>\n",
       "            <tr>\n",
       "                        <th id=\"T_301b93ea_845a_11ec_a625_02420a3976a1level0_row1\" class=\"row_heading level0 row1\" >другой</th>\n",
       "                        <td id=\"T_301b93ea_845a_11ec_a625_02420a3976a1row1_col0\" class=\"data row1 col0\" >6707016.958907</td>\n",
       "            </tr>\n",
       "            <tr>\n",
       "                        <th id=\"T_301b93ea_845a_11ec_a625_02420a3976a1level0_row2\" class=\"row_heading level0 row2\" >последний</th>\n",
       "                        <td id=\"T_301b93ea_845a_11ec_a625_02420a3976a1row2_col0\" class=\"data row2 col0\" >7374690.069474</td>\n",
       "            </tr>\n",
       "    </tbody></table>"
      ],
      "text/plain": [
       "<pandas.io.formats.style.Styler at 0x7f60eb5700d0>"
      ]
     },
     "execution_count": 94,
     "metadata": {},
     "output_type": "execute_result"
    }
   ],
   "source": [
    "#Изучите зависимость цены от того, на каком этаже расположена квартира: первом, последнем или другом.\n",
    "\n",
    "mean_floor_type=basic_data_2.pivot_table(index = 'floor_type', values = 'last_price', aggfunc ='mean').sort_values(by = 'last_price')\n",
    "\n",
    "mean_floor_type.style.format('{:2f}')\n",
    "#видим прямую зависимость цены от этажности. Самый дорогой-последний этаж, дешевый 1."
   ]
  },
  {
   "cell_type": "code",
   "execution_count": 95,
   "metadata": {},
   "outputs": [
    {
     "data": {
      "text/html": [
       "<style  type=\"text/css\" >\n",
       "</style><table id=\"T_3078f7a6_845a_11ec_a625_02420a3976a1\" ><thead>    <tr>        <th class=\"blank level0\" ></th>        <th class=\"col_heading level0 col0\" >last_price</th>    </tr>    <tr>        <th class=\"index_name level0\" >weekday</th>        <th class=\"blank\" ></th>    </tr></thead><tbody>\n",
       "                <tr>\n",
       "                        <th id=\"T_3078f7a6_845a_11ec_a625_02420a3976a1level0_row0\" class=\"row_heading level0 row0\" >6</th>\n",
       "                        <td id=\"T_3078f7a6_845a_11ec_a625_02420a3976a1row0_col0\" class=\"data row0 col0\" >6269467.017773</td>\n",
       "            </tr>\n",
       "            <tr>\n",
       "                        <th id=\"T_3078f7a6_845a_11ec_a625_02420a3976a1level0_row1\" class=\"row_heading level0 row1\" >4</th>\n",
       "                        <td id=\"T_3078f7a6_845a_11ec_a625_02420a3976a1row1_col0\" class=\"data row1 col0\" >6414308.839241</td>\n",
       "            </tr>\n",
       "            <tr>\n",
       "                        <th id=\"T_3078f7a6_845a_11ec_a625_02420a3976a1level0_row2\" class=\"row_heading level0 row2\" >1</th>\n",
       "                        <td id=\"T_3078f7a6_845a_11ec_a625_02420a3976a1row2_col0\" class=\"data row2 col0\" >6424563.646577</td>\n",
       "            </tr>\n",
       "            <tr>\n",
       "                        <th id=\"T_3078f7a6_845a_11ec_a625_02420a3976a1level0_row3\" class=\"row_heading level0 row3\" >3</th>\n",
       "                        <td id=\"T_3078f7a6_845a_11ec_a625_02420a3976a1row3_col0\" class=\"data row3 col0\" >6425821.458689</td>\n",
       "            </tr>\n",
       "            <tr>\n",
       "                        <th id=\"T_3078f7a6_845a_11ec_a625_02420a3976a1level0_row4\" class=\"row_heading level0 row4\" >0</th>\n",
       "                        <td id=\"T_3078f7a6_845a_11ec_a625_02420a3976a1row4_col0\" class=\"data row4 col0\" >6533852.112503</td>\n",
       "            </tr>\n",
       "            <tr>\n",
       "                        <th id=\"T_3078f7a6_845a_11ec_a625_02420a3976a1level0_row5\" class=\"row_heading level0 row5\" >2</th>\n",
       "                        <td id=\"T_3078f7a6_845a_11ec_a625_02420a3976a1row5_col0\" class=\"data row5 col0\" >6654425.834432</td>\n",
       "            </tr>\n",
       "            <tr>\n",
       "                        <th id=\"T_3078f7a6_845a_11ec_a625_02420a3976a1level0_row6\" class=\"row_heading level0 row6\" >5</th>\n",
       "                        <td id=\"T_3078f7a6_845a_11ec_a625_02420a3976a1row6_col0\" class=\"data row6 col0\" >7002825.069127</td>\n",
       "            </tr>\n",
       "    </tbody></table>"
      ],
      "text/plain": [
       "<pandas.io.formats.style.Styler at 0x7f60eb5709d0>"
      ]
     },
     "execution_count": 95,
     "metadata": {},
     "output_type": "execute_result"
    }
   ],
   "source": [
    "#Также изучите зависимость от даты размещения: дня недели\n",
    "\n",
    "mean_weekday=basic_data_2.pivot_table(index = 'weekday', values = 'last_price', aggfunc ='mean').sort_values(by = 'last_price')\n",
    "\n",
    "mean_weekday.style.format('{:2f}')\n",
    "\n",
    "#прямая зависимость отсутствует"
   ]
  },
  {
   "cell_type": "code",
   "execution_count": 96,
   "metadata": {},
   "outputs": [
    {
     "data": {
      "text/html": [
       "<style  type=\"text/css\" >\n",
       "</style><table id=\"T_3105483c_845a_11ec_a625_02420a3976a1\" ><thead>    <tr>        <th class=\"blank level0\" ></th>        <th class=\"col_heading level0 col0\" >last_price</th>    </tr>    <tr>        <th class=\"index_name level0\" >month</th>        <th class=\"blank\" ></th>    </tr></thead><tbody>\n",
       "                <tr>\n",
       "                        <th id=\"T_3105483c_845a_11ec_a625_02420a3976a1level0_row0\" class=\"row_heading level0 row0\" >1</th>\n",
       "                        <td id=\"T_3105483c_845a_11ec_a625_02420a3976a1row0_col0\" class=\"data row0 col0\" >5919115.658754</td>\n",
       "            </tr>\n",
       "            <tr>\n",
       "                        <th id=\"T_3105483c_845a_11ec_a625_02420a3976a1level0_row1\" class=\"row_heading level0 row1\" >10</th>\n",
       "                        <td id=\"T_3105483c_845a_11ec_a625_02420a3976a1row1_col0\" class=\"data row1 col0\" >6259981.218380</td>\n",
       "            </tr>\n",
       "            <tr>\n",
       "                        <th id=\"T_3105483c_845a_11ec_a625_02420a3976a1level0_row2\" class=\"row_heading level0 row2\" >6</th>\n",
       "                        <td id=\"T_3105483c_845a_11ec_a625_02420a3976a1row2_col0\" class=\"data row2 col0\" >6318299.621868</td>\n",
       "            </tr>\n",
       "            <tr>\n",
       "                        <th id=\"T_3105483c_845a_11ec_a625_02420a3976a1level0_row3\" class=\"row_heading level0 row3\" >3</th>\n",
       "                        <td id=\"T_3105483c_845a_11ec_a625_02420a3976a1row3_col0\" class=\"data row3 col0\" >6383525.925292</td>\n",
       "            </tr>\n",
       "            <tr>\n",
       "                        <th id=\"T_3105483c_845a_11ec_a625_02420a3976a1level0_row4\" class=\"row_heading level0 row4\" >8</th>\n",
       "                        <td id=\"T_3105483c_845a_11ec_a625_02420a3976a1row4_col0\" class=\"data row4 col0\" >6393822.580383</td>\n",
       "            </tr>\n",
       "            <tr>\n",
       "                        <th id=\"T_3105483c_845a_11ec_a625_02420a3976a1level0_row5\" class=\"row_heading level0 row5\" >2</th>\n",
       "                        <td id=\"T_3105483c_845a_11ec_a625_02420a3976a1row5_col0\" class=\"data row5 col0\" >6492734.661709</td>\n",
       "            </tr>\n",
       "            <tr>\n",
       "                        <th id=\"T_3105483c_845a_11ec_a625_02420a3976a1level0_row6\" class=\"row_heading level0 row6\" >11</th>\n",
       "                        <td id=\"T_3105483c_845a_11ec_a625_02420a3976a1row6_col0\" class=\"data row6 col0\" >6502932.923077</td>\n",
       "            </tr>\n",
       "            <tr>\n",
       "                        <th id=\"T_3105483c_845a_11ec_a625_02420a3976a1level0_row7\" class=\"row_heading level0 row7\" >5</th>\n",
       "                        <td id=\"T_3105483c_845a_11ec_a625_02420a3976a1row7_col0\" class=\"data row7 col0\" >6621212.090837</td>\n",
       "            </tr>\n",
       "            <tr>\n",
       "                        <th id=\"T_3105483c_845a_11ec_a625_02420a3976a1level0_row8\" class=\"row_heading level0 row8\" >7</th>\n",
       "                        <td id=\"T_3105483c_845a_11ec_a625_02420a3976a1row8_col0\" class=\"data row8 col0\" >6638658.306317</td>\n",
       "            </tr>\n",
       "            <tr>\n",
       "                        <th id=\"T_3105483c_845a_11ec_a625_02420a3976a1level0_row9\" class=\"row_heading level0 row9\" >4</th>\n",
       "                        <td id=\"T_3105483c_845a_11ec_a625_02420a3976a1row9_col0\" class=\"data row9 col0\" >6756476.175476</td>\n",
       "            </tr>\n",
       "            <tr>\n",
       "                        <th id=\"T_3105483c_845a_11ec_a625_02420a3976a1level0_row10\" class=\"row_heading level0 row10\" >9</th>\n",
       "                        <td id=\"T_3105483c_845a_11ec_a625_02420a3976a1row10_col0\" class=\"data row10 col0\" >6876050.420542</td>\n",
       "            </tr>\n",
       "            <tr>\n",
       "                        <th id=\"T_3105483c_845a_11ec_a625_02420a3976a1level0_row11\" class=\"row_heading level0 row11\" >12</th>\n",
       "                        <td id=\"T_3105483c_845a_11ec_a625_02420a3976a1row11_col0\" class=\"data row11 col0\" >7051978.647601</td>\n",
       "            </tr>\n",
       "    </tbody></table>"
      ],
      "text/plain": [
       "<pandas.io.formats.style.Styler at 0x7f60ea423790>"
      ]
     },
     "execution_count": 96,
     "metadata": {},
     "output_type": "execute_result"
    }
   ],
   "source": [
    "#Также изучите зависимость от даты размещения: месяца\n",
    "mean_month=basic_data_2.pivot_table(index = 'month', values = 'last_price', aggfunc ='mean').sort_values(by = 'last_price')\n",
    "\n",
    "mean_month.style.format('{:2f}')\n",
    "\n",
    "#прямая зависимость от порядкового номера месяца отсутствует"
   ]
  },
  {
   "cell_type": "code",
   "execution_count": 97,
   "metadata": {},
   "outputs": [
    {
     "data": {
      "text/html": [
       "<style  type=\"text/css\" >\n",
       "</style><table id=\"T_315f0d5e_845a_11ec_a625_02420a3976a1\" ><thead>    <tr>        <th class=\"blank level0\" ></th>        <th class=\"col_heading level0 col0\" >last_price</th>    </tr>    <tr>        <th class=\"index_name level0\" >year</th>        <th class=\"blank\" ></th>    </tr></thead><tbody>\n",
       "                <tr>\n",
       "                        <th id=\"T_315f0d5e_845a_11ec_a625_02420a3976a1level0_row0\" class=\"row_heading level0 row0\" >1970</th>\n",
       "                        <td id=\"T_315f0d5e_845a_11ec_a625_02420a3976a1row0_col0\" class=\"data row0 col0\" >1.000000</td>\n",
       "            </tr>\n",
       "            <tr>\n",
       "                        <th id=\"T_315f0d5e_845a_11ec_a625_02420a3976a1level0_row1\" class=\"row_heading level0 row1\" >2018</th>\n",
       "                        <td id=\"T_315f0d5e_845a_11ec_a625_02420a3976a1row1_col0\" class=\"data row1 col0\" >5970040.515690</td>\n",
       "            </tr>\n",
       "            <tr>\n",
       "                        <th id=\"T_315f0d5e_845a_11ec_a625_02420a3976a1level0_row2\" class=\"row_heading level0 row2\" >2017</th>\n",
       "                        <td id=\"T_315f0d5e_845a_11ec_a625_02420a3976a1row2_col0\" class=\"data row2 col0\" >6628314.252997</td>\n",
       "            </tr>\n",
       "            <tr>\n",
       "                        <th id=\"T_315f0d5e_845a_11ec_a625_02420a3976a1level0_row3\" class=\"row_heading level0 row3\" >2019</th>\n",
       "                        <td id=\"T_315f0d5e_845a_11ec_a625_02420a3976a1row3_col0\" class=\"data row3 col0\" >6804000.066038</td>\n",
       "            </tr>\n",
       "            <tr>\n",
       "                        <th id=\"T_315f0d5e_845a_11ec_a625_02420a3976a1level0_row4\" class=\"row_heading level0 row4\" >2016</th>\n",
       "                        <td id=\"T_315f0d5e_845a_11ec_a625_02420a3976a1row4_col0\" class=\"data row4 col0\" >6834080.474271</td>\n",
       "            </tr>\n",
       "            <tr>\n",
       "                        <th id=\"T_315f0d5e_845a_11ec_a625_02420a3976a1level0_row5\" class=\"row_heading level0 row5\" >2015</th>\n",
       "                        <td id=\"T_315f0d5e_845a_11ec_a625_02420a3976a1row5_col0\" class=\"data row5 col0\" >8588429.680135</td>\n",
       "            </tr>\n",
       "            <tr>\n",
       "                        <th id=\"T_315f0d5e_845a_11ec_a625_02420a3976a1level0_row6\" class=\"row_heading level0 row6\" >2014</th>\n",
       "                        <td id=\"T_315f0d5e_845a_11ec_a625_02420a3976a1row6_col0\" class=\"data row6 col0\" >12087135.941606</td>\n",
       "            </tr>\n",
       "    </tbody></table>"
      ],
      "text/plain": [
       "<pandas.io.formats.style.Styler at 0x7f60eb413c90>"
      ]
     },
     "execution_count": 97,
     "metadata": {},
     "output_type": "execute_result"
    }
   ],
   "source": [
    "#Также изучите зависимость от даты размещения: года.\n",
    "\n",
    "mean_year=basic_data_2.pivot_table(index = 'year', values = 'last_price', aggfunc ='mean').sort_values(by = 'last_price')\n",
    "\n",
    "mean_year.style.format('{:2f}')\n",
    "#какой-либо логичной закономерности зависимости от года продажи установить нельзя"
   ]
  },
  {
   "cell_type": "code",
   "execution_count": 98,
   "metadata": {},
   "outputs": [],
   "source": [
    "#Какие факторы больше всего влияют на стоимость квартиры?\n",
    "#можно выделить две группы факторов: факторы инфраструктуры. В данной группе факторов основной и сильновлияющий фактор - удаленность от центра\n",
    "#вторая группа факторов - факторы, описывающий качественные параметры квартиры. Из них основные влияющие: площадь, этажность. Для кавртир с количеством комнат до 3- сохраняется прямое воияние на цену количества комнатю далее, эта зивисимость работает очень выборочно\n",
    "# не влияют на цену период размещения обьявления \n",
    "# самый влящий фактор, при прочих равных - местоположение"
   ]
  },
  {
   "cell_type": "code",
   "execution_count": 99,
   "metadata": {},
   "outputs": [
    {
     "name": "stdout",
     "output_type": "stream",
     "text": [
      "<class 'pandas.core.frame.DataFrame'>\n",
      "RangeIndex: 23699 entries, 0 to 23698\n",
      "Data columns (total 36 columns):\n",
      "total_images               23699 non-null int64\n",
      "last_price                 23699 non-null float64\n",
      "total_area                 23699 non-null float64\n",
      "first_day_exposition       23699 non-null datetime64[ns]\n",
      "rooms                      23699 non-null int64\n",
      "ceiling_height             14619 non-null float64\n",
      "floors_total               23699 non-null int64\n",
      "living_area                21810 non-null float64\n",
      "floor                      23699 non-null int64\n",
      "is_apartment               23699 non-null object\n",
      "studio                     23699 non-null object\n",
      "open_plan                  23699 non-null object\n",
      "kitchen_area               21618 non-null float64\n",
      "balcony                    23699 non-null int64\n",
      "locality_name              23650 non-null object\n",
      "airports_nearest           18236 non-null float64\n",
      "cityCenters_nearest        18259 non-null float64\n",
      "parks_around3000           23699 non-null float64\n",
      "parks_nearest              23699 non-null float64\n",
      "ponds_around3000           23699 non-null float64\n",
      "ponds_nearest              23699 non-null float64\n",
      "days_exposition            23699 non-null float64\n",
      "living_area_upd            23699 non-null float64\n",
      "kitchen_area_upd           23699 non-null float64\n",
      "locality_type              23699 non-null object\n",
      "ceiling_height_upd         23699 non-null float64\n",
      "location                   23699 non-null object\n",
      "airports_nearest_upd       23699 non-null float64\n",
      "cityCenters_nearest_upd    23699 non-null float64\n",
      "price_per_m2               23699 non-null float64\n",
      "weekday                    23699 non-null int64\n",
      "month                      23699 non-null int64\n",
      "year                       23699 non-null int64\n",
      "floor_type                 23699 non-null object\n",
      "correlation_la_ta          21810 non-null float64\n",
      "correlation_ka_ta          21618 non-null float64\n",
      "dtypes: datetime64[ns](1), float64(20), int64(8), object(7)\n",
      "memory usage: 6.5+ MB\n"
     ]
    }
   ],
   "source": [
    "basic_data_1.info()"
   ]
  },
  {
   "cell_type": "code",
   "execution_count": 100,
   "metadata": {},
   "outputs": [
    {
     "data": {
      "text/plain": [
       "Санкт-Петербург      15611\n",
       "посёлок Мурино         495\n",
       "посёлок Шушары         436\n",
       "Всеволожск             392\n",
       "Пушкин                 369\n",
       "Колпино                338\n",
       "посёлок Парголово      323\n",
       "Гатчина                307\n",
       "деревня Кудрово        283\n",
       "Выборг                 237\n",
       "Name: locality_name, dtype: int64"
      ]
     },
     "execution_count": 100,
     "metadata": {},
     "output_type": "execute_result"
    }
   ],
   "source": [
    "basic_data_4 = basic_data_1.copy() #копия основного рабочего дата фрейма, мы не хоитм его менять\n",
    "\n",
    "#10 населенных пукнтов с наибольшим числов объявлений\n",
    "top_10_городов = basic_data_4['locality_name'].value_counts().sort_values(ascending=False).head(10)\n",
    "top_10_городов\n",
    "\n"
   ]
  },
  {
   "cell_type": "markdown",
   "metadata": {},
   "source": [
    "<div style=\"border:solid  green  2px; padding: 20px\"> <h1 style=\"color: green ; margin-bottom:20px\">Комментарий наставника</h1>\n",
    "\n",
    "У тебя отлично получается анализировать сложные данные и находить скрытые зависимости, здорово!)"
   ]
  },
  {
   "cell_type": "code",
   "execution_count": 101,
   "metadata": {},
   "outputs": [
    {
     "ename": "NameError",
     "evalue": "name 'basic_data_5' is not defined",
     "output_type": "error",
     "traceback": [
      "\u001b[0;31m---------------------------------------------------------------------------\u001b[0m",
      "\u001b[0;31mNameError\u001b[0m                                 Traceback (most recent call last)",
      "\u001b[0;32m<ipython-input-101-54b0e1d2547e>\u001b[0m in \u001b[0;36m<module>\u001b[0;34m\u001b[0m\n\u001b[1;32m      5\u001b[0m \u001b[0;34m\u001b[0m\u001b[0m\n\u001b[1;32m      6\u001b[0m \u001b[0;34m\u001b[0m\u001b[0m\n\u001b[0;32m----> 7\u001b[0;31m basic_data_5 = (basic_data_5\n\u001b[0m\u001b[1;32m      8\u001b[0m                   \u001b[0;34m.\u001b[0m\u001b[0mquery\u001b[0m\u001b[0;34m(\u001b[0m\u001b[0;34m'locality_name.isin(@top_10)'\u001b[0m\u001b[0;34m)\u001b[0m\u001b[0;34m\u001b[0m\u001b[0;34m\u001b[0m\u001b[0m\n\u001b[1;32m      9\u001b[0m                   \u001b[0;34m.\u001b[0m\u001b[0mgroupby\u001b[0m\u001b[0;34m(\u001b[0m\u001b[0;34m'locality_name'\u001b[0m\u001b[0;34m)\u001b[0m\u001b[0;34m\u001b[0m\u001b[0;34m\u001b[0m\u001b[0m\n",
      "\u001b[0;31mNameError\u001b[0m: name 'basic_data_5' is not defined"
     ]
    }
   ],
   "source": [
    "#Выберите 10 населённых пунктов с наибольшим числом объявлений. Посчитайте среднюю цену квадратного метра в этих населённых пунктах. Выделите населённые пункты с самой высокой и низкой стоимостью жилья. Эти данные можно найти по имени в столбце 'locality_name'.\n",
    "#копия основного рабочего дата фрейма, мы не хоитм его менять\n",
    "\n",
    "top_10 =['Санкт-Петербург','посёлок Мурино','посёлок Шушары','Всеволожск','Пушкин','Колпино','посёлок Парголово','Гатчина','деревня Кудрово','Выборг']\n",
    "\n",
    "\n",
    "basic_data_5 = (basic_data_5\n",
    "                  .query('locality_name.isin(@top_10)')\n",
    "                  .groupby('locality_name') \n",
    "                  .agg({'price_per_m2':'mean'})\n",
    "                  .reset_index().rename(columns = {'price_per_m2': 'price_per_m2_mean'}) \n",
    ")\n",
    "top_10 = basic_data_5[['locality_name', 'price_per_m2_mean']].sort_values(by = 'price_per_m2_mean', ascending = False)\n",
    "top_10.head(10)\n",
    "    "
   ]
  },
  {
   "cell_type": "code",
   "execution_count": 102,
   "metadata": {},
   "outputs": [
    {
     "name": "stdout",
     "output_type": "stream",
     "text": [
      "<class 'pandas.core.frame.DataFrame'>\n",
      "Int64Index: 15611 entries, 0 to 23697\n",
      "Data columns (total 36 columns):\n",
      "total_images               15611 non-null int64\n",
      "last_price                 15611 non-null float64\n",
      "total_area                 15611 non-null float64\n",
      "first_day_exposition       15611 non-null datetime64[ns]\n",
      "rooms                      15611 non-null int64\n",
      "ceiling_height             10048 non-null float64\n",
      "floors_total               15611 non-null int64\n",
      "living_area                14478 non-null float64\n",
      "floor                      15611 non-null int64\n",
      "is_apartment               15611 non-null object\n",
      "studio                     15611 non-null object\n",
      "open_plan                  15611 non-null object\n",
      "kitchen_area               14342 non-null float64\n",
      "balcony                    15611 non-null int64\n",
      "locality_name              15611 non-null object\n",
      "airports_nearest           15526 non-null float64\n",
      "cityCenters_nearest        15550 non-null float64\n",
      "parks_around3000           15611 non-null float64\n",
      "parks_nearest              15611 non-null float64\n",
      "ponds_around3000           15611 non-null float64\n",
      "ponds_nearest              15611 non-null float64\n",
      "days_exposition            15611 non-null float64\n",
      "living_area_upd            15611 non-null float64\n",
      "kitchen_area_upd           15611 non-null float64\n",
      "locality_type              15611 non-null object\n",
      "ceiling_height_upd         15611 non-null float64\n",
      "location                   15611 non-null object\n",
      "airports_nearest_upd       15611 non-null float64\n",
      "cityCenters_nearest_upd    15611 non-null float64\n",
      "price_per_m2               15611 non-null float64\n",
      "weekday                    15611 non-null int64\n",
      "month                      15611 non-null int64\n",
      "year                       15611 non-null int64\n",
      "floor_type                 15611 non-null object\n",
      "correlation_la_ta          14478 non-null float64\n",
      "correlation_ka_ta          14342 non-null float64\n",
      "dtypes: datetime64[ns](1), float64(20), int64(8), object(7)\n",
      "memory usage: 4.4+ MB\n"
     ]
    }
   ],
   "source": [
    "#Изучите предложения квартир: для каждой квартиры есть информация о расстоянии до центра. \n",
    "#Выделите квартиры в Санкт-Петербурге ('locality_name'). \n",
    "basic_data_6 = basic_data_1.copy()\n",
    "basic_data_6 = basic_data_6[basic_data_6['locality_name'] == 'Санкт-Петербург']\n",
    "basic_data_6.info() #выборка проведена успешно"
   ]
  },
  {
   "cell_type": "code",
   "execution_count": 103,
   "metadata": {},
   "outputs": [
    {
     "data": {
      "text/html": [
       "<div>\n",
       "<style scoped>\n",
       "    .dataframe tbody tr th:only-of-type {\n",
       "        vertical-align: middle;\n",
       "    }\n",
       "\n",
       "    .dataframe tbody tr th {\n",
       "        vertical-align: top;\n",
       "    }\n",
       "\n",
       "    .dataframe thead th {\n",
       "        text-align: right;\n",
       "    }\n",
       "</style>\n",
       "<table border=\"1\" class=\"dataframe\">\n",
       "  <thead>\n",
       "    <tr style=\"text-align: right;\">\n",
       "      <th></th>\n",
       "      <th>price_per_m2</th>\n",
       "    </tr>\n",
       "    <tr>\n",
       "      <th>cityCenters_nearest_upd_km</th>\n",
       "      <th></th>\n",
       "    </tr>\n",
       "  </thead>\n",
       "  <tbody>\n",
       "    <tr>\n",
       "      <td>0.0</td>\n",
       "      <td>245833.530289</td>\n",
       "    </tr>\n",
       "    <tr>\n",
       "      <td>1.0</td>\n",
       "      <td>177327.462388</td>\n",
       "    </tr>\n",
       "    <tr>\n",
       "      <td>2.0</td>\n",
       "      <td>158007.626791</td>\n",
       "    </tr>\n",
       "    <tr>\n",
       "      <td>3.0</td>\n",
       "      <td>121343.968251</td>\n",
       "    </tr>\n",
       "    <tr>\n",
       "      <td>4.0</td>\n",
       "      <td>133339.169054</td>\n",
       "    </tr>\n",
       "    <tr>\n",
       "      <td>5.0</td>\n",
       "      <td>140438.067713</td>\n",
       "    </tr>\n",
       "    <tr>\n",
       "      <td>6.0</td>\n",
       "      <td>150950.512282</td>\n",
       "    </tr>\n",
       "    <tr>\n",
       "      <td>7.0</td>\n",
       "      <td>156275.146563</td>\n",
       "    </tr>\n",
       "    <tr>\n",
       "      <td>8.0</td>\n",
       "      <td>125662.925827</td>\n",
       "    </tr>\n",
       "    <tr>\n",
       "      <td>9.0</td>\n",
       "      <td>113089.111687</td>\n",
       "    </tr>\n",
       "    <tr>\n",
       "      <td>10.0</td>\n",
       "      <td>112732.851393</td>\n",
       "    </tr>\n",
       "    <tr>\n",
       "      <td>11.0</td>\n",
       "      <td>108630.835324</td>\n",
       "    </tr>\n",
       "    <tr>\n",
       "      <td>12.0</td>\n",
       "      <td>107379.026299</td>\n",
       "    </tr>\n",
       "    <tr>\n",
       "      <td>13.0</td>\n",
       "      <td>107907.842753</td>\n",
       "    </tr>\n",
       "    <tr>\n",
       "      <td>14.0</td>\n",
       "      <td>103987.144876</td>\n",
       "    </tr>\n",
       "    <tr>\n",
       "      <td>15.0</td>\n",
       "      <td>104200.692220</td>\n",
       "    </tr>\n",
       "    <tr>\n",
       "      <td>16.0</td>\n",
       "      <td>100458.998102</td>\n",
       "    </tr>\n",
       "    <tr>\n",
       "      <td>17.0</td>\n",
       "      <td>96368.116591</td>\n",
       "    </tr>\n",
       "    <tr>\n",
       "      <td>18.0</td>\n",
       "      <td>96271.349572</td>\n",
       "    </tr>\n",
       "    <tr>\n",
       "      <td>19.0</td>\n",
       "      <td>98703.653988</td>\n",
       "    </tr>\n",
       "    <tr>\n",
       "      <td>20.0</td>\n",
       "      <td>101414.915127</td>\n",
       "    </tr>\n",
       "    <tr>\n",
       "      <td>21.0</td>\n",
       "      <td>94540.814651</td>\n",
       "    </tr>\n",
       "    <tr>\n",
       "      <td>22.0</td>\n",
       "      <td>91330.425050</td>\n",
       "    </tr>\n",
       "    <tr>\n",
       "      <td>23.0</td>\n",
       "      <td>91915.247964</td>\n",
       "    </tr>\n",
       "    <tr>\n",
       "      <td>24.0</td>\n",
       "      <td>84962.459210</td>\n",
       "    </tr>\n",
       "    <tr>\n",
       "      <td>25.0</td>\n",
       "      <td>91531.371618</td>\n",
       "    </tr>\n",
       "    <tr>\n",
       "      <td>26.0</td>\n",
       "      <td>89285.876593</td>\n",
       "    </tr>\n",
       "    <tr>\n",
       "      <td>27.0</td>\n",
       "      <td>132115.709459</td>\n",
       "    </tr>\n",
       "    <tr>\n",
       "      <td>28.0</td>\n",
       "      <td>81161.915320</td>\n",
       "    </tr>\n",
       "    <tr>\n",
       "      <td>29.0</td>\n",
       "      <td>72953.365445</td>\n",
       "    </tr>\n",
       "    <tr>\n",
       "      <td>30.0</td>\n",
       "      <td>156184.021871</td>\n",
       "    </tr>\n",
       "  </tbody>\n",
       "</table>\n",
       "</div>"
      ],
      "text/plain": [
       "                             price_per_m2\n",
       "cityCenters_nearest_upd_km               \n",
       "0.0                         245833.530289\n",
       "1.0                         177327.462388\n",
       "2.0                         158007.626791\n",
       "3.0                         121343.968251\n",
       "4.0                         133339.169054\n",
       "5.0                         140438.067713\n",
       "6.0                         150950.512282\n",
       "7.0                         156275.146563\n",
       "8.0                         125662.925827\n",
       "9.0                         113089.111687\n",
       "10.0                        112732.851393\n",
       "11.0                        108630.835324\n",
       "12.0                        107379.026299\n",
       "13.0                        107907.842753\n",
       "14.0                        103987.144876\n",
       "15.0                        104200.692220\n",
       "16.0                        100458.998102\n",
       "17.0                         96368.116591\n",
       "18.0                         96271.349572\n",
       "19.0                         98703.653988\n",
       "20.0                        101414.915127\n",
       "21.0                         94540.814651\n",
       "22.0                         91330.425050\n",
       "23.0                         91915.247964\n",
       "24.0                         84962.459210\n",
       "25.0                         91531.371618\n",
       "26.0                         89285.876593\n",
       "27.0                        132115.709459\n",
       "28.0                         81161.915320\n",
       "29.0                         72953.365445\n",
       "30.0                        156184.021871"
      ]
     },
     "execution_count": 103,
     "metadata": {},
     "output_type": "execute_result"
    }
   ],
   "source": [
    "#Ваша задача — выяснить, какая область входит в центр. \n",
    "#Создайте столбец с расстоянием до центра в километрах: округлите до целых значений. \n",
    "#После этого посчитайте среднюю цену для каждого километра. \n",
    "\n",
    "\n",
    "basic_data_6['cityCenters_nearest_upd_km'] = basic_data_6['cityCenters_nearest_upd'] / 1000\n",
    "\n",
    "basic_data_6['cityCenters_nearest_upd_km'] = basic_data_6['cityCenters_nearest_upd_km'].round(0)\n",
    "\n",
    "\n",
    "pivot_center=basic_data_6.pivot_table(index = 'cityCenters_nearest_upd_km', values = 'price_per_m2', aggfunc ='mean').sort_values(by = 'cityCenters_nearest_upd_km', ascending = True)\n",
    "\n",
    "\n",
    "pivot_center"
   ]
  },
  {
   "cell_type": "code",
   "execution_count": 104,
   "metadata": {},
   "outputs": [
    {
     "data": {
      "text/plain": [
       "<matplotlib.axes._subplots.AxesSubplot at 0x7f60ea2c1850>"
      ]
     },
     "execution_count": 104,
     "metadata": {},
     "output_type": "execute_result"
    },
    {
     "data": {
      "image/png": "[encoded data removed]",
      "text/plain": [
       "<Figure size 1080x360 with 1 Axes>"
      ]
     },
     "metadata": {
      "needs_background": "light"
     },
     "output_type": "display_data"
    }
   ],
   "source": [
    "#Постройте график: он должен показывать, как цена зависит от удалённости от центра. \n",
    "#Определите границу, где график сильно меняется — это и будет центральная зона.\n",
    "\n",
    "pivot_center.plot(y = 'price_per_m2', grid = True, figsize=(15,5))\n",
    "\n",
    "# видим ценовой пик на расстоянии от 3 до 0 и от 7 до 9\n",
    "# наш диапазон от 0 до 9"
   ]
  },
  {
   "cell_type": "code",
   "execution_count": 105,
   "metadata": {},
   "outputs": [
    {
     "name": "stdout",
     "output_type": "stream",
     "text": [
      "<class 'pandas.core.frame.DataFrame'>\n",
      "Int64Index: 4690 entries, 3 to 23694\n",
      "Data columns (total 37 columns):\n",
      "total_images                  4690 non-null int64\n",
      "last_price                    4690 non-null float64\n",
      "total_area                    4690 non-null float64\n",
      "first_day_exposition          4690 non-null datetime64[ns]\n",
      "rooms                         4690 non-null int64\n",
      "ceiling_height                3061 non-null float64\n",
      "floors_total                  4690 non-null int64\n",
      "living_area                   4313 non-null float64\n",
      "floor                         4690 non-null int64\n",
      "is_apartment                  4690 non-null object\n",
      "studio                        4690 non-null object\n",
      "open_plan                     4690 non-null object\n",
      "kitchen_area                  4275 non-null float64\n",
      "balcony                       4690 non-null int64\n",
      "locality_name                 4690 non-null object\n",
      "airports_nearest              4684 non-null float64\n",
      "cityCenters_nearest           4690 non-null float64\n",
      "parks_around3000              4690 non-null float64\n",
      "parks_nearest                 4690 non-null float64\n",
      "ponds_around3000              4690 non-null float64\n",
      "ponds_nearest                 4690 non-null float64\n",
      "days_exposition               4690 non-null float64\n",
      "living_area_upd               4690 non-null float64\n",
      "kitchen_area_upd              4690 non-null float64\n",
      "locality_type                 4690 non-null object\n",
      "ceiling_height_upd            4690 non-null float64\n",
      "location                      4690 non-null object\n",
      "airports_nearest_upd          4690 non-null float64\n",
      "cityCenters_nearest_upd       4690 non-null float64\n",
      "price_per_m2                  4690 non-null float64\n",
      "weekday                       4690 non-null int64\n",
      "month                         4690 non-null int64\n",
      "year                          4690 non-null int64\n",
      "floor_type                    4690 non-null object\n",
      "correlation_la_ta             4313 non-null float64\n",
      "correlation_ka_ta             4275 non-null float64\n",
      "cityCenters_nearest_upd_km    4690 non-null float64\n",
      "dtypes: datetime64[ns](1), float64(21), int64(8), object(7)\n",
      "memory usage: 1.4+ MB\n"
     ]
    }
   ],
   "source": [
    "basic_data_6 = basic_data_6[basic_data_6['cityCenters_nearest_upd_km'] <= 9]\n",
    "\n",
    "basic_data_6.info()\n",
    "\n",
    "#выделите сегмент квартир в центре. \n"
   ]
  },
  {
   "cell_type": "code",
   "execution_count": 106,
   "metadata": {},
   "outputs": [
    {
     "data": {
      "text/plain": [
       "count    4690.000000\n",
       "mean       86.642399\n",
       "std        56.698334\n",
       "min        12.000000\n",
       "25%        51.400000\n",
       "50%        73.000000\n",
       "75%       102.000000\n",
       "max       900.000000\n",
       "Name: total_area, dtype: float64"
      ]
     },
     "execution_count": 106,
     "metadata": {},
     "output_type": "execute_result"
    }
   ],
   "source": [
    "#Проанализируйте эту территорию и изучите следующие параметры: \n",
    "#площадь, \n",
    "\n",
    "basic_data_6['total_area'].describe()\n",
    "#по показателям - чаще всего продают 2-3-х комнатные квартиры (по площади), при этом, в разных домах, так как разная площадь у квартир (исходя из отличия среднего и медианы - размах внутри данных заметный)"
   ]
  },
  {
   "cell_type": "code",
   "execution_count": 107,
   "metadata": {},
   "outputs": [
    {
     "data": {
      "text/plain": [
       "count    4690.000000\n",
       "mean       13.302568\n",
       "std        22.278253\n",
       "min         0.012190\n",
       "25%         5.990000\n",
       "50%         8.500000\n",
       "75%        13.137500\n",
       "max       763.000000\n",
       "Name: last_price, dtype: float64"
      ]
     },
     "execution_count": 107,
     "metadata": {},
     "output_type": "execute_result"
    }
   ],
   "source": [
    "#Проанализируйте эту территорию и изучите следующие параметры: \n",
    "#цена\n",
    "\n",
    "(basic_data_6['last_price'] / 1000000).describe()\n",
    "# в среднем цена колеблется в пределах 8 миллионов, доходя до 13 (25%), свыше 13 - 25%, ниже 8 (до 6) 25%, остальные ниже 6"
   ]
  },
  {
   "cell_type": "code",
   "execution_count": 108,
   "metadata": {},
   "outputs": [
    {
     "data": {
      "text/plain": [
       "count    4690.000000\n",
       "mean        2.685288\n",
       "std         1.383839\n",
       "min         1.000000\n",
       "25%         2.000000\n",
       "50%         3.000000\n",
       "75%         3.000000\n",
       "max        19.000000\n",
       "Name: rooms, dtype: float64"
      ]
     },
     "execution_count": 108,
     "metadata": {},
     "output_type": "execute_result"
    }
   ],
   "source": [
    "#Проанализируйте эту территорию и изучите следующие параметры: \n",
    "#число комнат\n",
    "\n",
    "basic_data_6['rooms'].describe()"
   ]
  },
  {
   "cell_type": "code",
   "execution_count": 109,
   "metadata": {},
   "outputs": [
    {
     "data": {
      "text/plain": [
       "count    4690.000000\n",
       "mean        3.029770\n",
       "std         1.614021\n",
       "min         2.000000\n",
       "25%         2.800000\n",
       "50%         3.000000\n",
       "75%         3.100000\n",
       "max       100.000000\n",
       "Name: ceiling_height_upd, dtype: float64"
      ]
     },
     "execution_count": 109,
     "metadata": {},
     "output_type": "execute_result"
    }
   ],
   "source": [
    "#Проанализируйте эту территорию и изучите следующие параметры: \n",
    "#,высота потолков\n",
    "\n",
    "basic_data_6['ceiling_height_upd'].describe()\n",
    "#средняя высота потолков 3 метра, что в среднем, выше стандартной высоты"
   ]
  },
  {
   "cell_type": "code",
   "execution_count": 110,
   "metadata": {},
   "outputs": [
    {
     "data": {
      "image/png": "[encoded data removed]",
      "text/plain": [
       "<Figure size 432x288 with 1 Axes>"
      ]
     },
     "metadata": {
      "needs_background": "light"
     },
     "output_type": "display_data"
    },
    {
     "data": {
      "image/png": "[encoded data removed]",
      "text/plain": [
       "<Figure size 1080x360 with 1 Axes>"
      ]
     },
     "metadata": {
      "needs_background": "light"
     },
     "output_type": "display_data"
    },
    {
     "data": {
      "image/png": "[encoded data removed]",
      "text/plain": [
       "<Figure size 1080x360 with 1 Axes>"
      ]
     },
     "metadata": {
      "needs_background": "light"
     },
     "output_type": "display_data"
    }
   ],
   "source": [
    "#зависит ли цена от квадратного метра\n",
    "basic_data_6['total_area'].plot(kind= 'hist', bins = 20)\n",
    "plt.show()\n",
    "basic_data_6.boxplot(column = 'total_area', figsize = (15,5), vert = False, widths = 0.75, showmeans = True)\n",
    "plt.show()\n",
    "basic_data_6.plot(x='total_area', y='last_price', style='o', grid=True, figsize=(15, 5))\n",
    "plt.show()\n",
    "\n",
    "#отсуствует прямая зависимость площадь-цена. Мы не видим на графике такой явной закономерности\n",
    "#видим пик цены на метраже 150 с последующим незначительным снижением"
   ]
  },
  {
   "cell_type": "code",
   "execution_count": 111,
   "metadata": {},
   "outputs": [
    {
     "data": {
      "text/html": [
       "<style  type=\"text/css\" >\n",
       "</style><table id=\"T_39023d10_845a_11ec_a625_02420a3976a1\" ><thead>    <tr>        <th class=\"blank level0\" ></th>        <th class=\"col_heading level0 col0\" >last_price</th>    </tr>    <tr>        <th class=\"index_name level0\" >rooms</th>        <th class=\"blank\" ></th>    </tr></thead><tbody>\n",
       "                <tr>\n",
       "                        <th id=\"T_39023d10_845a_11ec_a625_02420a3976a1level0_row0\" class=\"row_heading level0 row0\" >1</th>\n",
       "                        <td id=\"T_39023d10_845a_11ec_a625_02420a3976a1row0_col0\" class=\"data row0 col0\" >5982967.367299</td>\n",
       "            </tr>\n",
       "            <tr>\n",
       "                        <th id=\"T_39023d10_845a_11ec_a625_02420a3976a1level0_row1\" class=\"row_heading level0 row1\" >2</th>\n",
       "                        <td id=\"T_39023d10_845a_11ec_a625_02420a3976a1row1_col0\" class=\"data row1 col0\" >8988377.054258</td>\n",
       "            </tr>\n",
       "            <tr>\n",
       "                        <th id=\"T_39023d10_845a_11ec_a625_02420a3976a1level0_row2\" class=\"row_heading level0 row2\" >3</th>\n",
       "                        <td id=\"T_39023d10_845a_11ec_a625_02420a3976a1row2_col0\" class=\"data row2 col0\" >13800229.813808</td>\n",
       "            </tr>\n",
       "            <tr>\n",
       "                        <th id=\"T_39023d10_845a_11ec_a625_02420a3976a1level0_row3\" class=\"row_heading level0 row3\" >4</th>\n",
       "                        <td id=\"T_39023d10_845a_11ec_a625_02420a3976a1row3_col0\" class=\"data row3 col0\" >19056552.023009</td>\n",
       "            </tr>\n",
       "            <tr>\n",
       "                        <th id=\"T_39023d10_845a_11ec_a625_02420a3976a1level0_row4\" class=\"row_heading level0 row4\" >11</th>\n",
       "                        <td id=\"T_39023d10_845a_11ec_a625_02420a3976a1row4_col0\" class=\"data row4 col0\" >25250000.000000</td>\n",
       "            </tr>\n",
       "            <tr>\n",
       "                        <th id=\"T_39023d10_845a_11ec_a625_02420a3976a1level0_row5\" class=\"row_heading level0 row5\" >14</th>\n",
       "                        <td id=\"T_39023d10_845a_11ec_a625_02420a3976a1row5_col0\" class=\"data row5 col0\" >26829500.000000</td>\n",
       "            </tr>\n",
       "            <tr>\n",
       "                        <th id=\"T_39023d10_845a_11ec_a625_02420a3976a1level0_row6\" class=\"row_heading level0 row6\" >10</th>\n",
       "                        <td id=\"T_39023d10_845a_11ec_a625_02420a3976a1row6_col0\" class=\"data row6 col0\" >27750000.000000</td>\n",
       "            </tr>\n",
       "            <tr>\n",
       "                        <th id=\"T_39023d10_845a_11ec_a625_02420a3976a1level0_row7\" class=\"row_heading level0 row7\" >5</th>\n",
       "                        <td id=\"T_39023d10_845a_11ec_a625_02420a3976a1row7_col0\" class=\"data row7 col0\" >28406633.312775</td>\n",
       "            </tr>\n",
       "            <tr>\n",
       "                        <th id=\"T_39023d10_845a_11ec_a625_02420a3976a1level0_row8\" class=\"row_heading level0 row8\" >16</th>\n",
       "                        <td id=\"T_39023d10_845a_11ec_a625_02420a3976a1row8_col0\" class=\"data row8 col0\" >28500000.000000</td>\n",
       "            </tr>\n",
       "            <tr>\n",
       "                        <th id=\"T_39023d10_845a_11ec_a625_02420a3976a1level0_row9\" class=\"row_heading level0 row9\" >19</th>\n",
       "                        <td id=\"T_39023d10_845a_11ec_a625_02420a3976a1row9_col0\" class=\"data row9 col0\" >32250000.000000</td>\n",
       "            </tr>\n",
       "            <tr>\n",
       "                        <th id=\"T_39023d10_845a_11ec_a625_02420a3976a1level0_row10\" class=\"row_heading level0 row10\" >6</th>\n",
       "                        <td id=\"T_39023d10_845a_11ec_a625_02420a3976a1row10_col0\" class=\"data row10 col0\" >35286815.395349</td>\n",
       "            </tr>\n",
       "            <tr>\n",
       "                        <th id=\"T_39023d10_845a_11ec_a625_02420a3976a1level0_row11\" class=\"row_heading level0 row11\" >9</th>\n",
       "                        <td id=\"T_39023d10_845a_11ec_a625_02420a3976a1row11_col0\" class=\"data row11 col0\" >44666666.666667</td>\n",
       "            </tr>\n",
       "            <tr>\n",
       "                        <th id=\"T_39023d10_845a_11ec_a625_02420a3976a1level0_row12\" class=\"row_heading level0 row12\" >8</th>\n",
       "                        <td id=\"T_39023d10_845a_11ec_a625_02420a3976a1row12_col0\" class=\"data row12 col0\" >51435454.545455</td>\n",
       "            </tr>\n",
       "            <tr>\n",
       "                        <th id=\"T_39023d10_845a_11ec_a625_02420a3976a1level0_row13\" class=\"row_heading level0 row13\" >7</th>\n",
       "                        <td id=\"T_39023d10_845a_11ec_a625_02420a3976a1row13_col0\" class=\"data row13 col0\" >51994259.259259</td>\n",
       "            </tr>\n",
       "            <tr>\n",
       "                        <th id=\"T_39023d10_845a_11ec_a625_02420a3976a1level0_row14\" class=\"row_heading level0 row14\" >15</th>\n",
       "                        <td id=\"T_39023d10_845a_11ec_a625_02420a3976a1row14_col0\" class=\"data row14 col0\" >65000000.000000</td>\n",
       "            </tr>\n",
       "            <tr>\n",
       "                        <th id=\"T_39023d10_845a_11ec_a625_02420a3976a1level0_row15\" class=\"row_heading level0 row15\" >12</th>\n",
       "                        <td id=\"T_39023d10_845a_11ec_a625_02420a3976a1row15_col0\" class=\"data row15 col0\" >420000000.000000</td>\n",
       "            </tr>\n",
       "    </tbody></table>"
      ],
      "text/plain": [
       "<pandas.io.formats.style.Styler at 0x7f613574d210>"
      ]
     },
     "execution_count": 111,
     "metadata": {},
     "output_type": "execute_result"
    }
   ],
   "source": [
    "#проверка на зависимость от числа комнат\n",
    "mean_rooms=basic_data_6.pivot_table(index = 'rooms', values = 'last_price', aggfunc ='mean').sort_values(by = 'last_price')\n",
    "\n",
    "mean_rooms.style.format('{:2f}')\n",
    "\n",
    "#однозначную зависимость категории - чем больше комнат, тнм больше цена подтвердить в полной мере нельзя. Однако, такая закономерность наблюдается для квартир с количеством комнат от 1 до 4\n",
    "#по сравнению с генеральной совокупностью, в выборке зависимость прослеживается четче"
   ]
  },
  {
   "cell_type": "code",
   "execution_count": 112,
   "metadata": {},
   "outputs": [
    {
     "data": {
      "text/html": [
       "<style  type=\"text/css\" >\n",
       "</style><table id=\"T_394cb2b4_845a_11ec_a625_02420a3976a1\" ><thead>    <tr>        <th class=\"blank level0\" ></th>        <th class=\"col_heading level0 col0\" >last_price</th>    </tr>    <tr>        <th class=\"index_name level0\" >floor_type</th>        <th class=\"blank\" ></th>    </tr></thead><tbody>\n",
       "                <tr>\n",
       "                        <th id=\"T_394cb2b4_845a_11ec_a625_02420a3976a1level0_row0\" class=\"row_heading level0 row0\" >первый</th>\n",
       "                        <td id=\"T_394cb2b4_845a_11ec_a625_02420a3976a1row0_col0\" class=\"data row0 col0\" >8611281.341564</td>\n",
       "            </tr>\n",
       "            <tr>\n",
       "                        <th id=\"T_394cb2b4_845a_11ec_a625_02420a3976a1level0_row1\" class=\"row_heading level0 row1\" >другой</th>\n",
       "                        <td id=\"T_394cb2b4_845a_11ec_a625_02420a3976a1row1_col0\" class=\"data row1 col0\" >13131448.040363</td>\n",
       "            </tr>\n",
       "            <tr>\n",
       "                        <th id=\"T_394cb2b4_845a_11ec_a625_02420a3976a1level0_row2\" class=\"row_heading level0 row2\" >последний</th>\n",
       "                        <td id=\"T_394cb2b4_845a_11ec_a625_02420a3976a1row2_col0\" class=\"data row2 col0\" >16952280.508280</td>\n",
       "            </tr>\n",
       "    </tbody></table>"
      ],
      "text/plain": [
       "<pandas.io.formats.style.Styler at 0x7f6135746c50>"
      ]
     },
     "execution_count": 112,
     "metadata": {},
     "output_type": "execute_result"
    }
   ],
   "source": [
    "#зависимость цены от того, на каком этаже расположена квартира: первом, последнем или другом.\n",
    "\n",
    "mean_floor_type=basic_data_6.pivot_table(index = 'floor_type', values = 'last_price', aggfunc ='mean').sort_values(by = 'last_price')\n",
    "\n",
    "mean_floor_type.style.format('{:2f}')\n",
    "#видим прямую зависимость цены от этажности. Самый дорогой-последний этаж, дешевый 1. Зависимость аналогична генеральнйо совокупности"
   ]
  },
  {
   "cell_type": "code",
   "execution_count": 113,
   "metadata": {},
   "outputs": [
    {
     "data": {
      "text/html": [
       "<style  type=\"text/css\" >\n",
       "</style><table id=\"T_39acd2f2_845a_11ec_a625_02420a3976a1\" ><thead>    <tr>        <th class=\"blank level0\" ></th>        <th class=\"col_heading level0 col0\" >last_price</th>    </tr>    <tr>        <th class=\"index_name level0\" >cityCenters_nearest_upd_km</th>        <th class=\"blank\" ></th>    </tr></thead><tbody>\n",
       "                <tr>\n",
       "                        <th id=\"T_39acd2f2_845a_11ec_a625_02420a3976a1level0_row0\" class=\"row_heading level0 row0\" >9.0</th>\n",
       "                        <td id=\"T_39acd2f2_845a_11ec_a625_02420a3976a1row0_col0\" class=\"data row0 col0\" >6963401.923858</td>\n",
       "            </tr>\n",
       "            <tr>\n",
       "                        <th id=\"T_39acd2f2_845a_11ec_a625_02420a3976a1level0_row1\" class=\"row_heading level0 row1\" >8.0</th>\n",
       "                        <td id=\"T_39acd2f2_845a_11ec_a625_02420a3976a1row1_col0\" class=\"data row1 col0\" >10017490.600677</td>\n",
       "            </tr>\n",
       "            <tr>\n",
       "                        <th id=\"T_39acd2f2_845a_11ec_a625_02420a3976a1level0_row2\" class=\"row_heading level0 row2\" >3.0</th>\n",
       "                        <td id=\"T_39acd2f2_845a_11ec_a625_02420a3976a1row2_col0\" class=\"data row2 col0\" >11149579.802292</td>\n",
       "            </tr>\n",
       "            <tr>\n",
       "                        <th id=\"T_39acd2f2_845a_11ec_a625_02420a3976a1level0_row3\" class=\"row_heading level0 row3\" >4.0</th>\n",
       "                        <td id=\"T_39acd2f2_845a_11ec_a625_02420a3976a1row3_col0\" class=\"data row3 col0\" >13320477.898108</td>\n",
       "            </tr>\n",
       "            <tr>\n",
       "                        <th id=\"T_39acd2f2_845a_11ec_a625_02420a3976a1level0_row4\" class=\"row_heading level0 row4\" >5.0</th>\n",
       "                        <td id=\"T_39acd2f2_845a_11ec_a625_02420a3976a1row4_col0\" class=\"data row4 col0\" >14530612.187568</td>\n",
       "            </tr>\n",
       "            <tr>\n",
       "                        <th id=\"T_39acd2f2_845a_11ec_a625_02420a3976a1level0_row5\" class=\"row_heading level0 row5\" >7.0</th>\n",
       "                        <td id=\"T_39acd2f2_845a_11ec_a625_02420a3976a1row5_col0\" class=\"data row5 col0\" >14830225.086124</td>\n",
       "            </tr>\n",
       "            <tr>\n",
       "                        <th id=\"T_39acd2f2_845a_11ec_a625_02420a3976a1level0_row6\" class=\"row_heading level0 row6\" >6.0</th>\n",
       "                        <td id=\"T_39acd2f2_845a_11ec_a625_02420a3976a1row6_col0\" class=\"data row6 col0\" >15328418.270049</td>\n",
       "            </tr>\n",
       "            <tr>\n",
       "                        <th id=\"T_39acd2f2_845a_11ec_a625_02420a3976a1level0_row7\" class=\"row_heading level0 row7\" >2.0</th>\n",
       "                        <td id=\"T_39acd2f2_845a_11ec_a625_02420a3976a1row7_col0\" class=\"data row7 col0\" >17886620.389610</td>\n",
       "            </tr>\n",
       "            <tr>\n",
       "                        <th id=\"T_39acd2f2_845a_11ec_a625_02420a3976a1level0_row8\" class=\"row_heading level0 row8\" >1.0</th>\n",
       "                        <td id=\"T_39acd2f2_845a_11ec_a625_02420a3976a1row8_col0\" class=\"data row8 col0\" >21274818.842932</td>\n",
       "            </tr>\n",
       "            <tr>\n",
       "                        <th id=\"T_39acd2f2_845a_11ec_a625_02420a3976a1level0_row9\" class=\"row_heading level0 row9\" >0.0</th>\n",
       "                        <td id=\"T_39acd2f2_845a_11ec_a625_02420a3976a1row9_col0\" class=\"data row9 col0\" >31449115.851852</td>\n",
       "            </tr>\n",
       "    </tbody></table>"
      ],
      "text/plain": [
       "<pandas.io.formats.style.Styler at 0x7f60ea3f24d0>"
      ]
     },
     "execution_count": 113,
     "metadata": {},
     "output_type": "execute_result"
    }
   ],
   "source": [
    "#удалённость от центра\n",
    "\n",
    "#Изучите, зависит ли цена от удалённости от центра\n",
    "mean_cityCenters_nearest=basic_data_6.pivot_table(index = 'cityCenters_nearest_upd_km', values = 'last_price', aggfunc ='mean').sort_values(by = 'last_price')\n",
    "\n",
    "mean_cityCenters_nearest.style.format('{:2f}')\n",
    "\n",
    "#видим прямую зависимость цены от удаленности от центра. Чем квартира ближе к центру, тем она дороже."
   ]
  },
  {
   "cell_type": "code",
   "execution_count": 114,
   "metadata": {},
   "outputs": [
    {
     "data": {
      "text/html": [
       "<style  type=\"text/css\" >\n",
       "</style><table id=\"T_3a09c214_845a_11ec_a625_02420a3976a1\" ><thead>    <tr>        <th class=\"blank level0\" ></th>        <th class=\"col_heading level0 col0\" >last_price</th>    </tr>    <tr>        <th class=\"index_name level0\" >weekday</th>        <th class=\"blank\" ></th>    </tr></thead><tbody>\n",
       "                <tr>\n",
       "                        <th id=\"T_3a09c214_845a_11ec_a625_02420a3976a1level0_row0\" class=\"row_heading level0 row0\" >1</th>\n",
       "                        <td id=\"T_3a09c214_845a_11ec_a625_02420a3976a1row0_col0\" class=\"data row0 col0\" >12453043.728834</td>\n",
       "            </tr>\n",
       "            <tr>\n",
       "                        <th id=\"T_3a09c214_845a_11ec_a625_02420a3976a1level0_row1\" class=\"row_heading level0 row1\" >4</th>\n",
       "                        <td id=\"T_3a09c214_845a_11ec_a625_02420a3976a1row1_col0\" class=\"data row1 col0\" >12892564.533163</td>\n",
       "            </tr>\n",
       "            <tr>\n",
       "                        <th id=\"T_3a09c214_845a_11ec_a625_02420a3976a1level0_row2\" class=\"row_heading level0 row2\" >0</th>\n",
       "                        <td id=\"T_3a09c214_845a_11ec_a625_02420a3976a1row2_col0\" class=\"data row2 col0\" >13104759.951724</td>\n",
       "            </tr>\n",
       "            <tr>\n",
       "                        <th id=\"T_3a09c214_845a_11ec_a625_02420a3976a1level0_row3\" class=\"row_heading level0 row3\" >3</th>\n",
       "                        <td id=\"T_3a09c214_845a_11ec_a625_02420a3976a1row3_col0\" class=\"data row3 col0\" >13212514.412393</td>\n",
       "            </tr>\n",
       "            <tr>\n",
       "                        <th id=\"T_3a09c214_845a_11ec_a625_02420a3976a1level0_row4\" class=\"row_heading level0 row4\" >6</th>\n",
       "                        <td id=\"T_3a09c214_845a_11ec_a625_02420a3976a1row4_col0\" class=\"data row4 col0\" >13230699.570934</td>\n",
       "            </tr>\n",
       "            <tr>\n",
       "                        <th id=\"T_3a09c214_845a_11ec_a625_02420a3976a1level0_row5\" class=\"row_heading level0 row5\" >2</th>\n",
       "                        <td id=\"T_3a09c214_845a_11ec_a625_02420a3976a1row5_col0\" class=\"data row5 col0\" >13445284.251580</td>\n",
       "            </tr>\n",
       "            <tr>\n",
       "                        <th id=\"T_3a09c214_845a_11ec_a625_02420a3976a1level0_row6\" class=\"row_heading level0 row6\" >5</th>\n",
       "                        <td id=\"T_3a09c214_845a_11ec_a625_02420a3976a1row6_col0\" class=\"data row6 col0\" >16586531.640000</td>\n",
       "            </tr>\n",
       "    </tbody></table>"
      ],
      "text/plain": [
       "<pandas.io.formats.style.Styler at 0x7f60ea3f2450>"
      ]
     },
     "execution_count": 114,
     "metadata": {},
     "output_type": "execute_result"
    }
   ],
   "source": [
    "#дата размещения объявления). дата\n",
    "\n",
    "mean_weekday=basic_data_6.pivot_table(index = 'weekday', values = 'last_price', aggfunc ='mean').sort_values(by = 'last_price')\n",
    "\n",
    "mean_weekday.style.format('{:2f}')\n",
    "#четкая закономерность отсуствует"
   ]
  },
  {
   "cell_type": "code",
   "execution_count": 115,
   "metadata": {},
   "outputs": [
    {
     "data": {
      "text/html": [
       "<style  type=\"text/css\" >\n",
       "</style><table id=\"T_3a634f8c_845a_11ec_a625_02420a3976a1\" ><thead>    <tr>        <th class=\"blank level0\" ></th>        <th class=\"col_heading level0 col0\" >last_price</th>    </tr>    <tr>        <th class=\"index_name level0\" >month</th>        <th class=\"blank\" ></th>    </tr></thead><tbody>\n",
       "                <tr>\n",
       "                        <th id=\"T_3a634f8c_845a_11ec_a625_02420a3976a1level0_row0\" class=\"row_heading level0 row0\" >10</th>\n",
       "                        <td id=\"T_3a634f8c_845a_11ec_a625_02420a3976a1row0_col0\" class=\"data row0 col0\" >12066241.537500</td>\n",
       "            </tr>\n",
       "            <tr>\n",
       "                        <th id=\"T_3a634f8c_845a_11ec_a625_02420a3976a1level0_row1\" class=\"row_heading level0 row1\" >8</th>\n",
       "                        <td id=\"T_3a634f8c_845a_11ec_a625_02420a3976a1row1_col0\" class=\"data row1 col0\" >12648751.108571</td>\n",
       "            </tr>\n",
       "            <tr>\n",
       "                        <th id=\"T_3a634f8c_845a_11ec_a625_02420a3976a1level0_row2\" class=\"row_heading level0 row2\" >3</th>\n",
       "                        <td id=\"T_3a634f8c_845a_11ec_a625_02420a3976a1row2_col0\" class=\"data row2 col0\" >12821539.742633</td>\n",
       "            </tr>\n",
       "            <tr>\n",
       "                        <th id=\"T_3a634f8c_845a_11ec_a625_02420a3976a1level0_row3\" class=\"row_heading level0 row3\" >6</th>\n",
       "                        <td id=\"T_3a634f8c_845a_11ec_a625_02420a3976a1row3_col0\" class=\"data row3 col0\" >12881350.271978</td>\n",
       "            </tr>\n",
       "            <tr>\n",
       "                        <th id=\"T_3a634f8c_845a_11ec_a625_02420a3976a1level0_row4\" class=\"row_heading level0 row4\" >11</th>\n",
       "                        <td id=\"T_3a634f8c_845a_11ec_a625_02420a3976a1row4_col0\" class=\"data row4 col0\" >12886663.081678</td>\n",
       "            </tr>\n",
       "            <tr>\n",
       "                        <th id=\"T_3a634f8c_845a_11ec_a625_02420a3976a1level0_row5\" class=\"row_heading level0 row5\" >5</th>\n",
       "                        <td id=\"T_3a634f8c_845a_11ec_a625_02420a3976a1row5_col0\" class=\"data row5 col0\" >13097333.759124</td>\n",
       "            </tr>\n",
       "            <tr>\n",
       "                        <th id=\"T_3a634f8c_845a_11ec_a625_02420a3976a1level0_row6\" class=\"row_heading level0 row6\" >2</th>\n",
       "                        <td id=\"T_3a634f8c_845a_11ec_a625_02420a3976a1row6_col0\" class=\"data row6 col0\" >13210324.726733</td>\n",
       "            </tr>\n",
       "            <tr>\n",
       "                        <th id=\"T_3a634f8c_845a_11ec_a625_02420a3976a1level0_row7\" class=\"row_heading level0 row7\" >7</th>\n",
       "                        <td id=\"T_3a634f8c_845a_11ec_a625_02420a3976a1row7_col0\" class=\"data row7 col0\" >13372526.612022</td>\n",
       "            </tr>\n",
       "            <tr>\n",
       "                        <th id=\"T_3a634f8c_845a_11ec_a625_02420a3976a1level0_row8\" class=\"row_heading level0 row8\" >1</th>\n",
       "                        <td id=\"T_3a634f8c_845a_11ec_a625_02420a3976a1row8_col0\" class=\"data row8 col0\" >13775259.837838</td>\n",
       "            </tr>\n",
       "            <tr>\n",
       "                        <th id=\"T_3a634f8c_845a_11ec_a625_02420a3976a1level0_row9\" class=\"row_heading level0 row9\" >4</th>\n",
       "                        <td id=\"T_3a634f8c_845a_11ec_a625_02420a3976a1row9_col0\" class=\"data row9 col0\" >13973679.420000</td>\n",
       "            </tr>\n",
       "            <tr>\n",
       "                        <th id=\"T_3a634f8c_845a_11ec_a625_02420a3976a1level0_row10\" class=\"row_heading level0 row10\" >9</th>\n",
       "                        <td id=\"T_3a634f8c_845a_11ec_a625_02420a3976a1row10_col0\" class=\"data row10 col0\" >14181483.500000</td>\n",
       "            </tr>\n",
       "            <tr>\n",
       "                        <th id=\"T_3a634f8c_845a_11ec_a625_02420a3976a1level0_row11\" class=\"row_heading level0 row11\" >12</th>\n",
       "                        <td id=\"T_3a634f8c_845a_11ec_a625_02420a3976a1row11_col0\" class=\"data row11 col0\" >15152572.137931</td>\n",
       "            </tr>\n",
       "    </tbody></table>"
      ],
      "text/plain": [
       "<pandas.io.formats.style.Styler at 0x7f60ea37ee10>"
      ]
     },
     "execution_count": 115,
     "metadata": {},
     "output_type": "execute_result"
    }
   ],
   "source": [
    "#дата размещения объявления). месяц \n",
    "mean_weekday=basic_data_6.pivot_table(index = 'month', values = 'last_price', aggfunc ='mean').sort_values(by = 'last_price')\n",
    "\n",
    "mean_weekday.style.format('{:2f}')\n",
    "#четкая закономерность отсуствует"
   ]
  },
  {
   "cell_type": "code",
   "execution_count": 116,
   "metadata": {},
   "outputs": [
    {
     "data": {
      "text/html": [
       "<style  type=\"text/css\" >\n",
       "</style><table id=\"T_472112fe_845a_11ec_a625_02420a3976a1\" ><thead>    <tr>        <th class=\"blank level0\" ></th>        <th class=\"col_heading level0 col0\" >last_price</th>    </tr>    <tr>        <th class=\"index_name level0\" >year</th>        <th class=\"blank\" ></th>    </tr></thead><tbody>\n",
       "                <tr>\n",
       "                        <th id=\"T_472112fe_845a_11ec_a625_02420a3976a1level0_row0\" class=\"row_heading level0 row0\" >2018</th>\n",
       "                        <td id=\"T_472112fe_845a_11ec_a625_02420a3976a1row0_col0\" class=\"data row0 col0\" >11465435.601231</td>\n",
       "            </tr>\n",
       "            <tr>\n",
       "                        <th id=\"T_472112fe_845a_11ec_a625_02420a3976a1level0_row1\" class=\"row_heading level0 row1\" >2019</th>\n",
       "                        <td id=\"T_472112fe_845a_11ec_a625_02420a3976a1row1_col0\" class=\"data row1 col0\" >13313249.429644</td>\n",
       "            </tr>\n",
       "            <tr>\n",
       "                        <th id=\"T_472112fe_845a_11ec_a625_02420a3976a1level0_row2\" class=\"row_heading level0 row2\" >2017</th>\n",
       "                        <td id=\"T_472112fe_845a_11ec_a625_02420a3976a1row2_col0\" class=\"data row2 col0\" >13817950.763526</td>\n",
       "            </tr>\n",
       "            <tr>\n",
       "                        <th id=\"T_472112fe_845a_11ec_a625_02420a3976a1level0_row3\" class=\"row_heading level0 row3\" >2016</th>\n",
       "                        <td id=\"T_472112fe_845a_11ec_a625_02420a3976a1row3_col0\" class=\"data row3 col0\" >14176804.926984</td>\n",
       "            </tr>\n",
       "            <tr>\n",
       "                        <th id=\"T_472112fe_845a_11ec_a625_02420a3976a1level0_row4\" class=\"row_heading level0 row4\" >2015</th>\n",
       "                        <td id=\"T_472112fe_845a_11ec_a625_02420a3976a1row4_col0\" class=\"data row4 col0\" >15802096.698163</td>\n",
       "            </tr>\n",
       "            <tr>\n",
       "                        <th id=\"T_472112fe_845a_11ec_a625_02420a3976a1level0_row5\" class=\"row_heading level0 row5\" >2014</th>\n",
       "                        <td id=\"T_472112fe_845a_11ec_a625_02420a3976a1row5_col0\" class=\"data row5 col0\" >21746154.717949</td>\n",
       "            </tr>\n",
       "    </tbody></table>"
      ],
      "text/plain": [
       "<pandas.io.formats.style.Styler at 0x7f61357d66d0>"
      ]
     },
     "execution_count": 116,
     "metadata": {},
     "output_type": "execute_result"
    }
   ],
   "source": [
    "#дата размещения объявления). год\n",
    "mean_weekday=basic_data_6.pivot_table(index = 'year', values = 'last_price', aggfunc ='mean').sort_values(by = 'last_price')\n",
    "\n",
    "mean_weekday.style.format('{:2f}')\n",
    "#четкая закономерность c 2014 по 2017 год (каждый год цена растет, что закономерно), а вто в 2019 произошло снижение цены.\n",
    "#оценочно - в связи со снижением покупательского спроса на ткие квартиры или измнение качественных характеристик квартир."
   ]
  },
  {
   "cell_type": "markdown",
   "metadata": {},
   "source": [
    "#Сделайте выводы. Отличаются ли они от общих выводов по всему городу? \n",
    "В целом, зависимости генеральной совокупности и вборки идентичны.\n",
    "Больше всего цена чувтсвительна к местоположению."
   ]
  },
  {
   "cell_type": "markdown",
   "metadata": {},
   "source": [
    "<div style=\"border:solid  green  2px; padding: 20px\"> <h1 style=\"color: green ; margin-bottom:20px\">Комментарий наставника</h1>\n",
    "\n",
    "Просто класс! Очень здорово и детально, работа проделана колоссальная, продолжай в том же духе\n"
   ]
  },
  {
   "cell_type": "markdown",
   "metadata": {},
   "source": [
    "### Шаг 5. Общий вывод"
   ]
  },
  {
   "cell_type": "markdown",
   "metadata": {},
   "source": [
    "Проведено исследование о продаже квартир. Было выявлено много пропусков в данных, связанных, предположительно,с двумя причинами: пропуск в заполнении с данными, в случае, если показатель отсуствует (например, парк рядом), ошибки, возможно часть данных была скрыта намеренно (например - удаленность от города). Заполнение пропусков произведено по двус алгоритмам - там, где есть логически обоснованный способ - расчетными данными (чаще всего медианы по группам параметров или по параметру), где такой способ остустовал 0 (для категориальных данных условный показатель (прочие и т.д.)).\n",
    "Были проанализированы оценочно выдвинутеы факторы, влияющие на цену по генеральной совокупности и выборке (квартиры в центре).\n",
    "Тенденции зависимости стоимости совпали.\n",
    "Основный фактором является местонахождение квартиры (удаление от центра)."
   ]
  },
  {
   "cell_type": "markdown",
   "metadata": {},
   "source": [
    "<div style=\"border:solid green 2px; padding: 20px\"> <h1 style=\"color:green; margin-bottom:20px\">Комментарий наставника</h1>\n",
    "\n",
    "Точные и обоснованные выводы, супер)"
   ]
  },
  {
   "cell_type": "markdown",
   "metadata": {},
   "source": [
    "### Чек-лист готовности проекта\n",
    "\n",
    "Поставьте 'x' в выполненных пунктах. Далее нажмите Shift+Enter."
   ]
  },
  {
   "cell_type": "markdown",
   "metadata": {},
   "source": [
    "- [x]  открыт файл\n",
    "- [x]  файлы изучены (выведены первые строки, метод info())\n",
    "- [x]  определены пропущенные значения\n",
    "- [x]  заполнены пропущенные значения\n",
    "- [x]  есть пояснение какие пропущенные значения обнаружены\n",
    "- [x]  изменены типы данных\n",
    "- [x]  есть пояснение в каких столбцах изменены типы и почему\n",
    "- [x]  посчитано и добавлено в таблицу: цена квадратного метра\n",
    "- [x]  посчитано и добавлено в таблицу: день недели, месяц и год публикации объявления\n",
    "- [x]  посчитано и добавлено в таблицу: этаж квартиры; варианты — первый, последний, другой\n",
    "- [x]  посчитано и добавлено в таблицу: соотношение жилой и общей площади, а также отношение площади кухни к общей\n",
    "- [x]  изучены следующие параметры: площадь, цена, число комнат, высота потолков\n",
    "- [x]  построены гистограммы для каждого параметра\n",
    "- [x]  выполнено задание: \"Изучите время продажи квартиры. Постройте гистограмму. Посчитайте среднее и медиану. Опишите, сколько обычно занимает продажа. Когда можно считать, что продажи прошли очень быстро, а когда необычно долго?\"\n",
    "- [x]  выполнено задание: \"Уберите редкие и выбивающиеся значения. Опишите, какие особенности обнаружили.\"\n",
    "- [x]  выполнено задание: \"Какие факторы больше всего влияют на стоимость квартиры? Изучите, зависит ли цена от квадратного метра, числа комнат, этажа (первого или последнего), удалённости от центра. Также изучите зависимость от даты размещения: дня недели, месяца и года. \"Выберите 10 населённых пунктов с наибольшим числом объявлений. Посчитайте среднюю цену квадратного метра в этих населённых пунктах. Выделите населённые пункты с самой высокой и низкой стоимостью жилья. Эти данные можно найти по имени в столбце '*locality_name'*. \"\n",
    "- [x]  выполнено задание: \"Изучите предложения квартир: для каждой квартиры есть информация о расстоянии до центра. Выделите квартиры в Санкт-Петербурге (*'locality_name'*). Ваша задача — выяснить, какая область входит в центр. Создайте столбец с расстоянием до центра в километрах: округлите до целых значений. После этого посчитайте среднюю цену для каждого километра. Постройте график: он должен показывать, как цена зависит от удалённости от центра. Определите границу, где график сильно меняется — это и будет центральная зона. \"\n",
    "- [x]  выполнено задание: \"Выделите сегмент квартир в центре. Проанализируйте эту территорию и изучите следующие параметры: площадь, цена, число комнат, высота потолков. Также выделите факторы, которые влияют на стоимость квартиры (число комнат, этаж, удалённость от центра, дата размещения объявления). Сделайте выводы. Отличаются ли они от общих выводов по всему городу?\"\n",
    "- [x]  в каждом этапе есть выводы\n",
    "- [x]  есть общий вывод"
   ]
  },
  {
   "cell_type": "markdown",
   "metadata": {},
   "source": [
    "<div style=\"border:solid  green  2px; padding: 20px\">\n",
    "\n",
    "<h1 style=\"color: green ; margin-bottom:20px\">Комментарий наставника</h1>\n",
    "\n",
    "#### Код\n",
    "\n",
    "Всё отлично. Из того, что очень порадовало - соблюдена структура проекта, шаги из задания обозначены и выполнены последовательно, код написан аккуратно, используются комментарии к коду, быстро можно понять, какие операции выполняют сложные конструкции. В качестве совета предлагаю глубже изучить библиотеку Seaborn для построения более ярких и качественных визуализаций в Python, так как иногда хорошая красочная визуализация может сказать очень многое о данных.\n",
    "\n",
    "#### Выводы\n",
    "\n",
    "Ты пишешь отличные обоснованные выводы по проделанной раблоте и выдвигаешь корректные гипотезы - это очень радует!) Так же видно глубокое понимание проведённого анализа. Было очень интересно проверять твой проект и следить за твоей мыслью, продолжай в том же духе) Удачи!)"
   ]
  }
 ],
 "metadata": {
  "ExecuteTimeLog": [
   {
    "duration": 743,
    "start_time": "2022-02-02T18:57:23.875Z"
   },
   {
    "duration": 24,
    "start_time": "2022-02-02T18:57:24.620Z"
   },
   {
    "duration": 7,
    "start_time": "2022-02-02T18:57:26.351Z"
   },
   {
    "duration": 7,
    "start_time": "2022-02-02T18:57:26.907Z"
   },
   {
    "duration": 6,
    "start_time": "2022-02-02T18:57:27.484Z"
   },
   {
    "duration": 6,
    "start_time": "2022-02-02T18:57:28.087Z"
   },
   {
    "duration": 7,
    "start_time": "2022-02-02T18:57:28.618Z"
   },
   {
    "duration": 6,
    "start_time": "2022-02-02T18:57:29.147Z"
   },
   {
    "duration": 8,
    "start_time": "2022-02-02T18:57:29.633Z"
   },
   {
    "duration": 8,
    "start_time": "2022-02-02T18:57:30.108Z"
   },
   {
    "duration": 8,
    "start_time": "2022-02-02T18:57:30.579Z"
   },
   {
    "duration": 18,
    "start_time": "2022-02-02T18:57:31.680Z"
   },
   {
    "duration": 21,
    "start_time": "2022-02-02T18:57:32.286Z"
   },
   {
    "duration": 6,
    "start_time": "2022-02-02T18:57:32.921Z"
   },
   {
    "duration": 4,
    "start_time": "2022-02-02T18:57:33.593Z"
   },
   {
    "duration": 7,
    "start_time": "2022-02-02T18:57:34.210Z"
   },
   {
    "duration": 9,
    "start_time": "2022-02-02T18:57:34.803Z"
   },
   {
    "duration": 53,
    "start_time": "2022-02-02T18:57:35.510Z"
   },
   {
    "duration": 6,
    "start_time": "2022-02-02T18:57:36.144Z"
   },
   {
    "duration": 5,
    "start_time": "2022-02-02T18:57:36.751Z"
   },
   {
    "duration": 6,
    "start_time": "2022-02-02T18:57:37.645Z"
   },
   {
    "duration": 16,
    "start_time": "2022-02-02T18:57:38.198Z"
   },
   {
    "duration": 5,
    "start_time": "2022-02-02T18:57:38.778Z"
   },
   {
    "duration": 6,
    "start_time": "2022-02-02T18:57:39.351Z"
   },
   {
    "duration": 8,
    "start_time": "2022-02-02T18:57:40.778Z"
   },
   {
    "duration": 7,
    "start_time": "2022-02-02T18:57:41.469Z"
   },
   {
    "duration": 9,
    "start_time": "2022-02-02T18:57:42.130Z"
   },
   {
    "duration": 51,
    "start_time": "2022-02-02T18:57:42.705Z"
   },
   {
    "duration": 6,
    "start_time": "2022-02-02T18:57:43.320Z"
   },
   {
    "duration": 7,
    "start_time": "2022-02-02T18:57:43.866Z"
   },
   {
    "duration": 10,
    "start_time": "2022-02-02T18:57:44.506Z"
   },
   {
    "duration": 4,
    "start_time": "2022-02-02T18:57:45.156Z"
   },
   {
    "duration": 6,
    "start_time": "2022-02-02T18:57:45.702Z"
   },
   {
    "duration": 6,
    "start_time": "2022-02-02T18:57:46.253Z"
   },
   {
    "duration": 8,
    "start_time": "2022-02-02T18:57:46.815Z"
   },
   {
    "duration": 5,
    "start_time": "2022-02-02T18:57:51.138Z"
   },
   {
    "duration": 8,
    "start_time": "2022-02-02T18:57:51.655Z"
   },
   {
    "duration": 6,
    "start_time": "2022-02-02T18:57:52.245Z"
   },
   {
    "duration": 9,
    "start_time": "2022-02-02T18:57:53.329Z"
   },
   {
    "duration": 71,
    "start_time": "2022-02-02T18:57:54.083Z"
   },
   {
    "duration": 7,
    "start_time": "2022-02-02T18:57:54.709Z"
   },
   {
    "duration": 9,
    "start_time": "2022-02-02T18:57:55.378Z"
   },
   {
    "duration": 61,
    "start_time": "2022-02-02T18:57:56.078Z"
   },
   {
    "duration": 6,
    "start_time": "2022-02-02T18:57:56.641Z"
   },
   {
    "duration": 9,
    "start_time": "2022-02-02T18:57:57.225Z"
   },
   {
    "duration": 59,
    "start_time": "2022-02-02T18:57:57.864Z"
   },
   {
    "duration": 7,
    "start_time": "2022-02-02T18:57:58.541Z"
   },
   {
    "duration": 9,
    "start_time": "2022-02-02T18:58:02.130Z"
   },
   {
    "duration": 3,
    "start_time": "2022-02-02T18:58:02.692Z"
   },
   {
    "duration": 6,
    "start_time": "2022-02-02T18:58:03.331Z"
   },
   {
    "duration": 12,
    "start_time": "2022-02-02T18:58:04.010Z"
   },
   {
    "duration": 5,
    "start_time": "2022-02-02T18:58:04.557Z"
   },
   {
    "duration": 6,
    "start_time": "2022-02-02T18:58:05.173Z"
   },
   {
    "duration": 10,
    "start_time": "2022-02-02T18:58:13.636Z"
   },
   {
    "duration": 4,
    "start_time": "2022-02-02T18:58:14.231Z"
   },
   {
    "duration": 7,
    "start_time": "2022-02-02T18:58:14.795Z"
   },
   {
    "duration": 13,
    "start_time": "2022-02-02T18:58:15.335Z"
   },
   {
    "duration": 8,
    "start_time": "2022-02-02T18:58:15.860Z"
   },
   {
    "duration": 4,
    "start_time": "2022-02-02T18:58:17.250Z"
   },
   {
    "duration": 6,
    "start_time": "2022-02-02T18:58:17.980Z"
   },
   {
    "duration": 13,
    "start_time": "2022-02-02T18:58:18.651Z"
   },
   {
    "duration": 7,
    "start_time": "2022-02-02T18:58:19.227Z"
   },
   {
    "duration": 4,
    "start_time": "2022-02-02T18:58:19.980Z"
   },
   {
    "duration": 6,
    "start_time": "2022-02-02T18:58:20.559Z"
   },
   {
    "duration": 15,
    "start_time": "2022-02-02T18:58:21.133Z"
   },
   {
    "duration": 13,
    "start_time": "2022-02-02T18:58:21.753Z"
   },
   {
    "duration": 14,
    "start_time": "2022-02-02T18:58:22.408Z"
   },
   {
    "duration": 5,
    "start_time": "2022-02-02T18:58:25.595Z"
   },
   {
    "duration": 12,
    "start_time": "2022-02-02T18:58:26.181Z"
   },
   {
    "duration": 543,
    "start_time": "2022-02-02T18:58:26.788Z"
   },
   {
    "duration": 5,
    "start_time": "2022-02-02T18:58:27.444Z"
   },
   {
    "duration": 19,
    "start_time": "2022-02-02T18:58:28.516Z"
   },
   {
    "duration": 2,
    "start_time": "2022-02-02T18:58:43.094Z"
   },
   {
    "duration": 8,
    "start_time": "2022-02-02T18:58:43.861Z"
   },
   {
    "duration": 8,
    "start_time": "2022-02-02T18:58:44.809Z"
   },
   {
    "duration": 7,
    "start_time": "2022-02-02T18:58:45.517Z"
   },
   {
    "duration": 9,
    "start_time": "2022-02-02T18:58:46.211Z"
   },
   {
    "duration": 1777,
    "start_time": "2022-02-02T18:58:46.936Z"
   },
   {
    "duration": 9,
    "start_time": "2022-02-02T18:58:50.451Z"
   },
   {
    "duration": 163,
    "start_time": "2022-02-02T18:58:50.580Z"
   },
   {
    "duration": 2,
    "start_time": "2022-02-02T18:58:51.851Z"
   },
   {
    "duration": 8,
    "start_time": "2022-02-02T18:58:52.552Z"
   },
   {
    "duration": 5,
    "start_time": "2022-02-02T18:58:53.141Z"
   },
   {
    "duration": 648,
    "start_time": "2022-02-02T18:58:54.168Z"
   },
   {
    "duration": 463,
    "start_time": "2022-02-02T18:58:57.640Z"
   },
   {
    "duration": 408,
    "start_time": "2022-02-02T18:58:58.191Z"
   },
   {
    "duration": 373,
    "start_time": "2022-02-02T18:58:58.893Z"
   },
   {
    "duration": 383,
    "start_time": "2022-02-02T18:58:59.463Z"
   },
   {
    "duration": 394,
    "start_time": "2022-02-02T18:59:00.018Z"
   },
   {
    "duration": 464,
    "start_time": "2022-02-02T18:59:00.629Z"
   },
   {
    "duration": 811,
    "start_time": "2022-02-02T18:59:01.187Z"
   },
   {
    "duration": 438,
    "start_time": "2022-02-02T18:59:02.000Z"
   },
   {
    "duration": 15,
    "start_time": "2022-02-02T18:59:02.545Z"
   },
   {
    "duration": 12,
    "start_time": "2022-02-02T18:59:03.058Z"
   },
   {
    "duration": 12,
    "start_time": "2022-02-02T18:59:03.671Z"
   },
   {
    "duration": 14,
    "start_time": "2022-02-02T18:59:04.589Z"
   },
   {
    "duration": 11,
    "start_time": "2022-02-02T18:59:05.179Z"
   },
   {
    "duration": 3,
    "start_time": "2022-02-02T18:59:05.787Z"
   },
   {
    "duration": 15,
    "start_time": "2022-02-02T18:59:06.418Z"
   },
   {
    "duration": 12,
    "start_time": "2022-02-02T18:59:07.275Z"
   },
   {
    "duration": 378,
    "start_time": "2022-02-02T18:59:11.373Z"
   },
   {
    "duration": 22,
    "start_time": "2022-02-02T18:59:12.085Z"
   },
   {
    "duration": 19,
    "start_time": "2022-02-02T18:59:12.810Z"
   },
   {
    "duration": 210,
    "start_time": "2022-02-02T18:59:13.539Z"
   },
   {
    "duration": 13,
    "start_time": "2022-02-02T18:59:14.150Z"
   },
   {
    "duration": 8,
    "start_time": "2022-02-02T18:59:14.752Z"
   },
   {
    "duration": 9,
    "start_time": "2022-02-02T18:59:15.408Z"
   },
   {
    "duration": 8,
    "start_time": "2022-02-02T18:59:16.104Z"
   },
   {
    "duration": 7,
    "start_time": "2022-02-02T18:59:16.790Z"
   },
   {
    "duration": 641,
    "start_time": "2022-02-02T18:59:17.350Z"
   },
   {
    "duration": 11,
    "start_time": "2022-02-02T18:59:17.993Z"
   },
   {
    "duration": 11,
    "start_time": "2022-02-02T18:59:18.481Z"
   },
   {
    "duration": 14,
    "start_time": "2022-02-02T18:59:19.109Z"
   },
   {
    "duration": 13,
    "start_time": "2022-02-02T18:59:19.719Z"
   },
   {
    "duration": 13,
    "start_time": "2022-02-02T18:59:20.306Z"
   },
   {
    "duration": 12,
    "start_time": "2022-02-02T18:59:41.682Z"
   },
   {
    "duration": 327,
    "start_time": "2022-02-02T18:59:51.797Z"
   },
   {
    "duration": 311,
    "start_time": "2022-02-02T19:00:02.703Z"
   }
  ],
  "kernelspec": {
   "display_name": "Python 3",
   "language": "python",
   "name": "python3"
  },
  "language_info": {
   "codemirror_mode": {
    "name": "ipython",
    "version": 3
   },
   "file_extension": ".py",
   "mimetype": "text/x-python",
   "name": "python",
   "nbconvert_exporter": "python",
   "pygments_lexer": "ipython3",
   "version": "3.7.8"
  },
  "toc": {
   "base_numbering": 1,
   "nav_menu": {},
   "number_sections": true,
   "sideBar": true,
   "skip_h1_title": true,
   "title_cell": "Table of Contents",
   "title_sidebar": "Contents",
   "toc_cell": false,
   "toc_position": {},
   "toc_section_display": true,
   "toc_window_display": false
  }
 },
 "nbformat": 4,
 "nbformat_minor": 2
}
